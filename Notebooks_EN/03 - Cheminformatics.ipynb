{
 "cells": [
  {
   "attachments": {},
   "cell_type": "markdown",
   "metadata": {},
   "source": [
    "# Introduction to cheminformatics using rdkit\n",
    "\n",
    "---\n",
    "### In this lesson you'll learn:\n",
    "\n",
    "- how to read smiles using `rdkit`.\n",
    "- how to manipulate and visualize molecules.\n",
    "- how to calculate molecule descriptors.\n",
    "- how to calculate the similarity of molecules using fingerprints.\n",
    "\n",
    "---\n",
    "\n",
    "Today's notebook is about the use of Python in cheminformatics. \n",
    "As a case study, you will be looking for an alternative to **Sorafenib**. [Sorafenib](https://en.wikipedia.org/wiki/Sorafenib) is a kinase inhibitor used mainly to treat advanced kidney cancer.\n",
    "\n",
    "As you learned in the lecture, the first hurdle in cheminformatics is to find a suitable format to store molecular structures. To read molecules into Python, the most obvious way is to use *SMILES*. These can be read and manipulated in Python without additional libraries. \n",
    "\n",
    "For many described structures you can find the structures in different formats on [PubChem](https://pubchem.ncbi.nlm.nih.gov/). \n",
    "Find the SMILES for sorafenib on PubChem and copy it into the cell below.\n",
    "\n",
    "\n",
    "<br>\n",
    "\n",
    "<details>\n",
    "<summary><strong>If you don't have internet access: click HERE</strong></summary>\n",
    "\n",
    "```python\n",
    "    sorafenib = \"CNC(=O)C1=NC=CC(=C1)OC2=CC=C(C=C2)NC(=O)NC3=CC(=C(C=C3)Cl)C(F)(F)F\"\n",
    "```\n",
    "</details>"
   ]
  },
  {
   "cell_type": "code",
   "execution_count": null,
   "metadata": {},
   "outputs": [],
   "source": [
    "sorafenib = \" \" # write the smiles in \" \" to tell Python that it's a string\n",
    "print(sorafenib)\n",
    "type(sorafenib)"
   ]
  },
  {
   "attachments": {},
   "cell_type": "markdown",
   "metadata": {},
   "source": [
    "As you can see, the SMILES are stored as `str` (`string`). We can actually manipulate this `string` and also apply functions.  However, the problem is that while Python understands the SMILES as a `string`, it cannot infer the underlying molecular structure from it. We have no way to obtain information about these molecules.  With `len(sorafenib)` it is possible to determine the length of the `string`, but it is not possible, for example, to determine how many atoms this molecule consists of.\n",
    "\n",
    "For this you need external libraries. One of the most used chemistry libraries is RDKit. \n",
    "The most important functions can be loaded with `from rdkit.Chem import AllChem as Chem`. With RDKit you can not only read and display molecules, but also manipulate them and calculate properties. \n",
    "To interpret a SMILES as a molecule, use `Chem.MolFromSmiles(SMILES)`."
   ]
  },
  {
   "cell_type": "code",
   "execution_count": null,
   "metadata": {},
   "outputs": [],
   "source": [
    "# Installs RDKit\n",
    "!pip install rdkit"
   ]
  },
  {
   "cell_type": "code",
   "execution_count": null,
   "metadata": {},
   "outputs": [],
   "source": [
    "from rdkit.Chem import AllChem as Chem\n",
    "from rdkit.Chem.Draw import IPythonConsole\n",
    "\n",
    "sorafenib = Chem.MolFromSmiles(sorafenib)\n",
    "sorafenib"
   ]
  },
  {
   "attachments": {},
   "cell_type": "markdown",
   "metadata": {},
   "source": [
    "With the help of RDKit, SMILES can be read and represented as a valid molecule.\n",
    "The `type(sorafenib)` is now:"
   ]
  },
  {
   "cell_type": "code",
   "execution_count": null,
   "metadata": {},
   "outputs": [],
   "source": [
    "type(sorafenib)"
   ]
  },
  {
   "attachments": {},
   "cell_type": "markdown",
   "metadata": {},
   "source": [
    "The function `Chem.MolFromSmiles` converts the SMILES string into a new variable type, namely the RDKit-Mol. As long as a molecule is stored as `rdkit.Chem.rdchem.Mol` in Python, you can apply all the functions of rdkit to it. You can also use `Chem.MolToSmiles(mol)` to output the molecule as SMILES again:"
   ]
  },
  {
   "cell_type": "code",
   "execution_count": null,
   "metadata": {},
   "outputs": [],
   "source": [
    "Chem.MolToSmiles(sorafenib)"
   ]
  },
  {
   "attachments": {},
   "cell_type": "markdown",
   "metadata": {},
   "source": [
    "The SMILES `string` of sorafenib now looks different from the one you have read in. The difference is in the representation of the aromatic rings. In the original string, double bonds `=` were used explicitly, but now small `c` replace the double bonded large `C`s. RDKit automatically canonicalizes the SMILES according to a certain scheme. PubChem uses a different strategy for canonicalization. You can read SMILES in different forms, but `RDKit` will always output the same form.\n",
    "\n",
    "If a SMILES is to be read that does not represent a valid molecule, RDKit will output an error."
   ]
  },
  {
   "cell_type": "code",
   "execution_count": null,
   "metadata": {},
   "outputs": [],
   "source": [
    "Chem.MolFromSmiles('CNC(=[O-])c1cc(Oc2ccc(NC(=O)Nc3ccc(Cl)c(C(F)(F)F)c3)cc2)ccn1') # (=[O-]) instead of (=O)"
   ]
  },
  {
   "attachments": {},
   "cell_type": "markdown",
   "metadata": {},
   "source": [
    "### RDKit\n",
    "Now that you have sorafenib in the correct format, you can also get information about this molecule:"
   ]
  },
  {
   "cell_type": "code",
   "execution_count": null,
   "metadata": {},
   "outputs": [],
   "source": [
    "sorafenib.GetNumAtoms() # How many atoms does sorafenib consist of?"
   ]
  },
  {
   "attachments": {},
   "cell_type": "markdown",
   "metadata": {},
   "source": [
    "There are several functions that can be used to obtain information about molecules. `rdkit` assigns an index to each atom and bond. With this index you can select single atoms or bonds. You can see which atom has which index by changing the `Draw` options as follows:"
   ]
  },
  {
   "cell_type": "code",
   "execution_count": null,
   "metadata": {},
   "outputs": [],
   "source": [
    "from rdkit.Chem import Draw \n",
    "IPythonConsole.drawOptions.addAtomIndices = True \n",
    "IPythonConsole.drawOptions.addBondIndices = False\n",
    "IPythonConsole.molSize = (500, 500) "
   ]
  },
  {
   "cell_type": "code",
   "execution_count": null,
   "metadata": {},
   "outputs": [],
   "source": [
    "sorafenib"
   ]
  },
  {
   "attachments": {},
   "cell_type": "markdown",
   "metadata": {},
   "source": [
    "Individual atoms can be selected by their indices with `.GetAtomWithIdx()`. Further functions allow to get more information about the respective atoms:"
   ]
  },
  {
   "cell_type": "code",
   "execution_count": null,
   "metadata": {},
   "outputs": [],
   "source": [
    "print(\"Symbol of atom with index 3\")\n",
    "print(sorafenib.GetAtomWithIdx(3).GetSymbol())\n",
    "\n",
    "print(\"\\nMass of atom with index 3\")\n",
    "print(sorafenib.GetAtomWithIdx(3).GetMass())\n",
    "\n",
    "print(\"\\nHybridization of atom with 3\")\n",
    "print(sorafenib.GetAtomWithIdx(3).GetHybridization())\n"
   ]
  },
  {
   "attachments": {},
   "cell_type": "markdown",
   "metadata": {},
   "source": [
    "With the function `.SetAtomicNum()` you can also change single atoms and e.g. turn the ketone into an imine."
   ]
  },
  {
   "cell_type": "code",
   "execution_count": null,
   "metadata": {},
   "outputs": [],
   "source": [
    "sorafenib.GetAtomWithIdx(3).SetAtomicNum(7)\n",
    "display(sorafenib)\n",
    "print(Chem.MolToSmiles(sorafenib))\n",
    "sorafenib.GetAtomWithIdx(3).SetAtomicNum(8) # Change is reversed again  "
   ]
  },
  {
   "attachments": {},
   "cell_type": "markdown",
   "metadata": {},
   "source": [
    "Can you replace one of the fluorine atoms with a carbon atom?"
   ]
  },
  {
   "cell_type": "code",
   "execution_count": null,
   "metadata": {},
   "outputs": [],
   "source": [
    "sorafenib._____.______ # write your solution here\n",
    "\n",
    "display(sorafenib)\n",
    "print(Chem.MolToSmiles(sorafenib))\n",
    "sorafenib = Chem.MolFromSmiles(\"CNC(=O)C1=NC=CC(=C1)OC2=CC=C(C=C2)NC(=O)NC3=CC(=C(C=C3)Cl)C(F)(F)F\")"
   ]
  },
  {
   "attachments": {},
   "cell_type": "markdown",
   "metadata": {},
   "source": [
    "\n",
    "<details>\n",
    "<summary><strong>Solution:</strong></summary>\n",
    "\n",
    "```python\n",
    "    sorafenib.GetAtomWithIdx(31).SetAtomicNum(6)\n",
    "```\n",
    "</details>"
   ]
  },
  {
   "attachments": {},
   "cell_type": "markdown",
   "metadata": {},
   "source": [
    "Similar functions can also be used for bonds. An index is also assigned to each bond."
   ]
  },
  {
   "cell_type": "code",
   "execution_count": null,
   "metadata": {},
   "outputs": [],
   "source": [
    "IPythonConsole.drawOptions.addAtomIndices = False # don't show atom indices\n",
    "IPythonConsole.drawOptions.addBondIndices = True # show bond indices\n",
    "\n",
    "sorafenib"
   ]
  },
  {
   "cell_type": "code",
   "execution_count": null,
   "metadata": {},
   "outputs": [],
   "source": [
    "print(\"Which type of bond is bond 4\")\n",
    "print(sorafenib.GetBondWithIdx(4).GetBondType())\n",
    "\n",
    "print(\"\\nIs bond 4 in a ring of size 7\")\n",
    "print(sorafenib.GetBondWithIdx(4).IsInRingSize(7))\n",
    "\n",
    "print(\"\\nIs bond 4 in a ring of size 6\")\n",
    "print(sorafenib.GetBondWithIdx(4).IsInRingSize(6))\n",
    "\n",
    "IPythonConsole.drawOptions.addBondIndices = False"
   ]
  },
  {
   "attachments": {},
   "cell_type": "markdown",
   "metadata": {},
   "source": [
    "### Descriptors\n",
    "\n",
    "More helpful than information about individual atoms are descriptors calculated for a whole molecule. With different submodules in `rdkit` you can calculate different properties of molecules: "
   ]
  },
  {
   "cell_type": "code",
   "execution_count": null,
   "metadata": {},
   "outputs": [],
   "source": [
    "from rdkit.Chem.Descriptors import MolWt\n",
    "from rdkit.Chem.Crippen import MolLogP\n",
    "\n",
    "print(\"LogP\",MolLogP(sorafenib))\n",
    "print(\"Molecular Weight\",MolWt(sorafenib))"
   ]
  },
  {
   "attachments": {},
   "cell_type": "markdown",
   "metadata": {},
   "source": [
    "## Sorafenib Alternatives\n",
    "\n",
    "The goal is to find alternative molecules for sorafenib. A pre-selection has already been made. The SMILES can be found in the list `smiles`."
   ]
  },
  {
   "cell_type": "code",
   "execution_count": null,
   "metadata": {},
   "outputs": [],
   "source": [
    "smiles = [\n",
    "    \"CNC(=O)c1cc(Oc2ccc(NC(=S)Nc3ccc(Cl)c(C(F)(F)F)c3)cc2)ccn1\",\n",
    "    \"C[C@@H](NC(=O)c1cc(Oc2ccc(NC(=O)Nc3ccc(Cl)c(C(F)(F)F)c3)cc2)ccn1)C(=O)NO\",\n",
    "    \"CNC(=O)c1cc(Oc2ccc(NC(=S)Nc3cc(C(F)(F)F)cc(C(F)(F)F)c3)cc2)ccn1\",\n",
    "    \"N#Cc1cc(Oc2ccc(NC(=O)Nc3ccc(Cl)c(C(F)(F)F)c3)cc2)ccn1\",\n",
    "    \"CN(C)c1ccc(NC(=O)c2cc(Oc3ccc(NC(=O)Nc4ccc(Cl)c(C(F)(F)F)c4)cc3)ccn2)cc1\", \n",
    "    \"CNC(=O)c1cc(Oc2ccc(NC(=O)Nc3ccc(Br)c(C(F)(F)F)c3)cc2)ccn1\",\n",
    "    \"CNC(=O)c1cc(Oc2ccc(NC(=O)Nc3ccc(OC(F)(F)F)cc3)cc2)ccn1\",\n",
    "    \"CCNC(=O)c1cc(Oc2ccc(NC(=O)Nc3ccc(Cl)c(C(F)(F)F)c3)cc2)ccn1\",\n",
    "    \"CNC(=O)c1cc(Oc2ccc(NC(=O)Nc3cccc(C(F)(F)F)c3)cc2)ccn1\"\n",
    "]"
   ]
  },
  {
   "attachments": {},
   "cell_type": "markdown",
   "metadata": {},
   "source": [
    "To avoid having to convert each SMILES individually into a `mol` object, write a `for loop`.\n",
    "\n",
    "You can display multiple molecules side by side with the function `Draw.MolsToGridImage(mols)`."
   ]
  },
  {
   "cell_type": "code",
   "execution_count": null,
   "metadata": {},
   "outputs": [],
   "source": [
    "mols = [ _____ for x in ______] # write your solution here\n",
    "Draw.MolsToGridImage(mols,subImgSize=(300, 300)) #subImgSize allows to show larger images"
   ]
  },
  {
   "attachments": {},
   "cell_type": "markdown",
   "metadata": {},
   "source": [
    "<details>\n",
    "<summary><strong>Solution:</strong></summary>\n",
    "\n",
    "```python\n",
    "mols = [Chem.MolFromSmiles(x) for x in smiles]\n",
    "Draw.MolsToGridImage(mols,subImgSize=(300, 300))\n",
    "```\n",
    "</details>"
   ]
  },
  {
   "attachments": {},
   "cell_type": "markdown",
   "metadata": {},
   "source": [
    "To avoid unnecessary costs, you should select only the most promising molecules. For this, you can apply what you have learned so far. \n",
    "A simple but important rule of thumb for drug development is [\"Lipinski's Rule of Five\"](https://en.wikipedia.org/wiki/Lipinski%27s_rule_of_five). It states that molecules that have four specific properties are particularly well suited as active ingredients:\n",
    "\n",
    "#### Lipinski's Rule of Five\n",
    "\n",
    ">- No more than 5 hydrogen bond donors (mainly nitrogen-hydrogen and oxygen-hydrogen bonds).\n",
    ">- Not more than 10 hydrogen bond acceptors (mainly oxygen and nitrogen atoms).\n",
    ">- A molecular weight of less than 500 g/mol.\n",
    ">- A [logP](https://en.wikipedia.org/wiki/Octanol-water_partition_coefficient) value of less than 5."
   ]
  },
  {
   "attachments": {},
   "cell_type": "markdown",
   "metadata": {},
   "source": [
    "You have already calculated the LogP value and the molecular weight with `rdkit` functions.\n",
    "The submodule `Lipinski` in RDKit offers even more functions among others for the calculation of the number of hydrogen bridge donors and acceptors. \n",
    "\n",
    "First calculate the number of hydrogen donors (`NumHDonors`)"
   ]
  },
  {
   "cell_type": "code",
   "execution_count": null,
   "metadata": {},
   "outputs": [],
   "source": [
    "from rdkit.Chem.Lipinski import NumHAcceptors, NumHDonors\n",
    "\n",
    "NumDonors = [______(x) for x in ______] # write your solution here"
   ]
  },
  {
   "attachments": {},
   "cell_type": "markdown",
   "metadata": {},
   "source": [
    "<details>\n",
    "<summary><strong>Solution:</strong></summary>\n",
    "\n",
    "```python\n",
    "NumDonors = [NumHDonors(x) for x in mols]\n",
    "```\n",
    "</details>"
   ]
  },
  {
   "attachments": {},
   "cell_type": "markdown",
   "metadata": {},
   "source": [
    "To display the number of donors together with the molecules you can use the function `MolsToGridImage()`. Here you simply have to pass the `NumDonors` to the input variable `legends`. The problem is that the function always expects `Strings`. So no `integers`. Therefore we use another `for-loop` to convert the `int` in `NumDonors` to a `str`."
   ]
  },
  {
   "cell_type": "code",
   "execution_count": null,
   "metadata": {},
   "outputs": [],
   "source": [
    "NumDonors = [str(x) for x in NumDonors] # convert the list of ints to a list of strings\n",
    "Draw.MolsToGridImage(mols, legends = NumDonors,subImgSize = (300,300))"
   ]
  },
  {
   "attachments": {},
   "cell_type": "markdown",
   "metadata": {},
   "source": [
    "In the caption you can see the number of hydrogen bond donors. All molecules have fewer donors than the upper limit given by Lipinski. We can repeat the same for the acceptors.\n",
    "However, this time write the `for-loop` in such a way that the `integers` are immediately converted into `strings`. This way you save a `for-loop`."
   ]
  },
  {
   "cell_type": "code",
   "execution_count": null,
   "metadata": {},
   "outputs": [],
   "source": [
    "NumAcceptors = [str(________) for x in ________] # write your solution here\n",
    "Draw.MolsToGridImage(mols, legends = NumAcceptors, subImgSize= (300,300))"
   ]
  },
  {
   "attachments": {},
   "cell_type": "markdown",
   "metadata": {},
   "source": [
    "<details>\n",
    "<summary><strong>Solution:</strong></summary>\n",
    "\n",
    "```python\n",
    "NumAcceptors = [str(NumHAcceptors(x)) for x in mols]\n",
    "Draw.MolsToGridImage(mols, legends = NumAcceptors, subImgSize= (300,300))\n",
    "```\n",
    "</details>"
   ]
  },
  {
   "attachments": {},
   "cell_type": "markdown",
   "metadata": {},
   "source": [
    "Again, none of the molecules violates Lipinski's rule.\n",
    "Now calculate the molecular weight (`MolWt()`) for the alternatives to sorafenib."
   ]
  },
  {
   "cell_type": "code",
   "execution_count": null,
   "metadata": {
    "scrolled": false
   },
   "outputs": [],
   "source": [
    "molWeight = [str(_________) for __ in _______] # write your solution here\n",
    "Draw.MolsToGridImage(mols, legends = molWeight, subImgSize=(300, 300))"
   ]
  },
  {
   "attachments": {},
   "cell_type": "markdown",
   "metadata": {},
   "source": [
    "<details>\n",
    "<summary><strong>Solution:</strong></summary>\n",
    "\n",
    "```python\n",
    "molWeight = [str(MolWt(x)) for x in mols]\n",
    "Draw.MolsToGridImage(mols, legends = molWeight, subImgSize=(300, 300))\n",
    "```\n",
    "</details>"
   ]
  },
  {
   "attachments": {},
   "cell_type": "markdown",
   "metadata": {},
   "source": [
    "Some molecules are actually heavier than \"Lipinski's Rule of Five\" allows.\n",
    "\n",
    "The last thing you do is to calculate the LogP (`MolLogP()`)."
   ]
  },
  {
   "cell_type": "code",
   "execution_count": null,
   "metadata": {},
   "outputs": [],
   "source": [
    "logP = [_______ for ____ in _____] # write your solution here, remember the str() function\n",
    "Draw.MolsToGridImage(mols, legends = logP,subImgSize=(300, 300))"
   ]
  },
  {
   "attachments": {},
   "cell_type": "markdown",
   "metadata": {},
   "source": [
    "<details>\n",
    "<summary><strong>Solution:</strong></summary>\n",
    "\n",
    "```python\n",
    "logP = [str(MolLogP(x)) for x in mols]\n",
    "Draw.MolsToGridImage(mols, legends = logP,subImgSize=(300, 300))\n",
    "```\n",
    "</details>"
   ]
  },
  {
   "attachments": {},
   "cell_type": "markdown",
   "metadata": {},
   "source": [
    "In fact, most molecules exceed Lipinski's LogP value. Only three molecules have a value of less than five. These last two molecules are the only ones that meet all four Lipinski rules. Therefore, they may be particularly well suited as drugs. But one should not discard all other molecules just because of a too high LogP value. \n",
    "\n",
    "Sorafenib itself also has a LogP value of more than 5, so we only remove molecules that have both a too high LogP value and a too high weight. You can use `booleans` to select the correct molecules, e.g. `LogP < 5`. However, previously we saved the values as `str` to output them as legends among the molecules. Therefore, we recalculate the values without converting them to a `str`. In addition, you must also convert the lists into an `array`, otherwise you cannot compare the values."
   ]
  },
  {
   "cell_type": "code",
   "execution_count": null,
   "metadata": {},
   "outputs": [],
   "source": [
    "import numpy as np\n",
    "\n",
    "logP = [MolLogP(x) for x in mols]\n",
    "logP = np.array(logP) # the list has to be converted to an array\n",
    "logP < 5.0"
   ]
  },
  {
   "attachments": {},
   "cell_type": "markdown",
   "metadata": {},
   "source": [
    "Now do the same for the weight (`MolWt()`)."
   ]
  },
  {
   "cell_type": "code",
   "execution_count": null,
   "metadata": {},
   "outputs": [],
   "source": [
    "molWeight = [____() ___ ____ ___ ___] # write your solution here\n",
    "molWeight = ______________ # convert the list to an array\n",
    "molWeight < 500"
   ]
  },
  {
   "attachments": {},
   "cell_type": "markdown",
   "metadata": {},
   "source": [
    "<details>\n",
    "<summary><strong>Solution:</strong></summary>\n",
    "\n",
    "```python\n",
    "molWeight = [MolWt(x) for x in mols]\n",
    "molWeight = np.array(molWeight)\n",
    "molWeight < 500\n",
    "```\n",
    "</details>"
   ]
  },
  {
   "attachments": {},
   "cell_type": "markdown",
   "metadata": {},
   "source": [
    "To select the molecules that have either a weight below 500 or a logP below five, you can use the `|` symbol. The `|` stands for \"or\". The statement `(logP < 5) | (molWeight<500)` will output `True` for elements that meet at least one of the two conditions. `False` will be output if an element does not satisfy either condition. So it means that either a logP is smaller than five or a weight is smaller than 500 g/mol."
   ]
  },
  {
   "cell_type": "code",
   "execution_count": null,
   "metadata": {},
   "outputs": [],
   "source": [
    "(logP < 5) | (molWeight<500)"
   ]
  },
  {
   "attachments": {},
   "cell_type": "markdown",
   "metadata": {},
   "source": [
    "With this `bool` array we can now select the molecules that remain."
   ]
  },
  {
   "cell_type": "code",
   "execution_count": null,
   "metadata": {},
   "outputs": [],
   "source": [
    "mols=np.array(mols)\n",
    "mols_subset=mols[(logP < 5) | (molWeight<500)] # we convert the mol-list to an array\n",
    "Draw.MolsToGridImage(mols_subset, subImgSize=(300, 300))"
   ]
  },
  {
   "attachments": {},
   "cell_type": "markdown",
   "metadata": {},
   "source": [
    "By calculating descriptors, you can reduce the number of candidate molecules. In the next step, you will learn how to further reduce the selection with a similarity search."
   ]
  },
  {
   "attachments": {},
   "cell_type": "markdown",
   "metadata": {},
   "source": [
    "## Fingerprints & Similarity Search\n",
    "\n",
    "RDKit can also compute various *molecular fingerprints*. These include the *Extended Connectivity Fingerprint* (ECFP), originally developed by [Hahn et al.](https://pubs.acs.org/doi/10.1021/ci100050t) 2010. \n",
    "RDKit has a modified version, which they call *Morgan Fingerprint*.\n",
    "\n",
    "You can use the function `Chem.GetMorganFingerprint(mol,radius)` to calculate the ECFP. To evaluate the similarity of fingerprints, RDKit also provides a function. For example, `DataStructs.TanimotoSimilarity(fp1,fp2)` can be used to calculate the Tanimoto similarity.\n",
    "\n",
    "The very similar (but not necessarily identical) molecules have a Tanimoto similarity or `1.0` and very dissimilar molecules have a Tanimoto similarity of `0.0`"
   ]
  },
  {
   "cell_type": "code",
   "execution_count": null,
   "metadata": {},
   "outputs": [],
   "source": [
    "from rdkit import DataStructs\n",
    "fp_sorafenib = Chem.GetMorganFingerprint(sorafenib,radius=2)\n",
    "fp_sorafenib"
   ]
  },
  {
   "attachments": {},
   "cell_type": "markdown",
   "metadata": {},
   "source": [
    "The Morganfingerprint is not stored as a regular `np.array`. But in the next notebooks you will learn how to get the *normal* vectors of the fingerprints as well.\n",
    "\n",
    "You have calculated the fingerprint for sorafenib, but to calculate the similarity, you need the fingerprints of the other molecules as well.\n",
    "\n",
    "*Write a `for-loop` that computes the fingerprint for all the molecules in `mols_subset` and stores them as a list in `fp_mols`.*"
   ]
  },
  {
   "cell_type": "code",
   "execution_count": null,
   "metadata": {},
   "outputs": [],
   "source": [
    "fp_mols = [Chem.GetMorganFingerprint( ___ ,radius = 2) for __ in ___ ]"
   ]
  },
  {
   "attachments": {},
   "cell_type": "markdown",
   "metadata": {},
   "source": [
    "<details>\n",
    "<summary><strong>Solution:</strong></summary>\n",
    "\n",
    "```python\n",
    "    fp_mols = [Chem.GetMorganFingerprint( x ,radius = 2) for x in mols_subset]\n",
    "```\n",
    "</details>\n",
    "<br>\n",
    "To calculate the Similarity, use the function described above `TanimotoSimilarity(fp1, fp2)`\n",
    "\n",
    "\n",
    "\n"
   ]
  },
  {
   "cell_type": "code",
   "execution_count": null,
   "metadata": {},
   "outputs": [],
   "source": [
    "DataStructs.TanimotoSimilarity(fp_sorafenib,fp_mols[5])"
   ]
  },
  {
   "attachments": {},
   "cell_type": "markdown",
   "metadata": {},
   "source": [
    "Write a `for-loop` that calculates the similarity to sorafenib for each molecule in `fp_mols`."
   ]
  },
  {
   "cell_type": "code",
   "execution_count": null,
   "metadata": {},
   "outputs": [],
   "source": [
    "sorafenib_similarity = [DataStructs.TanimotoSimilarity(___ , ___ ) for x in ____]\n",
    "sorafenib_similarity"
   ]
  },
  {
   "attachments": {},
   "cell_type": "markdown",
   "metadata": {},
   "source": [
    "<details>\n",
    "<summary><strong>Solution:</strong></summary>\n",
    "\n",
    "```python\n",
    "    sorafenib_similarity=[DataStructs.TanimotoSimilarity(fp_sorafenib, x) for x in fp_mols]\n",
    "\n",
    "```\n",
    "</details>\n",
    "<br>\n"
   ]
  },
  {
   "cell_type": "code",
   "execution_count": null,
   "metadata": {},
   "outputs": [],
   "source": [
    "Draw.MolsToGridImage(mols_subset,legends = [str(x) for x in sorafenib_similarity],subImgSize=(300, 300))"
   ]
  },
  {
   "attachments": {},
   "cell_type": "markdown",
   "metadata": {},
   "source": [
    "Above you can see the similarity of each molecule to sorafenib. A commonly used rule of thumb is that molecules with a similarity of 0.8 or higher are similar enough to be considered a relevant alternative. In our case, this means that we would only test one molecule. The molecule with a similarity of `0.7959...` would probably still be considered relevant.\n",
    "Basically, a similarity search is often used to narrow down the space of relevant molecules.\n",
    "\n",
    "A medicinal chemist could probably pick the most relevant out of nine molecules even without a computer. The real advantage of the computer only becomes clear when you have a pool of several million molecules. The code would work exactly the same way, you would just have to read in the additional SMILES at the beginning of the notebook.\n"
   ]
  },
  {
   "attachments": {},
   "cell_type": "markdown",
   "metadata": {},
   "source": [
    "## Practice Exercise: Alternatives for the Norfloxacin Antibiotic\n",
    "\n",
    "As a somewhat more challenging task, you are now to apply what you have learned so far once again on your own. \n",
    "Basically, the task is very similar to the previous ones, but you will get less help.\n",
    "First, find the SMILES `string` for norfloxacin at [PubChem](https://pubchem.ncbi.nlm.nih.gov/). Then convert the string to `mol` format and display the molecule.\n",
    "\n",
    "> \"Norfloxacin is a synthetic broad-spectrum antibiotic from the gyrase inhibitor group for oral administration.\" \n",
    "\n",
    "Source: [Wikipedia](https://en.wikipedia.org/wiki/Norfloxacin)\n"
   ]
  },
  {
   "cell_type": "code",
   "execution_count": null,
   "metadata": {},
   "outputs": [],
   "source": [
    "# If you do this task at a later time, you can use this cell\n",
    "# to import the required libraries at once\n",
    "from rdkit.Chem import AllChem as Chem\n",
    "from rdkit.Chem import Draw\n",
    "from rdkit.Chem.Descriptors import MolWt \n",
    "from rdkit.Chem.Crippen import MolLogP\n",
    "from rdkit.Chem.Lipinski import NumHAcceptors, NumHDonors\n",
    "from rdkit import DataStructs"
   ]
  },
  {
   "cell_type": "code",
   "execution_count": null,
   "metadata": {},
   "outputs": [],
   "source": [
    "norfloxacin = \"CCN1C=C(C(=O)C2=CC(=C(C=C21)N3CCNCC3)F)C(=O)O\"\n",
    "# convert the string to mol\n",
    "norfloxacin = \n",
    "# display the molecule\n",
    "norfloxacin"
   ]
  },
  {
   "attachments": {},
   "cell_type": "markdown",
   "metadata": {},
   "source": [
    "Next, calculate the descriptors for norfloxacin that are important for *Lipinski's Rule of Five*."
   ]
  },
  {
   "cell_type": "code",
   "execution_count": null,
   "metadata": {},
   "outputs": [],
   "source": [
    "# Calculate Sie MW\n",
    "MW_norfloxacin = \n",
    "\n",
    "# Calculate the number of H-bond acceptors\n",
    "NumHAcceptors_norfloxacin = \n",
    "\n",
    "# Calculate the number of H-bond donors\n",
    "NumHDonors_norfloxacin = \n",
    "\n",
    "# Calculate logP\n",
    "logP_norfloxacin = "
   ]
  },
  {
   "attachments": {},
   "cell_type": "markdown",
   "metadata": {},
   "source": [
    "The next cell outputs the calculated descriptors:"
   ]
  },
  {
   "cell_type": "code",
   "execution_count": null,
   "metadata": {},
   "outputs": [],
   "source": [
    "print(\"MW:\", MW_norfloxacin)\n",
    "print(\"NumHAcceptors\", NumHAcceptors_norfloxacin)\n",
    "print(\"NumHDonors\", NumHDonors_norfloxacin)\n",
    "print(\"LogP\",logP_norfloxacin)"
   ]
  },
  {
   "attachments": {},
   "cell_type": "markdown",
   "metadata": {},
   "source": [
    "A pre-selection of possible norfloxacin alternatives is listed in the next cell. Convert the SMILES to `mol` format and then calculate the descriptors. The easiest way to do this is with the notation `List = [function(x) for x in OtherList]` used several times above."
   ]
  },
  {
   "cell_type": "code",
   "execution_count": null,
   "metadata": {},
   "outputs": [],
   "source": [
    "# Don't forget to run this cell.\n",
    "quinolones = [\"C1CC1N2C=C(C(=O)C3=CC(=C(C=C32)N4CCNCC4)F)C(=O)O\",\n",
    "             \"CN1CCN(CC1)C2=C(C=C3C(=C2F)N(C=C(C3=O)C(=O)O)CCF)F\",\n",
    "             \"CCN1C=C(C(=O)C2=CC(=C(C(=C21)F)N3CCNC(C3)C)F)C(=O)O\",\n",
    "             \"CC1CCC2=C3N1C=C(C(=O)C3=CC(=C2N4CCC(CC4)O)F)C(=O)O\",\n",
    "             \"CC1COC2=C3N1C=C(C(=O)C3=CC(=C2N4CCN(CC4)C)F)C(=O)O\"\n",
    "             \"CCN1C=C(C(=O)C2=CC(=C(C=C21)N3CCN(CC3)C)F)C(=O)O\",\n",
    "             \"CN1CCN(CC1)C2=C(C=C3C4=C2SCCN4C=C(C3=O)C(=O)O)F\",\n",
    "             \"CCN1C=C(C(=O)C2=CC(=C(N=C21)N3CCNCC3)F)C(=O)O\",\n",
    "             \"CNC1CCCN(C1)C2=C(C=C3C(=C2OC)N(C=C(C3=O)C(=O)O)C4CC4)F\",\n",
    "             \"CC1CN(CCN1)C2=C(C(=C3C(=C2)N(C=C(C3=O)C(=O)O)C4CC4)C)F\",\n",
    "             \"C[C@H]1COC2=C3N1C=C(C(=O)C3=CC(=C2N4CCN(CC4)C)F)C(=O)O\",\n",
    "             \"C[C@H]1COC2=C3N1C=C(C(=O)C3=CC(=C2C4(CC4)N)F)C(=O)O\",\n",
    "             \"C[C@@H]1CN(C[C@@H](N1)C)C2=C(C(=C3C(=C2F)N(C=C(C3=O)C(=O)O)C4CC4)N)F\",\n",
    "             \"CC1CN(CCN1)C2=C(C=C3C(=C2)N(C=C(C3=O)C(=O)O)C4=C(C=C(C=C4)F)F)F\",\n",
    "             \"C1CN(CC1N)C2=C(C=C3C(=O)C(=CN(C3=N2)C4=C(C=C(C=C4)F)F)C(=O)O)F\"]"
   ]
  },
  {
   "cell_type": "code",
   "execution_count": null,
   "metadata": {},
   "outputs": [],
   "source": [
    "# Convert the strings to mol\n",
    "quinolones = "
   ]
  },
  {
   "cell_type": "code",
   "execution_count": null,
   "metadata": {},
   "outputs": [],
   "source": [
    "# Calculate the four descriptors for all molecules in the list\n",
    "MW_quinolones = \n",
    "NumHAcceptors_quinolones = \n",
    "NumHDonors_quinolones = \n",
    "logP_quinolones = "
   ]
  },
  {
   "attachments": {},
   "cell_type": "markdown",
   "metadata": {},
   "source": [
    "In the following cell you can display the molecules with the calculated descriptors. You do not necessarily have to be able to follow the code. \n",
    "\n",
    "You have to read the values yourself. (`Ctrl` + mouse wheel to zoom.)"
   ]
  },
  {
   "cell_type": "code",
   "execution_count": null,
   "metadata": {
    "scrolled": true
   },
   "outputs": [],
   "source": [
    "legend = []\n",
    "for i in range(len(MW_quinolones)):\n",
    "    legend.append(\"MW: \"+str(round(MW_quinolones[i]))+\"\\n\"+\n",
    "                 \"NumHAcceptors: \"+str(NumHAcceptors_quinolones[i])+\"\\n\"+\n",
    "                 \"NumHDonors: \"+str(NumHDonors_quinolones[i])+\"\\n\"+\n",
    "                 \"logP: \"+str(round(logP_quinolones[i], 4)))\n",
    "\n",
    "Draw.MolsToGridImage(quinolones, molsPerRow=3, legends = legend,\n",
    "                    subImgSize=(250,150), useSVG=True)"
   ]
  },
  {
   "attachments": {},
   "cell_type": "markdown",
   "metadata": {},
   "source": [
    "Since virtually all molecules follow *Lipinski's Rule of Five*, we refrain from removing molecules from our database at this point and instead calculate similarity to norfloxacin directly. This requires first calculating the fingerprints and then the Tanimoto similarity."
   ]
  },
  {
   "cell_type": "code",
   "execution_count": null,
   "metadata": {},
   "outputs": [],
   "source": [
    "# First calculate the fingerprints of the quinolones and norfloxacin.\n",
    "norfloxacin_fp = \n",
    "quinolones_fp = "
   ]
  },
  {
   "attachments": {},
   "cell_type": "markdown",
   "metadata": {},
   "source": [
    "Now calculate the similarities of `quinolones` with norfloxacin. \n",
    "\n",
    "In the cell below you can display the similarities."
   ]
  },
  {
   "cell_type": "code",
   "execution_count": null,
   "metadata": {},
   "outputs": [],
   "source": [
    "quinolones_similarity = "
   ]
  },
  {
   "cell_type": "code",
   "execution_count": null,
   "metadata": {},
   "outputs": [],
   "source": [
    "Draw.MolsToGridImage(quinolones, legends = [str(round(x, 2)) for x in quinolones_similarity],\n",
    "                    subImgSize=(250,200), useSVG=True)"
   ]
  },
  {
   "attachments": {},
   "cell_type": "markdown",
   "metadata": {},
   "source": [
    "As you can see, most of the molecules are not particularly similar to norfloxacin (at least according to Tanimoto Similarity). However, each of the molecules are actually broad-spectrum antibiotics that were available, at least in the past. Therefore, one cannot rely solely on the similarity between the molecules to infer activity."
   ]
  }
 ],
 "metadata": {
  "interpreter": {
   "hash": "b2063f454e5583264956edca724ed174a35400d49c5baf96fcf9ea99fcd5830b"
  },
  "kernelspec": {
   "display_name": "Python 3 (ipykernel)",
   "language": "python",
   "name": "python3"
  },
  "language_info": {
   "codemirror_mode": {
    "name": "ipython",
    "version": 3
   },
   "file_extension": ".py",
   "mimetype": "text/x-python",
   "name": "python",
   "nbconvert_exporter": "python",
   "pygments_lexer": "ipython3",
   "version": "3.7.11"
  }
 },
 "nbformat": 4,
 "nbformat_minor": 4
}
