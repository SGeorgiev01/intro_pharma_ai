{
 "cells": [
  {
   "cell_type": "markdown",
   "id": "e1138bdf",
   "metadata": {},
   "source": [
    "\n",
    "# Co-folding with Boltz\n",
    "\n",
    "*Disclaimer: This topic is a very active area of research and thus prone to quick changes. The Notebook was last edited on 04.08.2025*\n",
    "\n",
    "---\n",
    "### In this lesson you'll learn:\n",
    "\n",
    "- how to predict a protein structure from the amino acid sequence.\n",
    "- how to align two structures in python and calculate the RMSD in between.\n",
    "- how to predict the structure of a protein-ligand complex from sequence and SMILES.\n",
    "- about current limitations of co-folding methods.\n",
    "\n",
    "---\n",
    "\n",
    "This notebook is about protein folding, especially *co-folding*, i.e. not just the prediciton of the 3D protein structure from the sequence but also the placement of a ligand in the correct conformation and binding pocket.  \n",
    "\n",
    "While protein-folding was largly solved by [Alphafold2](https://doi.org/10.1038/s41586-021-03819-2), newer models try to solve the structure of protein-ligand complexes from the sequence and a SMILES. Finding the binding conformation is typically done using docking software such as [gnina](https://github.com/gnina/gnina), [GOLD](https://www.ccdc.cam.ac.uk/solutions/software/gold/) or [Glide](https://www.schrodinger.com/platform/products/glide/). \n",
    "\n",
    "Google's [Alphafold3](https://github.com/google-deepmind/alphafold3) is still one of the top performing models for co-folding, but in this notebook we'll be using [Boltz](https://github.com/jwohlwend/boltz), specifically Boltz2. As of writing, this is the newest co-folding model and even offers binding strenght estimation, which we'll  have a look at at the end of the notebook. \n",
    "\n",
    "---"
   ]
  },
  {
   "cell_type": "markdown",
   "id": "d1ee16ca",
   "metadata": {},
   "source": [
    "## Installation, Google Colab and the Command Line\n",
    "\n",
    "**Optional Boltz Install**: To complete this notebook, it is not necessary to install Boltz, but we give the option to do so. Another great resource to try out Boltz in Google Colab is [this Notebook](https://colab.research.google.com/github/kimjc95/computational-chemistry/blob/main/Boltz_on_Colab.ipynb).\n",
    "\n",
    "**Local install**: This Notebook is created to be run with Google Colab and the following cells will install Boltz and its dependencies. If you want to run Boltz locally (recommended if you have a strong GPU) please follow the instructions [here]() and install on linux or in WSL. Please then just execute the escaped linux commands (the commands starting with `!`, e.g. `!boltz predict example_file.fasta`). Note that you might need to resolve the paths (where the files are stored).\n",
    "\n",
    "**Google Colab**: Make sure you are connected to a runtime with GPU support (go to the upper right corner, open the drop-down menu, select \"change runtime type\" and make sure a Hardware Accelerator other than CPU is selected).\n",
    "\n",
    "**Command Line**: As Boltz is a command line program, we will be using a few linux commands instead of typical python code. You can recognize these commands by the `!` which is used to tell the python interpreter to pass this  command to the underlying operating system.\n",
    "\n",
    "---"
   ]
  },
  {
   "cell_type": "code",
   "execution_count": null,
   "id": "d334d2ba",
   "metadata": {},
   "outputs": [],
   "source": [
    "# Install py3Dmol for viewing\n",
    "!pip install py3Dmol"
   ]
  },
  {
   "cell_type": "markdown",
   "id": "6db37f79",
   "metadata": {},
   "source": [
    "## (Optional) Run an actual Boltz Prediciton"
   ]
  },
  {
   "cell_type": "code",
   "execution_count": null,
   "id": "274a089a",
   "metadata": {},
   "outputs": [],
   "source": [
    "# Installation (for Google Colab only)\n",
    "# this code was adapted from [Joo-Chan Kim](https://zenodo.org/records/14881401)\n",
    "\n",
    "import os\n",
    "import subprocess\n",
    "\n",
    "print('Installing dependencies (estimate: 2min) ... ', end='')\n",
    "dependencies = \"torch torchvision torchaudio numpy hydra-core pytorch-lightning \"\n",
    "dependencies += \"rdkit dm-tree requests pandas types-requests einops einx fairscale \"\n",
    "dependencies += \"mashumaro modelcif wandb click pyyaml biopython scipy numba gemmi \"\n",
    "dependencies += \"scikit-learn chembl_structure_pipeline \"\n",
    "dependencies += \"cuequivariance_ops_cu12 cuequivariance_ops_torch_cu12 cuequivariance_torch\"\n",
    "\n",
    "precision = '32-true'\n",
    "\n",
    "subprocess.run(\"pip install ipywidgets torch torchvision torchaudio\", shell=True)\n",
    "subprocess.run(\"git clone https://github.com/jwohlwend/boltz.git\", shell=True)\n",
    "subprocess.run(f\"sed -i 's/bf16-mixed/{precision}/g' /content/boltz/src/boltz/main.py\", shell=True)\n",
    "subprocess.run(f\"pip install {dependencies}\", shell=True)\n",
    "subprocess.run(\"cd boltz; pip install --no-deps -e .\", shell=True)\n",
    "\n",
    "print('done.')"
   ]
  },
  {
   "cell_type": "markdown",
   "id": "3fa4f4ef",
   "metadata": {},
   "source": [
    "Now we'll create a very simple fasta file using some linux commands:"
   ]
  },
  {
   "cell_type": "code",
   "execution_count": null,
   "id": "96760cb4",
   "metadata": {},
   "outputs": [],
   "source": [
    "# `echo` is the linux way of using `print()` and with the `>` we write the ouput to a file\n",
    "!echo -e \">A|protein|empty\\nAAAA\\n\" > peptide.fasta"
   ]
  },
  {
   "cell_type": "code",
   "execution_count": null,
   "id": "6fb3ee5c",
   "metadata": {},
   "outputs": [],
   "source": [
    "# we can have a look at the file with `cat`\n",
    "!cat peptide.fasta"
   ]
  },
  {
   "cell_type": "markdown",
   "id": "672d4593",
   "metadata": {},
   "source": [
    "Now we can use `boltz predict peptide.fasta` to predict the structure of the small peptide.\n",
    "Note that we used the keyword `empty` in our `.fasta` file. This will lead to much worse performance, because we don't do any sequence alignment.\n",
    "Normally, we would have to add the `--use_msa_server` keyword to use an external server for the sequence alignment (or a supply our own .a3m file)."
   ]
  },
  {
   "cell_type": "code",
   "execution_count": null,
   "id": "15e59cd7",
   "metadata": {},
   "outputs": [],
   "source": [
    "!boltz predict peptide.fasta"
   ]
  },
  {
   "cell_type": "markdown",
   "id": "e9624771",
   "metadata": {},
   "source": [
    "The output is saved in the folder `boltz_results_peptide` and we can use Google Colabs file browser (the folder symbol on the left hotbar). The actual predicted 3D structure can be visualized using py3Dmol."
   ]
  },
  {
   "cell_type": "code",
   "execution_count": null,
   "id": "b78c3840",
   "metadata": {},
   "outputs": [],
   "source": [
    "import py3Dmol \n",
    "fasta_name = 'peptide'\n",
    "\n",
    "with open(f\"boltz_results_{fasta_name}/predictions/{fasta_name}/{fasta_name}_model_0.cif\") as ifile:\n",
    "    system = \"\".join([x for x in ifile])\n",
    "\n",
    "view = py3Dmol.view(width=400, height=300)\n",
    "view.addModelsAsFrames(system)\n",
    "view.setStyle({'model': -1}, {\"cartoon\": {'color': 'spectrum'}})\n",
    "view.zoomTo()\n",
    "view.show()"
   ]
  },
  {
   "cell_type": "markdown",
   "id": "3f380b8d",
   "metadata": {},
   "source": [
    "There are many [more settings](https://github.com/jwohlwend/boltz/blob/main/docs/prediction.md) available to run Boltz with, this section should just give you a point to get started with co-folding. You could also try different sequence lengths, but be aware that longer sequences will take longer to calculate and at some point the GPU will run out of memory.  "
   ]
  },
  {
   "cell_type": "markdown",
   "id": "a89cf415",
   "metadata": {},
   "source": [
    "## Comparing crystal structures and predicted structures\n",
    "\n",
    "While it is possible to run the following examples in Google Colab, the freely available GPUs are not that fast and might run out of memory for larger sequences. We thus ran the predictions locally, so you don't have to wait for the models. We do show you the code to generate the structures, feel free to run them (in Google Colab if you have the time, or locally). Other options would be to generate structures using [Alphafold-Server](https://alphafoldserver.com/welcome), or using a local install of [Alphafold3](https://github.com/google-deepmind/alphafold3). Note, that for these options you will have to look in the documentation of these methods on how to prepare the files for these models.\n",
    "\n",
    "We'll have a look at the **AKT1 kinase**. Kinases are abundand in the PDB, and (co-)folding models should be able to easily produce a correct structure.\n",
    "\n",
    "First, lets just have a look at the pdb entry, we'll start with the entry [`3MVH`](https://www.rcsb.org/structure/3MVH) which already has an orthosteric inhibitor bound:"
   ]
  },
  {
   "cell_type": "code",
   "execution_count": null,
   "id": "bb34e400",
   "metadata": {},
   "outputs": [],
   "source": [
    "import py3Dmol\n",
    "\n",
    "view = py3Dmol.view(width=400, height=300, query=\"3mvh\")\n",
    "view.setStyle({'cartoon':{'color':'spectrum'}})\n",
    "\n",
    "view.show()\n"
   ]
  },
  {
   "cell_type": "markdown",
   "id": "9bf9881e",
   "metadata": {},
   "source": [
    "To predict the structure, we can get the protein sequence. While we could use the one from the PDB structure above, the sequence might be truncated or mutated (e.g. for easier crystallization), so we'll take the sequence from the [UniProt](https://www.uniprot.org/) database (ID: P31749)\n",
    "\n",
    "```\n",
    ">sp|P31749|AKT1_HUMAN RAC-alpha serine/threonine-protein kinase OS=Homo sapiens OX=9606 GN=AKT1 PE=1 SV=2\n",
    "MSDVAIVKEGWLHKRGEYIKTWRPRYFLLKNDGTFIGYKERPQDVDQREAPLNNFSVAQC\n",
    "QLMKTERPRPNTFIIRCLQWTTVIERTFHVETPEEREEWTTAIQTVADGLKKQEEEEMDF\n",
    "RSGSPSDNSGAEEMEVSLAKPKHRVTMNEFEYLKLLGKGTFGKVILVKEKATGRYYAMKI\n",
    "LKKEVIVAKDEVAHTLTENRVLQNSRHPFLTALKYSFQTHDRLCFVMEYANGGELFFHLS\n",
    "RERVFSEDRARFYGAEIVSALDYLHSEKNVVYRDLKLENLMLDKDGHIKITDFGLCKEGI\n",
    "KDGATMKTFCGTPEYLAPEVLEDNDYGRAVDWWGLGVVMYEMMCGRLPFYNQDHEKLFEL\n",
    "ILMEEIRFPRTLGPEAKSLLSGLLKKDPKQRLGGGSEDAKEIMQHRFFAGIVWQHVYEKK\n",
    "LSPPFKPQVTSETDTRYFDEEFTAQMITITPPDQDDSMECVDSERRPHFPQFSYSASGTA\n",
    "```\n",
    "(from https://rest.uniprot.org/uniprotkb/P31749.fasta)\n",
    "\n",
    "We'll quickly  modify the fasta so, as boltz expects the sequence type and a path to an `a3m` file (which we'll leave empty):\n"
   ]
  },
  {
   "cell_type": "code",
   "execution_count": null,
   "id": "9c93f08d",
   "metadata": {},
   "outputs": [],
   "source": [
    "with open('p31749.fasta', 'w') as f:\n",
    "    f.write(\n",
    "\"\"\"\n",
    ">A|protein|\n",
    "MSDVAIVKEGWLHKRGEYIKTWRPRYFLLKNDGTFIGYKERPQDVDQREAPLNNFSVAQC\n",
    "QLMKTERPRPNTFIIRCLQWTTVIERTFHVETPEEREEWTTAIQTVADGLKKQEEEEMDF\n",
    "RSGSPSDNSGAEEMEVSLAKPKHRVTMNEFEYLKLLGKGTFGKVILVKEKATGRYYAMKI\n",
    "LKKEVIVAKDEVAHTLTENRVLQNSRHPFLTALKYSFQTHDRLCFVMEYANGGELFFHLS\n",
    "RERVFSEDRARFYGAEIVSALDYLHSEKNVVYRDLKLENLMLDKDGHIKITDFGLCKEGI\n",
    "KDGATMKTFCGTPEYLAPEVLEDNDYGRAVDWWGLGVVMYEMMCGRLPFYNQDHEKLFEL\n",
    "ILMEEIRFPRTLGPEAKSLLSGLLKKDPKQRLGGGSEDAKEIMQHRFFAGIVWQHVYEKK\n",
    "LSPPFKPQVTSETDTRYFDEEFTAQMITITPPDQDDSMECVDSERRPHFPQFSYSASGTA\n",
    "\"\"\"\n",
    "    )\n"
   ]
  },
  {
   "cell_type": "markdown",
   "id": "8f8eb7cd",
   "metadata": {},
   "source": [
    "With this, we can run a Boltz prediction. If you want to run the prediction yourself, uncomment the first line and comment out the rest of the next cell."
   ]
  },
  {
   "cell_type": "code",
   "execution_count": null,
   "id": "c6071b71",
   "metadata": {},
   "outputs": [],
   "source": [
    "# !boltz predict p31749.fasta --use_msa_server\n",
    "!wget -O boltz_results_p31749.zip https://uni-muenster.sciebo.de/s/qyFes2eQQApmroC/download\n",
    "!unzip -o boltz_results_p31749.zip\n",
    "!rm boltz_results_p31749.zip"
   ]
  },
  {
   "cell_type": "markdown",
   "id": "2e9205b8",
   "metadata": {},
   "source": [
    "We can have a look at the predicted fold and compare it to the crystal structure:"
   ]
  },
  {
   "cell_type": "code",
   "execution_count": null,
   "id": "1071cae3",
   "metadata": {},
   "outputs": [],
   "source": [
    "name = 'p31749'\n",
    "structure_path = f\"boltz_results_{name}/predictions/{name}/{name}_model_0.cif\"\n",
    "\n",
    "with open(structure_path) as ifile:\n",
    "    system = \"\".join([x for x in ifile])\n",
    "\n",
    "view = py3Dmol.view(width=800, height=600, query='pdb:3mvh', linked=True)\n",
    "view.addModelsAsFrames(system)\n",
    "view.setStyle({'model': -1}, {\"cartoon\": {'color': 'red'}}) # our prediction\n",
    "view.setStyle({'model': -2}, {\"cartoon\": {'color': 'green'}}) # PDB:3mvh\n",
    "view.zoomTo()\n",
    "view.show()"
   ]
  },
  {
   "cell_type": "markdown",
   "id": "5be8eb5f",
   "metadata": {},
   "source": [
    "The predicted structure (red) does look like a sensible protein, with some alpha helices and beta sheets. However, since the two structures aren't aligned, we can't really tell how good the prediction is. So that is what we'll tackle next."
   ]
  },
  {
   "cell_type": "markdown",
   "id": "ec899d07",
   "metadata": {},
   "source": [
    "### Aligning Structures in Python\n",
    "\n",
    "We'll use the `biopython` package to align two structures."
   ]
  },
  {
   "cell_type": "code",
   "execution_count": null,
   "id": "afac2cc4",
   "metadata": {},
   "outputs": [],
   "source": [
    "# download the crystal structure for alignment\n",
    "!curl https://files.rcsb.org/download/3MVH.cif > 3mvh.cif"
   ]
  },
  {
   "cell_type": "code",
   "execution_count": null,
   "id": "14127754",
   "metadata": {},
   "outputs": [],
   "source": [
    "try:\n",
    "    from Bio.PDB import MMCIFParser, PDBIO\n",
    "    from Bio.PDB.cealign import CEAligner\n",
    "except ImportError:\n",
    "    !pip install biopython\n",
    "    from Bio.PDB import MMCIFParser, PDBIO\n",
    "    from Bio.PDB.cealign import CEAligner\n",
    "\n",
    "# Load the structures\n",
    "parser = MMCIFParser(QUIET=True)\n",
    "struct_3mvh = parser.get_structure(\"3mvh\", \"3mvh.cif\")\n",
    "struct_folded_p31749 = parser.get_structure(\"p31749_folded\", structure_path)\n",
    "\n",
    "# Align using biopython\n",
    "aligner = CEAligner()\n",
    "aligner.set_reference(struct_3mvh)\n",
    "aligner.align(struct_folded_p31749) # this will change the coordinates\n",
    "\n",
    "print(f\"RMSD: {aligner.rms:.4f}\")\n",
    "\n",
    "# we save the aligned structure to show it easily with py3Dmol\n",
    "io = PDBIO()\n",
    "io.set_structure(struct_folded_p31749)\n",
    "io.save('p31749_aligned.pdb')"
   ]
  },
  {
   "cell_type": "code",
   "execution_count": null,
   "id": "d81bd588",
   "metadata": {},
   "outputs": [],
   "source": [
    "with open(\"p31749_aligned.pdb\") as f:\n",
    "    predicted = \"\".join([x for x in f])\n",
    "\n",
    "view = py3Dmol.view(width=400, height=300, query='pdb:3mvh', linked=True)\n",
    "view.addModelsAsFrames(predicted)\n",
    "view.setStyle({'model': -1}, {\"cartoon\": {'color': 'red'}}) # our prediction\n",
    "view.setStyle({'model': -2}, {\"cartoon\": {'color': 'green'}}) # PDB:3mvh\n",
    "view.zoomTo()\n",
    "view.show()"
   ]
  },
  {
   "cell_type": "markdown",
   "id": "9096ae6b",
   "metadata": {},
   "source": [
    "We see now that the fold seems to be largly correct. The RMSD is a bit high, but the sequences are of different length, so we expect that. Some of the outer loops are of our prediction don't show nice secondary structures. As we don't have a crystal structure to directly compare, we can't be sure whether that is an artifact of the folding or if these are just flexible regions that would also be difficult to locate in crystal structures. We could play around more with the folding settings to try and get a better structure (generating more examples, using more steps, etc.), but for this exercise we'll stay with the basic prediction.\n",
    "\n",
    "We can also predict the structure for the same sequence and align it:"
   ]
  },
  {
   "cell_type": "code",
   "execution_count": null,
   "id": "7f97b466",
   "metadata": {},
   "outputs": [],
   "source": [
    "with open(\"3mvh.fasta\", \"w\") as f: # from https://www.rcsb.org/fasta/entry/3MVH\n",
    "    f.write(\"\"\"\n",
    ">A|protein\n",
    "GAMDPRVTMNEFEYLKLLGKGTFGKVILVKEKATGRYYAMKILKKEVIVAKDEVAHTLTENRVLQNSRHPFLTALKYSFQ\n",
    "THDRLCFVMEYANGGELFFHLSRERVFSEDRARFYGAEIVSALDYLHSEKNVVYRDLKLENLMLDKDGHIKITDFGLCKE\n",
    "GIKDGATMKTFCGTPEYLAPEVLEDNDYGRAVDWWGLGVVMYEMMCGRLPFYNQDHEKLFELILMEEIRFPRTLGPEAKS\n",
    "LLSGLLKKDPKQRLGGGSEDAKEIMQHRFFAGIVWQHVYEKKLSPPFKPQVTSETDTRYFDEEFTAQMITITPPDQDDSM\n",
    "ECVDSERRPHFPQFDYSASSTA\n",
    "\"\"\")\n",
    "\n",
    "# !boltz predict 3mvh.fasta --use_msa_server\n",
    "!wget -O boltz_results_3mvh.zip https://uni-muenster.sciebo.de/s/WxzfcnrtiKE4HyP/download\n",
    "!unzip -o boltz_results_3mvh.zip\n",
    "!rm boltz_results_3mvh.zip"
   ]
  },
  {
   "cell_type": "code",
   "execution_count": null,
   "id": "d0048de7",
   "metadata": {},
   "outputs": [],
   "source": [
    "name = '3mvh'\n",
    "path_3mvh_folded = f\"boltz_results_{name}/predictions/{name}/{name}_model_0.cif\"\n",
    "\n",
    "# Load the structures\n",
    "parser = MMCIFParser(QUIET=True)\n",
    "struct_3mvh = parser.get_structure(\"3mvh\", \"3mvh.cif\")\n",
    "struct_folded_3mvh = parser.get_structure(\"3mvh_folded\", path_3mvh_folded)\n",
    "\n",
    "# Align using biopython\n",
    "aligner = CEAligner()\n",
    "aligner.set_reference(struct_3mvh)\n",
    "aligner.align(struct_folded_3mvh) # this will change the coordinates\n",
    "\n",
    "print(f\"RMSD: {aligner.rms:.4f}\")\n",
    "io = PDBIO()\n",
    "io.set_structure(struct_folded_3mvh)\n",
    "io.save('3mvh_aligned.pdb')\n",
    "\n",
    "with open(\"3mvh_aligned.pdb\") as f:\n",
    "    predicted = \"\".join([x for x in f])\n",
    "\n",
    "view = py3Dmol.view(width=400, height=300, query='pdb:3mvh', linked=True)\n",
    "view.addModelsAsFrames(predicted)\n",
    "view.setStyle({'model': -1}, {\"cartoon\": {'color': 'red'}}) # our prediction\n",
    "view.setStyle({'model': -2}, {\"cartoon\": {'color': 'green'}}) # PDB:3mvh\n",
    "view.zoomTo()\n",
    "view.show()"
   ]
  },
  {
   "cell_type": "markdown",
   "id": "398a0b04",
   "metadata": {},
   "source": [
    "Here we see an almost perfect alignment. As the structure is from 2010, it is well within the training range for the model and thus we expected a good performance."
   ]
  },
  {
   "cell_type": "markdown",
   "id": "a1683d1a",
   "metadata": {},
   "source": [
    "## Co-folding\n",
    "\n",
    "Newer developements of these models lead to better DNA/RNA co-folding (which we will not look at here) and to protein-ligand complex co-folding. The model we have been working with so far has been crystalized with a ligand binding to the orthosteric pocket."
   ]
  },
  {
   "cell_type": "code",
   "execution_count": null,
   "id": "ca7e2937",
   "metadata": {},
   "outputs": [],
   "source": [
    "view = py3Dmol.view(width=400, height=300, query='pdb:3mvh', linked=True)\n",
    "view.setStyle({\"cartoon\": {'color': 'green'}})\n",
    "view.setStyle({'resn': 'WFE'}, {\"stick\": {'color': 'red'}})\n",
    "view.zoomTo()\n",
    "view.show()"
   ]
  },
  {
   "cell_type": "markdown",
   "id": "ffe06580",
   "metadata": {},
   "source": [
    "However, so far we only predicted the protein structure, whithout any ligand present. Now, we'll modify our input `.fasta` file to also include the ligand. We'll use the longer sequence from the UniProt database. We could take the SMILES or simply use the CCD (Chemical Component Dictionary), a 3-letter code from the PDB to co-fold with.  "
   ]
  },
  {
   "cell_type": "code",
   "execution_count": null,
   "id": "16cc551e",
   "metadata": {},
   "outputs": [],
   "source": [
    "with open(\"p31749_ligand.fasta\", \"w\") as f: # from https://www.rcsb.org/fasta/entry/3MVH\n",
    "    f.write(\"\"\"\n",
    ">A|protein|\n",
    "MSDVAIVKEGWLHKRGEYIKTWRPRYFLLKNDGTFIGYKERPQDVDQREAPLNNFSVAQC\n",
    "QLMKTERPRPNTFIIRCLQWTTVIERTFHVETPEEREEWTTAIQTVADGLKKQEEEEMDF\n",
    "RSGSPSDNSGAEEMEVSLAKPKHRVTMNEFEYLKLLGKGTFGKVILVKEKATGRYYAMKI\n",
    "LKKEVIVAKDEVAHTLTENRVLQNSRHPFLTALKYSFQTHDRLCFVMEYANGGELFFHLS\n",
    "RERVFSEDRARFYGAEIVSALDYLHSEKNVVYRDLKLENLMLDKDGHIKITDFGLCKEGI\n",
    "KDGATMKTFCGTPEYLAPEVLEDNDYGRAVDWWGLGVVMYEMMCGRLPFYNQDHEKLFEL\n",
    "ILMEEIRFPRTLGPEAKSLLSGLLKKDPKQRLGGGSEDAKEIMQHRFFAGIVWQHVYEKK\n",
    "LSPPFKPQVTSETDTRYFDEEFTAQMITITPPDQDDSMECVDSERRPHFPQFSYSASGTA\n",
    ">B|ccd\n",
    "WFE\n",
    "\"\"\")\n",
    "\n",
    "# !boltz predict p31749_ligand.fasta --use_msa_server\n",
    "!wget -O boltz_results_p31749_ligand.zip https://uni-muenster.sciebo.de/s/3A4q9xnJDb76GjE/download\n",
    "!unzip -o boltz_results_p31749_ligand.zip\n",
    "!rm boltz_results_p31749_ligand.zip"
   ]
  },
  {
   "cell_type": "code",
   "execution_count": null,
   "id": "38976b58",
   "metadata": {},
   "outputs": [],
   "source": [
    "name = 'p31749_ligand'\n",
    "structure_path = f\"boltz_results_{name}/predictions/{name}/{name}_model_0.cif\"\n",
    "\n",
    "with open(structure_path) as f:\n",
    "    predicted = \"\".join([x for x in f])\n",
    "\n",
    "view = py3Dmol.view(width=400, height=300, linked=True)\n",
    "view.addModelsAsFrames(predicted)\n",
    "view.setStyle({\"cartoon\": {'color': 'green'}})\n",
    "view.setStyle({'resn': 'WFE'}, {\"stick\": {'color': 'red'}})\n",
    "view.zoomTo()\n",
    "view.show()"
   ]
  },
  {
   "cell_type": "markdown",
   "id": "d5e1d940",
   "metadata": {},
   "source": [
    "In a real drug design setting (and also when using classic docking programs) such a pose is followed by a visual inspection. Here, we check wether the placement and the conformation makes sense. \n",
    "\n",
    "- Are the benzene rings flat?\n",
    "- Do we have weird angles or geometry?\n",
    "- Is the ligand to close to / inside of the protein chain?\n",
    "- Does the ligand still have the right stereo-chemistry and bonds?\n",
    "\n",
    "Especially the last two points can be more of a problem for co-folding models, classic docking programs typically have no problem here.\n",
    "\n",
    "There is another point, and that is the placement in the pocket. With classical docking programs, you often have to manually decide where the pocket of the protein is, however with co-folding methods we are not given that option and the models just places the ligand where it thinks it fits best.\n",
    "\n",
    "Let's check wheter the model places the ligand in the correct place:"
   ]
  },
  {
   "cell_type": "code",
   "execution_count": null,
   "id": "774fab30",
   "metadata": {},
   "outputs": [],
   "source": [
    "name = 'p31749_ligand'\n",
    "path_p31749_ligand = f\"boltz_results_{name}/predictions/{name}/{name}_model_0.cif\"\n",
    "\n",
    "parser = MMCIFParser(QUIET=True)\n",
    "struct_3mvh = parser.get_structure(\"3mvh\", \"3mvh.cif\")\n",
    "struct_p31749_ligand = parser.get_structure(\"p31749_ligand\", path_p31749_ligand)\n",
    "\n",
    "aligner = CEAligner()\n",
    "aligner.set_reference(struct_3mvh)\n",
    "aligner.align(struct_p31749_ligand) # this will change the coordinates\n",
    "\n",
    "print(f\"RMSD: {aligner.rms:.4f}\")\n",
    "io = PDBIO()\n",
    "io.set_structure(struct_p31749_ligand)\n",
    "io.save('p31749_ligand_aligned.pdb')\n",
    "\n",
    "with open(\"p31749_ligand_aligned.pdb\") as f:\n",
    "    predicted = \"\".join([x for x in f])\n",
    "\n",
    "view = py3Dmol.view(width=400, height=300, query='pdb:3mvh', linked=True)\n",
    "view.addModelsAsFrames(predicted)\n",
    "view.setStyle({'model': -1}, {\"cartoon\": {'color': 'red'}}) # our prediction\n",
    "view.setStyle({'model': -1, 'resn': 'WFE'}, {\"stick\": {'color': 'blue'}}) # our prediction\n",
    "view.setStyle({'model': -2}, {\"cartoon\": {'color': 'green'}}) # PDB:3mvh\n",
    "view.setStyle({'model': -2, 'resn': 'WFE'}, {\"stick\": {'color': 'yellow'}}) # PDB:3mvh\n",
    "view.zoomTo()\n",
    "view.show()"
   ]
  },
  {
   "cell_type": "markdown",
   "id": "bd4ff6bd",
   "metadata": {},
   "source": [
    "Nice! The placement looks quite good, not just the position, but also the conformation."
   ]
  },
  {
   "cell_type": "markdown",
   "id": "e124cb46",
   "metadata": {},
   "source": [
    "## Task: Co-fold a different ligand\n",
    "\n",
    "Now its your turn. Generate a `.fasta` file, but instead of a ligand that we know can bind, try using this SMILES instead: `CC(=O)Nc1cccc(c1)c2ccc3c(n2)n(c(n3)c4cccnc4N)c5ccc(cc5)CNC(=O)c6cccc(c6)F`. Then either predict the structure (or download it)."
   ]
  },
  {
   "cell_type": "code",
   "execution_count": null,
   "id": "c1f6049a",
   "metadata": {},
   "outputs": [],
   "source": [
    "with open(\"new_ligand.fasta\", \"w\") as f:\n",
    "    pass # put the entries to your new fasta file here\n",
    "# hint: instead of `ccd` you'll now have to use `smiles`\n",
    "\n",
    "# predict here\n",
    "# or use the folder at https://uni-muenster.sciebo.de/s/He772EYLa2AHMrw/download"
   ]
  },
  {
   "cell_type": "code",
   "execution_count": null,
   "id": "19497e2d",
   "metadata": {},
   "outputs": [],
   "source": [
    "with open(\"new_ligand.fasta\", \"w\") as f: # from https://www.rcsb.org/fasta/entry/3MVH\n",
    "    f.write(\"\"\"\n",
    ">A|protein|\n",
    "MSDVAIVKEGWLHKRGEYIKTWRPRYFLLKNDGTFIGYKERPQDVDQREAPLNNFSVAQC\n",
    "QLMKTERPRPNTFIIRCLQWTTVIERTFHVETPEEREEWTTAIQTVADGLKKQEEEEMDF\n",
    "RSGSPSDNSGAEEMEVSLAKPKHRVTMNEFEYLKLLGKGTFGKVILVKEKATGRYYAMKI\n",
    "LKKEVIVAKDEVAHTLTENRVLQNSRHPFLTALKYSFQTHDRLCFVMEYANGGELFFHLS\n",
    "RERVFSEDRARFYGAEIVSALDYLHSEKNVVYRDLKLENLMLDKDGHIKITDFGLCKEGI\n",
    "KDGATMKTFCGTPEYLAPEVLEDNDYGRAVDWWGLGVVMYEMMCGRLPFYNQDHEKLFEL\n",
    "ILMEEIRFPRTLGPEAKSLLSGLLKKDPKQRLGGGSEDAKEIMQHRFFAGIVWQHVYEKK\n",
    "LSPPFKPQVTSETDTRYFDEEFTAQMITITPPDQDDSMECVDSERRPHFPQFSYSASGTA\n",
    ">B|smiles\n",
    "CC(=O)Nc1cccc(c1)c2ccc3c(n2)n(c(n3)c4cccnc4N)c5ccc(cc5)CNC(=O)c6cccc(c6)F\n",
    "\"\"\")\n",
    "\n",
    "# !boltz predict new_ligand.fasta --use_msa_server\n",
    "# !wget -O boltz_results_new_ligand.zip https://uni-muenster.sciebo.de/s/He772EYLa2AHMrw/download\n",
    "# !unzip -o boltz_results_new_ligand.zip\n",
    "# !rm boltz_results_new_ligand.zip"
   ]
  },
  {
   "cell_type": "markdown",
   "id": "3fe07076",
   "metadata": {},
   "source": [
    "Now try aligning the two predicted structures. Where is the ligand placed?"
   ]
  },
  {
   "cell_type": "code",
   "execution_count": null,
   "id": "e0348e4a",
   "metadata": {},
   "outputs": [],
   "source": [
    "name = 'p31749_ligand'\n",
    "path_p31749_ligand = f\"boltz_results_{name}/predictions/{name}/{name}_model_0.cif\"\n",
    "name = 'new_ligand'\n",
    "path_new_ligand = f\"boltz_results_{name}/predictions/{name}/{name}_model_0.cif\"\n",
    "\n",
    "# We have to rename the new ligand from `LIG1` to `LIG`, otherwise py3Dmol breaks\n",
    "!sed -i 's/LIG1/LIG/g' boltz_results_new_ligand/predictions/new_ligand/new_ligand_model_0.cif\n",
    "\n",
    "parser = MMCIFParser(QUIET=True)\n",
    "struct_p31749_ligand = parser.get_structure(\"p31749_ligand\", path_p31749_ligand)\n",
    "struct_new_ligand = parser.get_structure(\"new_ligand\", path_new_ligand)\n",
    "\n",
    "aligner = CEAligner()\n",
    "aligner.set_reference(struct_p31749_ligand)\n",
    "aligner.align(struct_new_ligand) # this will change the coordinates\n",
    "\n",
    "print(f\"RMSD: {aligner.rms:.4f}\")\n",
    "io = PDBIO()\n",
    "io.set_structure(struct_new_ligand)\n",
    "io.save('new_ligand_aligned.pdb')\n",
    "\n",
    "with open(path_p31749_ligand) as f:\n",
    "    predicted_first_ligand = \"\".join([x for x in f])\n",
    "with open('new_ligand_aligned.pdb') as f:\n",
    "    predicted_new_ligand = \"\".join([x for x in f])\n",
    "\n",
    "view = py3Dmol.view(width=400, height=300, linked=True)\n",
    "view.addModelsAsFrames(predicted_first_ligand)\n",
    "view.addModelsAsFrames(predicted_new_ligand)\n",
    "view.setStyle({'model': -2}, {\"cartoon\": {'color': 'green'}}) # first prediction\n",
    "view.setStyle({'model': -2, 'resn': 'WFE'}, {\"stick\": {'color': 'yellow'}}) # first prediction\n",
    "view.setStyle({'model': -1}, {\"cartoon\": {'color': 'red'}}) # new_ligand\n",
    "view.setStyle({'model': -1, 'resn': 'LIG'}, {\"stick\": {'color': 'blue'}}) # new_ligand\n",
    "view.zoomTo()\n",
    "view.show()"
   ]
  },
  {
   "cell_type": "markdown",
   "id": "ff5b9788",
   "metadata": {},
   "source": [
    "So, the ligand looks sensible, but it is placed in a different pocket. Actually, this ligand is a know allosteric binder to AKT1, so we can actually compare our fold with another crystal structure (PDB: `4EJN`):"
   ]
  },
  {
   "cell_type": "code",
   "execution_count": null,
   "id": "768701ad",
   "metadata": {},
   "outputs": [],
   "source": [
    "!curl https://files.rcsb.org/download/4EJN.cif > 4ejn.cif"
   ]
  },
  {
   "cell_type": "code",
   "execution_count": null,
   "id": "3f39b0c6",
   "metadata": {},
   "outputs": [],
   "source": [
    "name = 'new_ligand'\n",
    "path_new_ligand = f\"boltz_results_{name}/predictions/{name}/{name}_model_0.cif\"\n",
    "\n",
    "parser = MMCIFParser(QUIET=True)\n",
    "struct_4ejn = parser.get_structure(\"4ejn\", \"4ejn.cif\")\n",
    "struct_new_ligand = parser.get_structure(\"new_ligand\", path_new_ligand)\n",
    "\n",
    "aligner = CEAligner()\n",
    "aligner.set_reference(struct_4ejn)\n",
    "aligner.align(struct_new_ligand) # this will change the coordinates\n",
    "\n",
    "print(f\"RMSD: {aligner.rms:.4f}\")\n",
    "io = PDBIO()\n",
    "io.set_structure(struct_new_ligand)\n",
    "io.save('new_ligand_aligned_2.pdb')\n",
    "\n",
    "with open('new_ligand_aligned_2.pdb') as f:\n",
    "    predicted_new_ligand = \"\".join([x for x in f])\n",
    "\n",
    "view = py3Dmol.view(width=400, height=300, query='pdb:4ejn', linked=True)\n",
    "view.addModelsAsFrames(predicted_new_ligand)\n",
    "view.setStyle({'model': -2}, {\"cartoon\": {'color': 'green'}}) # pdb: 4ejn\n",
    "view.setStyle({'model': -2, 'resn': '0R4'}, {\"stick\": {'color': 'yellow'}}) # pdb: 4ejn\n",
    "view.setStyle({'model': -1}, {\"cartoon\": {'color': 'red'}}) # new_ligand\n",
    "view.setStyle({'model': -1, 'resn': 'LIG'}, {\"stick\": {'color': 'blue'}}) # new_ligand\n",
    "view.zoomTo()\n",
    "view.show()"
   ]
  },
  {
   "cell_type": "markdown",
   "id": "f73eb5fe",
   "metadata": {},
   "source": [
    "As we can see, the conformation is slightly different, but the overall placement looks quite good. However, [research](https://www.sciencedirect.com/science/article/pii/S2667318525000121) has shown that this example is in the minority when it comes to allosteric and orthosteric binding pockets. **More often than not, the allosteric ligand will end up in the orthosteric pocket, despite both orthosteric and allosteric protein-ligand complexes being part of the training dataset.** This will be explored more in the next task."
   ]
  },
  {
   "cell_type": "markdown",
   "id": "24638d92",
   "metadata": {},
   "source": [
    "## Bonus Task: Finding an example where the wrong pocket is chosen\n",
    "\n",
    "Try to apply your newly gained knowledge on `PTK2` (PDB: 3BZ3 (orhtosteric), 4EBV (allosteric)). Does the ligand end up in the correct pocket for both crystal structures?"
   ]
  },
  {
   "cell_type": "code",
   "execution_count": null,
   "id": "765c7363",
   "metadata": {},
   "outputs": [],
   "source": [
    "# create the .fasta files\n",
    "\n",
    "# predict the structures\n",
    "# or use prepared predictions\n",
    "# https://uni-muenster.sciebo.de/s/jdnbJBgdLrwrRi8/download [3bz3]\n",
    "# https://uni-muenster.sciebo.de/s/aFrWACDdJ4kRXGo/download [4ebv]\n",
    "\n",
    "# align and view output  "
   ]
  },
  {
   "cell_type": "markdown",
   "id": "63706316",
   "metadata": {},
   "source": [
    "## Bonus Task: Affinity Prediction\n",
    "Boltz2 is able to predict protein-ligand binding affinities. For that to work, the input file has to be in `yaml` format. Try converting one of the `.fasta` files to a `.yaml` file ([this documentation](https://github.com/jwohlwend/boltz/blob/main/docs/prediction.md) will help). And run an affinity prediction by adding the `affinity` property to the yaml file."
   ]
  },
  {
   "cell_type": "code",
   "execution_count": null,
   "id": "bbe84591",
   "metadata": {},
   "outputs": [],
   "source": [
    "# your code goes here"
   ]
  }
 ],
 "metadata": {
  "kernelspec": {
   "display_name": "intro-pharma-ai",
   "language": "python",
   "name": "python3"
  },
  "language_info": {
   "codemirror_mode": {
    "name": "ipython",
    "version": 3
   },
   "file_extension": ".py",
   "mimetype": "text/x-python",
   "name": "python",
   "nbconvert_exporter": "python",
   "pygments_lexer": "ipython3",
   "version": "3.13.5"
  }
 },
 "nbformat": 4,
 "nbformat_minor": 5
}
