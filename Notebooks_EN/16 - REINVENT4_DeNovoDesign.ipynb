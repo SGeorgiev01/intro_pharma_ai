{
  "nbformat": 4,
  "nbformat_minor": 0,
  "metadata": {
    "colab": {
      "provenance": []
    },
    "kernelspec": {
      "name": "python3",
      "display_name": "Python 3"
    },
    "language_info": {
      "name": "python"
    }
  },
  "cells": [
    {
      "cell_type": "markdown",
      "source": [
        "# **De novo design with REINVENT4**\n",
        "By the end of this lesson, you will be able to:\n",
        "\n",
        "*  Understand the fundamentals of reinforcement learning for molecular generation\n",
        "*  Explain how REINVENT4 uses RL to optimize molecular properties  \n",
        "*  Configure REINVENT4 for different molecular design tasks\n",
        "*  Analyze the impact of sigma and diverstiy filter on learning\n",
        "*  Apply sampling and scoring workflows to evaluate generated molecules\n",
        "*  Implement transfer learning for specific drug discovery targets\n",
        "\n",
        "\n"
      ],
      "metadata": {
        "id": "HeRKJfeQG4xe"
      }
    },
    {
      "cell_type": "markdown",
      "source": [
        "First, we need to download REINVENT4 and install the required packages. After the installation, Colab needs to restart the session, so you must confirm it before continuing with the cell below. The process takes about 5 minutes."
      ],
      "metadata": {
        "id": "NIJAMlmKJaXS"
      }
    },
    {
      "cell_type": "code",
      "source": [
        "!wget https://uni-muenster.sciebo.de/s/T6PHKsMkJfBxa3F/download\n",
        "!unzip -q download -d /content/\n",
        "%cd REINVENT4\n",
        "%pip install torch==2.7.1 torchvision==0.22.1 torchaudio==2.7.1 --index-url https://download.pytorch.org/whl/cpu\n",
        "%pip install -r reinvent_requirements.txt"
      ],
      "metadata": {
        "id": "eZVD9ocZYaam",
        "collapsed": true
      },
      "execution_count": null,
      "outputs": []
    },
    {
      "cell_type": "code",
      "source": [
        "%pip install mols2grid\n",
        "import os\n",
        "import pandas as pd\n",
        "from rdkit import Chem\n",
        "from rdkit.Chem import Descriptors\n",
        "import mols2grid"
      ],
      "metadata": {
        "id": "TD1mgXBfaLvm",
        "collapsed": true
      },
      "execution_count": null,
      "outputs": []
    },
    {
      "cell_type": "markdown",
      "source": [
        "To understand REINVENT's parameters, we will train two models with the same reward function but with different sigma values. The sigma adjusts the balance between the prior model and the model currently under training. In other words, it is the weight of the reward function. A larger weight means the reward function has more impact on training.  \n",
        "\n",
        "To illustrate sigma more clearly, we have chosen a somewhat unusual task: rewarding large molecules with molecular weights between 700 and 1200 Da. To do this, we need to create two TOML configuration files. In each file, we define global parameters, learning strategy, and stage. The sigma is part of the learning strategy.  \n",
        "\n",
        "Initially, we will use sigma = 128, as the authors suggested, and then we will try sigma = 16.\n"
      ],
      "metadata": {
        "id": "1Om1mr8obco8"
      }
    },
    {
      "cell_type": "code",
      "source": [
        "global_parameters = \"\"\"\n",
        "run_type = \"staged_learning\"\n",
        "device = \"cpu\"\n",
        "tb_logdir = \"tb_logs_sigma128_unusualmw\"\n",
        "json_out_config = \"_stage1.json\"\n",
        "\"\"\"\n",
        "\n",
        "prior_filename = os.path.join(\"/content/REINVENT4/priors/reinvent.prior\")\n",
        "agent_filename = prior_filename\n",
        "\n",
        "parameters = f\"\"\"\n",
        "[parameters]\n",
        "\n",
        "prior_file = \"{prior_filename}\"\n",
        "agent_file = \"{agent_filename}\"\n",
        "summary_csv_prefix = \"stage1\"\n",
        "\n",
        "batch_size = 64\n",
        "\n",
        "use_checkpoint = false\n",
        "\"\"\"\n",
        "\n",
        "\n",
        "learning_strategy = \"\"\"\n",
        "[learning_strategy]\n",
        "\n",
        "type = \"dap\"\n",
        "sigma = 128\n",
        "rate = 0.0001\n",
        "\"\"\"\n",
        "\n",
        "stages = \"\"\"\n",
        "[[stage]]\n",
        "\n",
        "max_score = 1.0\n",
        "min_steps = 50\n",
        "max_steps = 300\n",
        "\n",
        "chkpt_file = 'stage1.chkpt'\n",
        "\n",
        "[stage.scoring]\n",
        "type = \"geometric_mean\"\n",
        "\n",
        "[[stage.scoring.component]]\n",
        "[stage.scoring.component.custom_alerts]\n",
        "\n",
        "[[stage.scoring.component.custom_alerts.endpoint]]\n",
        "name = \"Alerts\"\n",
        "\n",
        "params.smarts = [\n",
        "    \"[*;r8]\",\n",
        "    \"[*;r9]\",\n",
        "    \"[*;r10]\",\n",
        "    \"[*;r11]\",\n",
        "    \"[*;r12]\",\n",
        "    \"[*;r13]\",\n",
        "    \"[*;r14]\",\n",
        "    \"[*;r15]\",\n",
        "    \"[*;r16]\",\n",
        "    \"[*;r17]\",\n",
        "    \"[#8][#8]\",\n",
        "    \"[#6;+]\",\n",
        "    \"[#16][#16]\",\n",
        "    \"[#7;!n][S;!$(S(=O)=O)]\",\n",
        "    \"[#7;!n][#7;!n]\",\n",
        "    \"C#C\",\n",
        "    \"C(=[O,S])[O,S]\",\n",
        "    \"[#7;!n][C;!$(C(=[O,N])[N,O])][#16;!s]\",\n",
        "    \"[#7;!n][C;!$(C(=[O,N])[N,O])][#7;!n]\",\n",
        "    \"[#7;!n][C;!$(C(=[O,N])[N,O])][#8;!o]\",\n",
        "    \"[#8;!o][C;!$(C(=[O,N])[N,O])][#16;!s]\",\n",
        "    \"[#8;!o][C;!$(C(=[O,N])[N,O])][#8;!o]\",\n",
        "    \"[#16;!s][C;!$(C(=[O,N])[N,O])][#16;!s]\"\n",
        "]\n",
        "[[stage.scoring.component]]\n",
        "[stage.scoring.component.MolecularWeight]\n",
        "\n",
        "[[stage.scoring.component.MolecularWeight.endpoint]]\n",
        "name = \"Molecular weight\"  # user chosen name for output\n",
        "weight = 1  # weight to fine-tune the relevance of this component\n",
        "\n",
        "transform.type = \"double_sigmoid\"\n",
        "transform.high = 1200.0\n",
        "transform.low = 700.0\n",
        "transform.coef_div = 1200.0\n",
        "transform.coef_si = 20.0\n",
        "transform.coef_se = 20.0\n",
        "\"\"\"\n",
        "\n"
      ],
      "metadata": {
        "id": "9iuQi6UFtBDR"
      },
      "execution_count": null,
      "outputs": []
    },
    {
      "cell_type": "code",
      "source": [
        "%cd /content/REINVENT4\n",
        "config = global_parameters + parameters + learning_strategy + stages\n",
        "\n",
        "toml_config_filename = \"stage128.toml\"\n",
        "\n",
        "with open(toml_config_filename, \"w\") as tf:\n",
        "    tf.write(config)\n",
        "# to create the toml file for the other model, change the sigma with 16 in the learning strategy in the cell above and the file name in this cell and rerun the cells"
      ],
      "metadata": {
        "id": "XlnuY0_nwy9B"
      },
      "execution_count": null,
      "outputs": []
    },
    {
      "cell_type": "markdown",
      "source": [
        "Trainig would take a lot of time with the Colab CPUs, so you can find chkpt files and tensorboard logs of the models we trained before with same config file above. Therefore you can skip the next cell and analyse the results with tensorboard. If you want to train it yourself, just execute the next cell."
      ],
      "metadata": {
        "id": "RvKxSb-ImyDj"
      }
    },
    {
      "cell_type": "code",
      "source": [
        "# this cell is optional (and will take a long time to execute)\n",
        "%%time\n",
        "!python -m reinvent.Reinvent -l stage1.log $toml_config_filename\n"
      ],
      "metadata": {
        "id": "81vGq37rv0rA"
      },
      "execution_count": null,
      "outputs": []
    },
    {
      "cell_type": "markdown",
      "source": [
        "To analyse models' learning performance, we will use tensorboard. First we need to call tensorboard to use it on Colab then we run tensorboard with log folders."
      ],
      "metadata": {
        "id": "8G-Qpn5P_tE6"
      }
    },
    {
      "cell_type": "code",
      "source": [
        "%load_ext tensorboard"
      ],
      "metadata": {
        "id": "zQbHuETSr2dr"
      },
      "execution_count": null,
      "outputs": []
    },
    {
      "cell_type": "markdown",
      "source": [
        "Inspect the results and see which model learnt to generate molecules with molecular weight between 700-1200."
      ],
      "metadata": {
        "id": "SaA2wJ8hAYoq"
      }
    },
    {
      "cell_type": "code",
      "source": [
        "%tensorboard  --logdir /content/REINVENT4/tb_logs_sigma128_unusualmw --load_fast true # the model with sigma=128"
      ],
      "metadata": {
        "id": "fAr0OXd5Fw23"
      },
      "execution_count": null,
      "outputs": []
    },
    {
      "cell_type": "code",
      "source": [
        "%tensorboard  --logdir /content/REINVENT4/tb_logs_sigma16_unusualmw --load_fast true # the model with sigma=16"
      ],
      "metadata": {
        "id": "QL4_W0bHsiLv"
      },
      "execution_count": null,
      "outputs": []
    },
    {
      "cell_type": "markdown",
      "source": [
        "By looking at the first **First 30 Structures** in tensorboard, we can see that the `sigma128` model shows much larger molecules than the `sigma16` model. We can also see that the **Molecular weight (raw)** in tensorboard approaches a value of about 800 Da for the `sigma128` model, wheras for the `sigma16` model the molecular weight fluctuates around 270 Da.\n",
        "\n",
        "So, even if we reward the same molecules (MW between 700-1200), the models learning abilities behave very different from each other. But what if we want to generate molecules with mw between 200-600, would be sigma=16 still insufficient? Let's see! We will use the log files of already trained model with these settings."
      ],
      "metadata": {
        "id": "6Eh7H9lKBxVa"
      }
    },
    {
      "cell_type": "code",
      "source": [
        "%tensorboard --logdir tb_logs_sigma16_normalmw --load_fast true"
      ],
      "metadata": {
        "id": "hm71GeFZBtrt"
      },
      "execution_count": null,
      "outputs": []
    },
    {
      "cell_type": "markdown",
      "source": [
        "The average scores for each step are higher than the previous model. It is not perfect, but much better. Even though the reward function has a lower impact on the training, the generated molecules are getting higher scores because REINVENT was trained on the ChEMBL database, and most of the molecules in ChEMBL are already in this range.\n",
        "\n",
        "So, the sigma parameter has a major impact on learning, especially when the task is generating molecules or exploring chemical space beyond the general ChEMBL distribution. In other words, if we want to break the bias coming from ChEMBL with a reward function, we might need a larger value of sigma.\n",
        "\n",
        "Maybe rewarding large molecules was a bit extreme, because we usually don’t want molecules that large in most drug discovery projects. Instead, let’s reward molecules with a lower number of rotatable bonds. How would we adjust the TOML file to reward molecules with fewer rotatable bonds so they get higher scores?\n",
        "\n",
        "In this case, we are going to transform the raw value with the reverse sigmoid function, because we want to reward molecules that have fewer rotatable bonds.\n",
        "\n",
        "The transform types in REINVENT4 are given below:\n",
        "\n",
        "**Sigmoid**: Smoothly transforms any real value into the interval (0, 1).\n",
        "\n",
        "**Reverse_sigmoid**: Same as sigmoid, but direction reversed. Use when you want low input values mapped to high outputs and vice versa.\n",
        "\n",
        "**Double_sigmoid**: Emphasizes values in the middle of a range while suppressing extremes. Use when you want to highlight \"middle\" inputs and not extremes.\n",
        "\n",
        "**Right_step**: Sharp thresholding; all values below the threshold map to 0, above to 1.\n",
        "\n",
        "**Left_step**: Inverse thresholding. Logic where you want the output high (1) for lower inputs.\n",
        "\n",
        "**Step**: Only values in a specific interval are mapped to 1; otherwise 0.\n",
        "\n",
        "**Value_mapping**: A mapping between discrete values. It assigns numeric values to categories.\n",
        "\n",
        "Additionally, we will add a diversity filter to promote scaffold diversity during RL runs. REINVENT4 includes a diversity filter that uses a memory organized into \"buckets\" storing specific scaffolds and assigns zero scores to molecules once scaffold buckets reach capacity. This prevents mode collapse in molecular generation."
      ],
      "metadata": {
        "id": "kHeqziktLJWZ"
      }
    },
    {
      "cell_type": "code",
      "source": [
        "global_parameters = \"\"\"\n",
        "run_type = \"staged_learning\"\n",
        "device = \"cpu\"\n",
        "tb_logdir = \"tb_logs_numrotbond\"\n",
        "json_out_config = \"_stage1.json\"\n",
        "\"\"\"\n",
        "\n",
        "prior_filename = os.path.join(\"/content/REINVENT4/priors/reinvent.prior\")\n",
        "agent_filename = prior_filename\n",
        "\n",
        "parameters = f\"\"\"\n",
        "[parameters]\n",
        "\n",
        "prior_file = \"{prior_filename}\"\n",
        "agent_file = \"{agent_filename}\"\n",
        "summary_csv_prefix = \"stage_numrotbond\"\n",
        "\n",
        "batch_size = 100\n",
        "\n",
        "use_checkpoint = false\n",
        "\"\"\"\n",
        "\n",
        "\n",
        "learning_strategy = \"\"\"\n",
        "[learning_strategy]\n",
        "\n",
        "type = \"dap\"\n",
        "sigma = 128\n",
        "rate = 0.0001\n",
        "\n",
        "[diversity_filter]\n",
        "\n",
        "type = \"IdenticalMurckoScaffold\" # IdenticalTopologicalScaffold,\n",
        "                                 # ScaffoldSimilarity, PenalizeSameSmiles\n",
        "bucket_size = 10                 # memory size in number of compounds\n",
        "minscore = 0.4                   # only memorize if this threshold is exceeded\n",
        "minsimilarity = 0.4              # minimum similarity for ScaffoldSimilarity\n",
        "penalty_multiplier = 0.5         # penalty factor for PenalizeSameSmiles\n",
        "\n",
        "\n",
        "\"\"\"\n",
        "\n",
        "stage = \"\"\"\n",
        "[[stage]]\n",
        "\n",
        "max_score = 1.0\n",
        "min_steps = 50\n",
        "max_steps = 300\n",
        "\n",
        "chkpt_file = 'numrotbond_reversesig.chkpt'\n",
        "\n",
        "[stage.scoring]\n",
        "type = \"geometric_mean\"\n",
        "\n",
        "######keep the alerts to avoid unwanted structures\n",
        "\n",
        "[[stage.scoring.component]]\n",
        "[stage.scoring.component.custom_alerts]\n",
        "\n",
        "[[stage.scoring.component.custom_alerts.endpoint]]\n",
        "name = \"Alerts\"\n",
        "\n",
        "params.smarts = [\n",
        "    \"[*;r8]\",\n",
        "    \"[*;r9]\",\n",
        "    \"[*;r10]\",\n",
        "    \"[*;r11]\",\n",
        "    \"[*;r12]\",\n",
        "    \"[*;r13]\",\n",
        "    \"[*;r14]\",\n",
        "    \"[*;r15]\",\n",
        "    \"[*;r16]\",\n",
        "    \"[*;r17]\",\n",
        "    \"[#8][#8]\",\n",
        "    \"[#6;+]\",\n",
        "    \"[#16][#16]\",\n",
        "    \"[#7;!n][S;!$(S(=O)=O)]\",\n",
        "    \"[#7;!n][#7;!n]\",\n",
        "    \"C#C\",\n",
        "    \"C(=[O,S])[O,S]\",\n",
        "    \"[#7;!n][C;!$(C(=[O,N])[N,O])][#16;!s]\",\n",
        "    \"[#7;!n][C;!$(C(=[O,N])[N,O])][#7;!n]\",\n",
        "    \"[#7;!n][C;!$(C(=[O,N])[N,O])][#8;!o]\",\n",
        "    \"[#8;!o][C;!$(C(=[O,N])[N,O])][#16;!s]\",\n",
        "    \"[#8;!o][C;!$(C(=[O,N])[N,O])][#8;!o]\",\n",
        "    \"[#16;!s][C;!$(C(=[O,N])[N,O])][#16;!s]\"\n",
        "]\n",
        "\n",
        "\n",
        "[[stage.scoring.component]]\n",
        "[stage.scoring.component.NumRotBond]\n",
        "\n",
        "[[stage.scoring.component.NumRotBond.endpoint]]\n",
        "name = \"ROTB\"\n",
        "weight = 1\n",
        "transform.type = \"reverse_sigmoid\"\n",
        "transform.high = 20\n",
        "transform.low = 0\n",
        "transform.k = 0.5\n",
        "\n",
        "\"\"\""
      ],
      "metadata": {
        "id": "eBLEIbmoLHVK"
      },
      "execution_count": null,
      "outputs": []
    },
    {
      "cell_type": "code",
      "source": [
        "config = global_parameters + parameters+ learning_strategy + stage\n",
        "toml_config_filename = \"reward_numrotb.toml\"\n",
        "with open(toml_config_filename, 'w') as tf:\n",
        "    tf.write(config)\n"
      ],
      "metadata": {
        "id": "j1qYJhtS0dEx"
      },
      "execution_count": null,
      "outputs": []
    },
    {
      "cell_type": "code",
      "source": [
        "# actually training the model is optional, so you can skip this cell\n",
        "!python -m reinvent.Reinvent -l numrotb.log $toml_config_filename"
      ],
      "metadata": {
        "id": "WUS1mQGk19Nq"
      },
      "execution_count": null,
      "outputs": []
    },
    {
      "cell_type": "markdown",
      "source": [
        "**Note:**\n",
        "Don't forget to check the scaffold repetitions during RL on tensorboard."
      ],
      "metadata": {
        "id": "KhbKhIZIgSGl"
      }
    },
    {
      "cell_type": "code",
      "source": [
        "%tensorboard --logdir /content/REINVENT4/tb_logs_numrotbond --load_fast true"
      ],
      "metadata": {
        "id": "Vk-fbvZ5jvAr"
      },
      "execution_count": null,
      "outputs": []
    },
    {
      "cell_type": "markdown",
      "source": [
        "What about how to use the model we trained and sample from it? We need a different `toml`-file for REINVENT. Here is an example:"
      ],
      "metadata": {
        "id": "HrUj3qgvqW_v"
      }
    },
    {
      "cell_type": "code",
      "source": [
        "global_sampling_parameters= \"\"\"\n",
        "run_type = \"sampling\"\n",
        "device = \"cpu\"\n",
        "json_out_config = \"_sampling.json\"\n",
        "\"\"\"\n",
        "parameters = \"\"\"\n",
        "[parameters]\n",
        "model_file = \"/content/REINVENT4/numrotbond_reversesig.chkpt\" ##\n",
        "output_file = 'sampling_numrotbond.csv'\n",
        "num_smiles = 1200\n",
        "unique_molecules = true\n",
        "randomize_smiles = true\n",
        "\"\"\"\n",
        "\n"
      ],
      "metadata": {
        "id": "uKcNcPCdqVAN"
      },
      "execution_count": null,
      "outputs": []
    },
    {
      "cell_type": "code",
      "source": [
        "samp_conf = global_sampling_parameters + parameters\n",
        "with open(\"sampling_numrotbond.toml\", \"w\") as tf:\n",
        "    tf.write(samp_conf)"
      ],
      "metadata": {
        "id": "_5IbvyEqx-Ei"
      },
      "execution_count": null,
      "outputs": []
    },
    {
      "cell_type": "code",
      "source": [
        "# running the sampling is much faster than training\n",
        "!python -m reinvent.Reinvent -l sampling.log /content/REINVENT4/sampling_numrotbond.toml"
      ],
      "metadata": {
        "id": "n2k1N4ZvyJG8"
      },
      "execution_count": null,
      "outputs": []
    },
    {
      "cell_type": "code",
      "source": [
        "# Here we can show the data that has been created by REINVENT\n",
        "!cat /content/REINVENT4/sampling.csv | head"
      ],
      "metadata": {
        "id": "9MtTWvzRAdYm"
      },
      "execution_count": null,
      "outputs": []
    },
    {
      "cell_type": "markdown",
      "source": [
        "## Task: Scoring Molecules\n",
        "Now that we have generated 1200 molecules, we can evaluate them using multiple scoring functions to understand:\n",
        "- How well our optimization worked\n",
        "- What other properties were affected\n",
        "- Whether molecules maintain drug-likeness\n",
        "\n",
        "### Available Scoring Functions in REINVENT4\n",
        "\n",
        "REINVENT4 provides extensive molecular descriptors via RDKit integration:\n",
        "\n",
        "#### **Drug-Likeness & ADMET Properties**\n",
        "| Function | Description |\n",
        "|----------|-------------|\n",
        "| **QED** | Quantitative drug-likeness  \n",
        "| **SlogP** | Lipophilicity (Crippen)  \n",
        "| **TPSA** | Topological polar surface area\n",
        "| **HBondAcceptors** | H-bond acceptor count\n",
        "| **HBondDonors** | H-bond donor count\n",
        "\n",
        "#### **Structural Descriptors**\n",
        "| Function | Description | Use Case |\n",
        "|----------|-------------|----------|\n",
        "| **NumRotBond** | Rotatable bonds | Flexibility/rigidity |\n",
        "| **GraphLength** | Longest path | Molecular size |\n",
        "| **NumRings** | Total ring count | Complexity |\n",
        "| **NumAromaticRings** | Aromatic rings | π-π interactions |\n",
        "| **Csp3** | sp³ carbon fraction | 3D character |\n",
        "\n",
        "#### **Stereochemistry & Complexity**\n",
        "| Function | Desctription |\n",
        "|----------|--------------|\n",
        "|**NumAtomStereoCenters**| Chiral centers |\n",
        "|**NumHeavyAtoms**| Non-hydrogen atoms |\n",
        "|**NumHeteroAtoms** | Non-carbon atoms |\n",
        "\n",
        "### Multi-Property Scoring Strategy\n",
        "\n",
        "You can score the generated molecules using multiple descriptors above to get a comprehensive profile. We'll use another `toml`-file with our scoring-strategy."
      ],
      "metadata": {
        "id": "mcih7tW6Z_vP"
      }
    },
    {
      "cell_type": "code",
      "source": [
        "global_scoring_parameters = \"\"\"\n",
        "run_type = \"scoring\"\n",
        "json_out_config = \"_scoring.json\"\n",
        "\"\"\"\n",
        "\n",
        "parameters = \"\"\"\n",
        "[parameters]\n",
        "smiles_file = \"sampling_numrotbond.csv\"   #the path of sampled molecules\n",
        "output_csv = \"scoring_numrotbond.csv\"\n",
        "\"\"\"\n",
        "scoring = \"\"\"\n",
        "[scoring]\n",
        "type = \"geometric_mean\"\n",
        "\n",
        "[[scoring.component]]\n",
        "[scoring.component.GraphLength]\n",
        "[[scoring.component.GraphLength.endpoint]]\n",
        "name = \"GraphLength\" #number of bonds in longest path\n",
        "weight = 0.2\n",
        "transform.type = \"reverse_sigmoid\"\n",
        "transform.high = 40\n",
        "transform.low = 20\n",
        "transform.k = 0.5\n",
        "\n",
        "######\n",
        "#  Add scoring functions as many as you want. Define the weights for each score function and transform them properly.\n",
        "######\n",
        "\n",
        "\n",
        "\n",
        "\n",
        "\n",
        "\"\"\""
      ],
      "metadata": {
        "id": "JDtgj5fIz4TK"
      },
      "execution_count": null,
      "outputs": []
    },
    {
      "cell_type": "code",
      "source": [
        "scoring_conf = global_scoring_parameters + parameters + scoring\n",
        "with open(\"scoring_numrotbond.toml\", \"w\") as tf:\n",
        "    tf.write(scoring_conf)"
      ],
      "metadata": {
        "id": "FxbaaRYcf7TZ"
      },
      "execution_count": null,
      "outputs": []
    },
    {
      "cell_type": "code",
      "source": [
        "!python -m reinvent.Reinvent -l scoring.log /content/REINVENT4/scoring_numrotbond.toml"
      ],
      "metadata": {
        "id": "YPvAjFsNgLfq"
      },
      "execution_count": null,
      "outputs": []
    },
    {
      "cell_type": "markdown",
      "source": [
        "Time to visualize the molecules with their scores."
      ],
      "metadata": {
        "id": "Gnar19S4jtop"
      }
    },
    {
      "cell_type": "code",
      "source": [
        "# Load scored molecules\n",
        "\n",
        "scored_mols = pd.read_csv(\"/content/REINVENT4/scoring_numrotbond.csv\")\n",
        "\n",
        "# Convert SMILES to RDKit molecule objects for visualization\n",
        "scored_mols['mols'] = [Chem.MolFromSmiles(smi) for smi in scored_mols[\"SMILES\"]]\n",
        "\n",
        "# Sort by score (best molecules first)\n",
        "scored_mols = scored_mols.sort_values('Score', ascending=False).reset_index(drop=True)\n",
        "\n",
        "# Interactive molecular grid\n",
        "mols2grid.display(\n",
        "    scored_mols,\n",
        "    mol_col='mols',\n",
        "    dpi=300,\n",
        "    subset=['Score', 'GraphLength (raw)'],  # You can also add the scoring components, if you want to analyse them too.\n",
        "    transform={\n",
        "        \"Score\": lambda x: f\"{x:.2f}\", # add the other scoring components to print transformed values instead of long, raw digits\n",
        "        \"GraphLength (raw)\": lambda x: f\"{x:.2f}\", # example scoring component\n",
        "    },\n",
        "    n_items_per_page=12,\n",
        "    size=(200, 200),\n",
        ")\n"
      ],
      "metadata": {
        "id": "o0TrFqFtjsJf"
      },
      "execution_count": null,
      "outputs": []
    },
    {
      "cell_type": "markdown",
      "source": [
        "# Another task? Hoooraay!\n",
        "Here is your last task for REINVENT4. We uploaded a dataset for M. tuberculosis TrxR from ChEMBL (Assay ID: CHEMBL2395745). In this dataset, there are 13 molecules with MW, LogP, HBA, HBD, PSA, ROTB, Aromatic rings, QED, and inhibition values (%).\n",
        "\n",
        "Task:\n",
        "\n",
        "- Apply RL to generate molecules with similar property values.\n",
        "\n",
        "- Sample and score them.\n",
        "\n",
        "- Select the top 10% scored molecules and use them for transfer learning.\n",
        "\n",
        "There is no single correct answer for this task, so feel free to experiment. Instead of focusing on chemical structures, I suggest focusing on physicochemical properties, since we will use the structures in another task\n",
        "\n",
        "Hint : To get %10 of highest scored molecules you can use the code below.\n",
        "\n",
        "\n",
        "```\n",
        "#Read the scored csv file\n",
        "scored_mols = pd.read_csv(your_file_path)\n",
        "\n",
        "# Convert SMILES to RDKit molecule objects for visualization\n",
        "scored_mols['mols'] = [Chem.MolFromSmiles(smi) for smi in scored_mols[\"SMILES\"]]\n",
        "\n",
        "# Sort by score (best molecules first)\n",
        "scored_mols = scored_mols.sort_values('Score', ascending=False).reset_index(drop=True)\n",
        "top_10per_count = int(len(scored_mols)* 0.10)\n",
        "top_10per_mols = scored_mols.head(top_10per_count)\n",
        "top_10per_mols.to_csv(\"top_10per_mols.csv\")\n",
        "\n",
        "\n",
        "```\n",
        "Here is an example toml file for transfer learning\n",
        "\n",
        "\n",
        "\n",
        "```\n",
        "run_type = \"transfer_learning\"\n",
        "device = \"cuda:0\"  # set torch device e.g. \"cpu\"\n",
        "tb_logdir = \"tb_TL\"  # name of the TensorBoard logging directory\n",
        "json_out_config = \"json_transfer_learning.json\"  # write this TOML to JSON\n",
        "\n",
        "\n",
        "[parameters]\n",
        "\n",
        "num_epochs = 3  # number of steps to run\n",
        "save_every_n_epochs = 3  # save checkpoint model file very N steps\n",
        "batch_size = 50\n",
        "num_refs = 100  # number of reference molecules randomly chosen for similarity\n",
        "                # set this to zero for large datasets (>200 molecules)!\n",
        "sample_batch_size = 100  # number of sampled molecules to compute sample loss\n",
        "# Uncomment one of the comment blocks below.  Each generator needs a model\n",
        "# file and possibly a SMILES file with seed structures.\n",
        "\n",
        "## Reinvent\n",
        "input_model_file = \"priors/reinvent.prior\"\n",
        "smiles_file = \"TL_reinvent_100.smi\"  # read 1st column\n",
        "output_model_file = \"TL_reinvent.model\"\n",
        "validation_smiles_file = \"TL_reinvent_100.smi\"  \n",
        "```\n",
        "\n",
        "\n",
        "\n",
        "Hint : In transfer learning, you can use the provided dataset as a validation set.\n",
        "\n"
      ],
      "metadata": {
        "id": "-rjr0fLh5aQ1"
      }
    },
    {
      "cell_type": "code",
      "source": [
        "dataset = pd.read_csv('/content/REINVENT4/mt_trxr.csv')\n",
        "dataset['Inh_value(%)'] = dataset['Value']\n",
        "dataset = dataset.drop(columns=['Value'])\n",
        "dataset['mol'] = [Chem.MolFromSmiles(smi) for smi in dataset[\"Smiles\"]]\n",
        "dataset\n"
      ],
      "metadata": {
        "id": "xAi42a0P2Om-"
      },
      "execution_count": null,
      "outputs": []
    },
    {
      "cell_type": "code",
      "source": [
        "mols2grid.display(dataset, mol_col='mol', subset=['Inh_value(%)'], size=(200, 200))"
      ],
      "metadata": {
        "id": "ZEyZVejc-XLn"
      },
      "execution_count": null,
      "outputs": []
    },
    {
      "cell_type": "code",
      "source": [],
      "metadata": {
        "id": "PbeRCXmY1Bgy"
      },
      "execution_count": null,
      "outputs": []
    }
  ]
}