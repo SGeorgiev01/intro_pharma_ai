{
 "cells": [
  {
   "attachments": {},
   "cell_type": "markdown",
   "metadata": {},
   "source": [
    "<img src=\"Img/general/lightroastcomics.png\" style=\"width:400px; display:block; margin:auto\">\n",
    "\n",
    "<h5 style=\"text-align:center\">Source: Light Roast Comics, http://lightroastcomics.com</h5>"
   ]
  },
  {
   "attachments": {},
   "cell_type": "markdown",
   "metadata": {},
   "source": [
    "# Short introduction to Python\n",
    "\n",
    "\n",
    "In this notebook we will deal with the basics of Python. In doing so, we will cover the most important functions and data structures in Python.\n",
    "As discussed in the first notebook, Python code can be run using Jupyter notebooks. For a more detailed explanation of how to use these notebooks, see the first week's notebook.\n"
   ]
  },
  {
   "attachments": {},
   "cell_type": "markdown",
   "metadata": {},
   "source": [
    "## 1. Print()\n",
    "\n",
    "One of the most important functions in Python is the <code>print()</code>-function. With it you can read out information or text from Python and thus make it visible. It will always be printed what is contained inside the <code>()</code>."
   ]
  },
  {
   "cell_type": "code",
   "execution_count": null,
   "metadata": {},
   "outputs": [],
   "source": [
    "print(\"Hello World\")"
   ]
  },
  {
   "attachments": {},
   "cell_type": "markdown",
   "metadata": {},
   "source": [
    "For simplicity, the Python notebook automatically outputs the last line of a cell. Even without using the <code>print()</code>-function.\n",
    "\n",
    "The pound (or hashtag) `#` allows us to add comments to the code. These are ignored by Python and allow us to include helpful information for the user."
   ]
  },
  {
   "cell_type": "code",
   "execution_count": null,
   "metadata": {},
   "outputs": [],
   "source": [
    "\"Hello\"  # the first row won't be printed unless the print()-function is used\n",
    "\"World\""
   ]
  },
  {
   "attachments": {},
   "cell_type": "markdown",
   "metadata": {},
   "source": [
    "If you want to output text with the `print()`-function, it is important that it is written in quotation marks <code>\" \"</code>. These tell Python to treat the characters between the `\" \"` as simple text. A word or sentence written in between `\" \"`  is called a `string`.\n",
    "\n",
    "Without the <code>\" \"</code> the following happens:"
   ]
  },
  {
   "cell_type": "code",
   "execution_count": null,
   "metadata": {},
   "outputs": [],
   "source": [
    "Hello"
   ]
  },
  {
   "attachments": {},
   "cell_type": "markdown",
   "metadata": {},
   "source": [
    "<img src=\"https://tenor.com/view/monkey-pissed-mad-angry-furious-gif-4720563.gif\" style=\"display:block; margin:auto\">"
   ]
  },
  {
   "attachments": {},
   "cell_type": "markdown",
   "metadata": {},
   "source": [
    "# 2. Variables\n",
    "\n",
    "Your first error message :) But we can fix it quickly. <br>\n",
    "`Hello` is not defined. This error occurs, because the `string` is not recognized by Python as a `string`. <br> Words or characters which are not written between `\" \"`, are **variables**. These have to be defined beforehand. Variables can contain numbers, `strings` or even lists. We define a variable using `=`.\n",
    "\n",
    "For example:"
   ]
  },
  {
   "cell_type": "code",
   "execution_count": null,
   "metadata": {},
   "outputs": [],
   "source": [
    "x = \"Hello\"\n",
    "print(x)"
   ]
  },
  {
   "attachments": {},
   "cell_type": "markdown",
   "metadata": {},
   "source": [
    "`x` now *contains* the string `\"Hello\"`.   \n",
    "The content of `x` will still be stored for the next cells. This means that even in a new cell you can call `print(x)` and `Hello` will be output.\n",
    "\n",
    "If you redefine `x`, i.e. give `x` a new value, then the old value will be overwritten.\n",
    "\n",
    "**Important:**\n",
    "Information stored or created in one cell is also available in the next cells you execute. The physical ordering of cells is here not important, only the order in which the cells are executed."
   ]
  },
  {
   "cell_type": "code",
   "execution_count": null,
   "metadata": {},
   "outputs": [],
   "source": [
    "print(\"This is the old value of x:\")\n",
    "print(x)\n",
    "\n",
    "\n",
    "x = 1\n",
    "print()\n",
    "print(\"This is the new value of x: \")\n",
    "print(x)"
   ]
  },
  {
   "attachments": {},
   "cell_type": "markdown",
   "metadata": {},
   "source": [
    "###  2.1 Numbers\n",
    "As you can see, variables can also contain numbers. Whole numbers (without decimal point) can be stored as a`integer`. Numbers with decimal points are stored as a `float`. Mathematical operations such as addition, subtraction, multiplication and division (`+`, `-`, `*`,`/`) can also be used and behave exactly as if you were using them in a calculator."
   ]
  },
  {
   "cell_type": "code",
   "execution_count": null,
   "metadata": {
    "scrolled": true
   },
   "outputs": [],
   "source": [
    "2 + (5 * 3) / 1.2"
   ]
  },
  {
   "cell_type": "code",
   "execution_count": null,
   "metadata": {},
   "outputs": [],
   "source": [
    "print(\"5 + 2 equals\")\n",
    "print(5 + 2)\n",
    "\n",
    "\n",
    "print(\"5 - 2 equals\")\n",
    "print(5 - 2)\n",
    "\n",
    "\n",
    "print(\"5 * 2 equals\")\n",
    "print(5 * 2)\n",
    "\n",
    "\n",
    "print(\"1 / 2 equals\")\n",
    "print(1 / 2)\n"
   ]
  },
  {
   "attachments": {},
   "cell_type": "markdown",
   "metadata": {},
   "source": [
    "The same operations also work with variables, as long as they contain `floats` or `integers`."
   ]
  },
  {
   "cell_type": "code",
   "execution_count": null,
   "metadata": {},
   "outputs": [],
   "source": [
    "x = 5\n",
    "y = 2\n",
    "\n",
    "print(x + y)\n",
    "print(x - y)\n",
    "print(x * y)\n",
    "print(x / y)"
   ]
  },
  {
   "attachments": {},
   "cell_type": "markdown",
   "metadata": {},
   "source": [
    "### 2.2 Booleans\n",
    "\n",
    "Booleans are another type of variable. Booleans are either `True` or `False`. We can use booleans to compare values:"
   ]
  },
  {
   "cell_type": "code",
   "execution_count": null,
   "metadata": {},
   "outputs": [],
   "source": [
    "5 == 5"
   ]
  },
  {
   "attachments": {},
   "cell_type": "markdown",
   "metadata": {},
   "source": [
    "As you can see, `==` is used to compare values. The simple `=` is already used to assign values to variables.<br>\n",
    "`==` checks if two values or variables are identical.<br> The symbol`!=` checks if two values are not equal. `>` and `<` work like in mathematics and check if a value is greater or less than another value.\n",
    "\n",
    "It's also possible to do math with booleans:"
   ]
  },
  {
   "cell_type": "code",
   "execution_count": null,
   "metadata": {},
   "outputs": [],
   "source": [
    "True + True"
   ]
  },
  {
   "attachments": {},
   "cell_type": "markdown",
   "metadata": {},
   "source": [
    "This is nothing special, but shows that the boolean `True` is assigned the value `1` and `False` is assigned the value `0`. <br>We can also check this:"
   ]
  },
  {
   "cell_type": "code",
   "execution_count": null,
   "metadata": {},
   "outputs": [],
   "source": [
    "1 == True "
   ]
  },
  {
   "attachments": {},
   "cell_type": "markdown",
   "metadata": {},
   "source": [
    "We can compare `strings` and variables:"
   ]
  },
  {
   "cell_type": "code",
   "execution_count": null,
   "metadata": {},
   "outputs": [],
   "source": [
    "\"Hello\" == \"Hello\""
   ]
  },
  {
   "cell_type": "code",
   "execution_count": null,
   "metadata": {},
   "outputs": [],
   "source": [
    "x = 5\n",
    "y = 8\n",
    "x == y"
   ]
  },
  {
   "attachments": {},
   "cell_type": "markdown",
   "metadata": {},
   "source": [
    "### 2.3 Lists\n",
    "\n",
    "Besides `strings`, `integers` and `floats` another important variable type are lists. Lists can contain several values and are created with `[]` or `list()`:\n",
    "\n",
    "`x = [2,4,6,8]`\n",
    "\n",
    "`x` would now be a list with the values 2,4,6,8. Lists can contain a combination of `strings`, `integers` and `floats`. Lists can also be stored in lists."
   ]
  },
  {
   "cell_type": "code",
   "execution_count": null,
   "metadata": {},
   "outputs": [],
   "source": [
    "list_1 = [2, 4, 6, 8]\n",
    "list_1"
   ]
  },
  {
   "cell_type": "code",
   "execution_count": null,
   "metadata": {},
   "outputs": [],
   "source": [
    "list_2 = [\"Hello\", 2, 0.6]\n",
    "list_2"
   ]
  },
  {
   "cell_type": "code",
   "execution_count": null,
   "metadata": {},
   "outputs": [],
   "source": [
    "list_3 = [5, \"World\", list_2]\n",
    "list_3"
   ]
  },
  {
   "attachments": {},
   "cell_type": "markdown",
   "metadata": {},
   "source": [
    "If you want to know how many elements are contained in a list, you can use the function `len()`:"
   ]
  },
  {
   "cell_type": "code",
   "execution_count": null,
   "metadata": {},
   "outputs": [],
   "source": [
    "len(list_3)"
   ]
  },
  {
   "attachments": {},
   "cell_type": "markdown",
   "metadata": {},
   "source": [
    "You can see that `list_3` has a length of 3. So it consists of three elements in total. \n",
    "Here, the individual elements in `list_2` are not counted individually, the list is considered a single element.  "
   ]
  },
  {
   "cell_type": "markdown",
   "metadata": {},
   "source": [
    "## 2.4 Tuples and Sets\n",
    "\n",
    "Data can also be saved in tuples and sets. A `tuple` is mainly used for small collections of data that does not change (if we want to add anything to a collection of data, we will use a list instead) but tuples can be more efficient. Also, if we return more than one thing from a function, the things we return will be in a tuple. A tuple can be created with `tuple()`  or by using just `()`. Note that if you want to have just one element in a tuple, you have to put a comma after the element, e.g. `(1,)`.\n",
    "\n",
    "A `set` of items only contains unique items, a set can therefore be used to filter only unique items from a collection. Mathematical set operations such as union or intersections are also possible on sets. Sets are created with `set()` or `{}` (not to be confused with a dictionary). Other than with lists or tuples, set elements can't be accessed with an index."
   ]
  },
  {
   "cell_type": "code",
   "execution_count": null,
   "metadata": {},
   "outputs": [],
   "source": [
    "# create a tuple from a list\n",
    "tup_1 = tuple(list_1 + [2, 3, 4])\n",
    "print(tup_1, type(tup_1))\n",
    "\n",
    "# remove duplicates\n",
    "set_1 = set(tup_1) # or set_1 = {1, 2, 3, 2}\n",
    "print(set_1, type(set_1))\n",
    "\n",
    "# the set can be transformed back to a list\n",
    "list_4 = list(set_1)\n",
    "print(list_4, type(list_4))"
   ]
  },
  {
   "attachments": {},
   "cell_type": "markdown",
   "metadata": {},
   "source": [
    "## 3. Indexing\n",
    "\n",
    "In Python an index describes the position of a value within a variable, e.g. a list.\n",
    "\n",
    "If you want to know what the value of the second element in a list is, you can use the index to get exactly that value.\n",
    "To use an index, you need the `[]` again. But this time not in the definition of a variable, but in combination with the variable.\n",
    "So `x[0]` would return the first element of the variable `x`.\n",
    "\n",
    "**Important:**\n",
    "\n",
    "Python uses `0-based` indexing, which means that indexing in Python starts at `0`. The first value in the list is assigned to index `0`. \n",
    "\n",
    "---\n",
    "\n",
    "Almost all programming languages are `0-based`. It has become a convention and relates to how `arrays` are stored in memory. The index represents the **shift** from the starting position.\n",
    "\n",
    "---\n"
   ]
  },
  {
   "cell_type": "code",
   "execution_count": null,
   "metadata": {},
   "outputs": [],
   "source": [
    "Animals = [\"Lion\", \"Elephant\", \"Fox\", \"Whale\", \"Horse\", \"Goat\", \"Ant\"]\n",
    "Animals[3]"
   ]
  },
  {
   "attachments": {},
   "cell_type": "markdown",
   "metadata": {},
   "source": [
    "You can also select multiple values from a list, which is then called `slicing`. For this you need the colon `:`.\n",
    "\n",
    "* `x[:5]` The first five values of the list `x` are selected. Note that the index `5` references the sixth element of the list. This sixth element, the upper limit, is not included in the returned values. In Python, the index that sets the upper limit is itself never included.\n",
    "\n",
    "* `x[2:5]` Here the elements in third, fourth and fifth position are selected\n",
    "\n",
    "* `x[5:]` Here all elements from the sixth position to the end of the list are selected \n",
    "\n",
    "* `x[-1]` selects the last element in the list\n",
    "\n",
    "* `x[-2]` selects the second to last element in the list  "
   ]
  },
  {
   "cell_type": "code",
   "execution_count": null,
   "metadata": {},
   "outputs": [],
   "source": [
    "x = [1, 2, 3, 4, 5, 6, 7, 8, 9]"
   ]
  },
  {
   "cell_type": "code",
   "execution_count": null,
   "metadata": {},
   "outputs": [],
   "source": [
    "x[0:5]  # index 5 refers to the sixth element but is not included in the output"
   ]
  },
  {
   "cell_type": "code",
   "execution_count": null,
   "metadata": {},
   "outputs": [],
   "source": [
    "x[2:5]"
   ]
  },
  {
   "cell_type": "code",
   "execution_count": null,
   "metadata": {},
   "outputs": [],
   "source": [
    "x[5:]"
   ]
  },
  {
   "cell_type": "code",
   "execution_count": null,
   "metadata": {},
   "outputs": [],
   "source": [
    "x[-1]"
   ]
  },
  {
   "attachments": {},
   "cell_type": "markdown",
   "metadata": {},
   "source": [
    "You can also append values to an existing list: \n",
    "\n",
    "`x.append(10)`\n",
    "\n",
    "this way the number `10` is appended to the end of the list `x`."
   ]
  },
  {
   "cell_type": "code",
   "execution_count": null,
   "metadata": {},
   "outputs": [],
   "source": [
    "x.append(10)\n",
    "x"
   ]
  },
  {
   "attachments": {},
   "cell_type": "markdown",
   "metadata": {},
   "source": [
    "## 4. For-Loop\n",
    "\n",
    "Most of the things you have done so far you can do easily in a calculator. The **for-loop**, is the first Python feature that opens up new and efficient possibilities that go beyond the capabilities of a simple calculator.\n",
    "\n",
    "A **for-loop** is used to execute a command repeatedly. This way you don't have to write the same command over and over again."
   ]
  },
  {
   "cell_type": "code",
   "execution_count": null,
   "metadata": {},
   "outputs": [],
   "source": [
    "for i in range(5):\n",
    "    print(\"Hello World\")"
   ]
  },
  {
   "attachments": {},
   "cell_type": "markdown",
   "metadata": {},
   "source": [
    "Instead of writing the `print` command five times yourself, the for-loop can perform this action automatically.<br>\n",
    "This becomes really useful when you want to execute one and the same command for the elements of a list.\n",
    "\n",
    "The `range(5)`-function tells the loop that the variable `i` should take all values from 0 to 5 one after the other (the value 5, the upper limit, is excluded, the same as for the index)."
   ]
  },
  {
   "cell_type": "code",
   "execution_count": null,
   "metadata": {},
   "outputs": [],
   "source": [
    "for i in range(5):\n",
    "    print(i)"
   ]
  },
  {
   "attachments": {},
   "cell_type": "markdown",
   "metadata": {},
   "source": [
    "Suppose you have the values `x = [1, 2, 3, 4, 5, 6, 7, 8, 9]` and you want to calculate the square (in Python `**2`) for each of the values. Then you can use the for-loop to loop over the list `x`. There are several ways to write a for-loop, but in the end they all do the same thing."
   ]
  },
  {
   "cell_type": "code",
   "execution_count": null,
   "metadata": {
    "scrolled": true
   },
   "outputs": [],
   "source": [
    "x = [1, 2, 3, 4, 5, 6, 7, 8, 9]\n",
    "\n",
    "for element in x:\n",
    "    print(element ** 2)"
   ]
  },
  {
   "cell_type": "code",
   "execution_count": null,
   "metadata": {},
   "outputs": [],
   "source": [
    "print(\"\\n Alternative: \\n\")\n",
    "\n",
    "# we can also let \"i\" take values from 0 to 8 and and access the elements in x by their index i.\n",
    "\n",
    "for i in range(len(x)):\n",
    "    # len(x) returns 9, i takes the values from 0 to 8, the same as if we were to write range(9)\n",
    "    print(x[i]**2)"
   ]
  },
  {
   "attachments": {},
   "cell_type": "markdown",
   "metadata": {},
   "source": [
    "The `for` introduces the loop. The `element` is the name for a new variable that exists only in this `for-loop` (you can also give it any other name). `in` \"tells\" Python that the variable following it is the variable to loop over: in this case, `x`. Python recognizes that it must execute the command inside the for-loop for each element in `x`. There must always be a `:` at the end of the first line of the for-loop.\n",
    "\n",
    "Also note that the command inside the for-loop is indented. This is important to show Python what should happen inside the for-loop. Something that is supposed to happen after the for-loop, but not inside the for-loop, is then written without indentation. An *indent* is four spaces or pressing the tab key once. \n",
    "\n",
    "Often simple for-loops are written in one line by using the so called \"list comprehension\"."
   ]
  },
  {
   "cell_type": "code",
   "execution_count": null,
   "metadata": {},
   "outputs": [],
   "source": [
    "[element**2 for element in x]"
   ]
  },
  {
   "attachments": {},
   "cell_type": "markdown",
   "metadata": {},
   "source": [
    "You can see that we need fewer lines. Also, the output is a list instead of, as above, the individual elements."
   ]
  },
  {
   "attachments": {},
   "cell_type": "markdown",
   "metadata": {},
   "source": [
    "## 5. Numpy\n",
    "\n",
    "Python in itself has only a limited number of functions that you can use. Many useful functions have to be loaded in separately from external sources. This is done by importing so-called *libraries*.\n",
    "One of the most important and most used *libraries* is `numpy`. As the name suggests, `numpy` concentrates on numerical calculations. Especially functions which are important for linear algebra and statistics can be found here.\n",
    "Most important for you is the class of `arrays`, a new *type* of variable added by `numpy`. \n",
    "\n",
    "An `array` allows you to store multiple values in one variable. Unlike a list, the values here can be arranged on two (or more) dimensions, as in a table or a matrix:\n",
    "\n",
    "<img src=\"https://upload.wikimedia.org/wikipedia/commons/b/bf/Matris.png\" style=\"width: 400px; display:block; margin:auto\">\n",
    "<h5 style=\"text-align:center\">Source: Svjo, Wikimedia</h5>\n",
    "\n",
    "\n",
    "In fact, you can also use 3D and 4D `arrays` with `numpy`, but for your purposes two dimensions are sufficient.\n",
    "\n",
    "Theoretically, we could also work with Python lists, but the underlying code in which `numpy` was written is optimized for these `array` structures. Therefore, `numpy` offers significant speed advantages over Python lists.\n",
    "\n",
    "**Important:** Arrays, unlike lists, can only contain values of the same type. So only `strings` or only `floats` but not both.\n",
    "\n",
    "\n",
    "You can load `numpy` with `import numpy`. The addition `as np` allows you to write `np` instead of `numpy` later in the code:\n"
   ]
  },
  {
   "cell_type": "code",
   "execution_count": null,
   "metadata": {},
   "outputs": [],
   "source": [
    "import numpy as np"
   ]
  },
  {
   "cell_type": "code",
   "execution_count": null,
   "metadata": {},
   "outputs": [],
   "source": [
    "# We now write np.array, so Python knows we want to use a numpy function\n",
    "my_array = np.array([[1, 2, 3],\n",
    "                     [4, 5, 6],\n",
    "                     [7, 8, 9]])\n",
    "print(my_array)"
   ]
  },
  {
   "attachments": {},
   "cell_type": "markdown",
   "metadata": {},
   "source": [
    "If you look closely, you will see that `np.array([[1,2,3],[4,5,6],[7,8,9]])` is a list containing three lists `[[1,2,3],[4,5,6],[7,8,9]]`. Numpy \"glues\", so to speak, the second list under the first (and so on). This creates a matrix or `array`. For this to work, all lists must have the same length.\n",
    "\n",
    "If you want to know how big an `array` is, you can use `x.shape`."
   ]
  },
  {
   "cell_type": "code",
   "execution_count": null,
   "metadata": {
    "scrolled": true
   },
   "outputs": [],
   "source": [
    "my_array.shape"
   ]
  },
  {
   "attachments": {},
   "cell_type": "markdown",
   "metadata": {},
   "source": [
    "So the `array` consists of three rows and three columns. \n",
    "It's also possible to index or split `arrays`: `array[row, column]`. In an `array` the rows and columns can be selected. The rules here are identical to those of lists:\n",
    "- `array[1,3]` outputs the element that is in the second row and the fourth column\n",
    "- `array[:,0]` outputs the complete first column\n",
    "- `array[5,:]` outputs the 6th row\n",
    "- `array[2:5, 0:3]` selects all elements that are within the third and fifth row and also in the first to third column"
   ]
  },
  {
   "cell_type": "code",
   "execution_count": null,
   "metadata": {},
   "outputs": [],
   "source": [
    "my_array[0:2, 0:2]"
   ]
  },
  {
   "attachments": {},
   "cell_type": "markdown",
   "metadata": {},
   "source": [
    "You can also use `numpy` to read in datasets."
   ]
  },
  {
   "cell_type": "code",
   "execution_count": null,
   "metadata": {},
   "outputs": [],
   "source": [
    "dataset = np.genfromtxt('https://uni-muenster.sciebo.de/s/8NNS6x6bVQfiYNu/download', delimiter=',')\n",
    "dataset"
   ]
  },
  {
   "attachments": {},
   "cell_type": "markdown",
   "metadata": {},
   "source": [
    "## 6. Functions\n",
    "\n",
    "Functions are the be-all and end-all of programming. Similar to mathematics, functions have an input and output a new transformed value, the output: $f(x)= x^2$ $\\to$ $f(3) =9$.\n",
    "\n",
    "You have already used some functions with `numpy`: for example, `np.array()` takes as input a list and as output an `array`.<br>\n",
    "`len()` takes as input a list and gives as output the number of elements in this list.\n",
    "\n",
    "You can also write your own functions. To define a function, use `def`: "
   ]
  },
  {
   "cell_type": "code",
   "execution_count": null,
   "metadata": {},
   "outputs": [],
   "source": [
    "def square(x):\n",
    "    return x ** 2\n",
    "\n",
    "\n",
    "square(4)"
   ]
  },
  {
   "attachments": {},
   "cell_type": "markdown",
   "metadata": {},
   "source": [
    "After the `def` you can give the function a name, then two brackets `()` follow, in which you can define the names of the input variables. This is followed by a colon. After the `:` the actual function is defined (what the function should do). It is important that everything that should happen in the function is indented with 4 spaces (1 tab). Jupyter does this automatically for you.\n",
    "\n",
    "The last thing is the `return`- statement, what follows will be output by the function.\n",
    "\n",
    "Functions can have multiple inputs and outputs:"
   ]
  },
  {
   "cell_type": "code",
   "execution_count": null,
   "metadata": {},
   "outputs": [],
   "source": [
    "def power(x, b):\n",
    "    x_power_b = x ** b\n",
    "    b_power_x = b ** x\n",
    "    return x_power_b, b_power_x\n",
    "\n",
    "\n",
    "power(x=4, b=5)"
   ]
  },
  {
   "attachments": {},
   "cell_type": "markdown",
   "metadata": {},
   "source": [
    "You can also assign the output of the function directly to variables."
   ]
  },
  {
   "cell_type": "code",
   "execution_count": null,
   "metadata": {},
   "outputs": [],
   "source": [
    "# Python recognizes which value corresponds to x and which to b based on the position\n",
    "output1, output2 = power(4, 5)\n",
    "print(output1, output2)"
   ]
  },
  {
   "cell_type": "code",
   "execution_count": null,
   "metadata": {},
   "outputs": [],
   "source": [
    "print(x_power_b)"
   ]
  },
  {
   "attachments": {},
   "cell_type": "markdown",
   "metadata": {},
   "source": [
    "In the last cell you tried to print `x_power_b` in the console (`print(x_power_b)`). But that doesn't work, because variables defined inside a function \"live\" only inside the function and don't exist in the *global scope*. Any variables you want to use after a function must be stored in a new variable with the `return` statement. \n",
    "\n",
    "You can also use functions within functions, which allows you to quickly write more complex functions from simple ones:"
   ]
  },
  {
   "cell_type": "code",
   "execution_count": null,
   "metadata": {},
   "outputs": [],
   "source": [
    "def function_1(x):\n",
    "    return x * 3\n",
    "\n",
    "\n",
    "def function_2(x):\n",
    "    y = function_1(x)\n",
    "    z = y + 5\n",
    "    return z\n",
    "\n",
    "\n",
    "function_2(0.5)"
   ]
  },
  {
   "attachments": {},
   "cell_type": "markdown",
   "metadata": {},
   "source": [
    "The last thing to mention is that there are optional input variables. These make it possible to structure the functions better:"
   ]
  },
  {
   "cell_type": "code",
   "execution_count": null,
   "metadata": {},
   "outputs": [],
   "source": [
    "def root(x, b=2):\n",
    "    return x**(1 / b)\n",
    "\n",
    "\n",
    "root(x=4)"
   ]
  },
  {
   "attachments": {},
   "cell_type": "markdown",
   "metadata": {},
   "source": [
    "As you can see, you have already assigned the value `2` to `b` in the definition of the function. That is, `2` is the *default value* for `b`. If you use the function without defining `b`, `b` is automatically set equal to `2`. But if I add `b=4` when calling the function, `b=4` will be used in the function. \n",
    "\n",
    "Using `defaults`, optional variables, makes using functions easier and clearer:"
   ]
  },
  {
   "cell_type": "code",
   "execution_count": null,
   "metadata": {},
   "outputs": [],
   "source": [
    "root(x=4, b=4)"
   ]
  },
  {
   "attachments": {},
   "cell_type": "markdown",
   "metadata": {},
   "source": [
    "### Local vs. Global\n",
    "\n",
    "It is important to know that, as already mentioned, there are global variables and local variables. Local variables exist only within the function, while global variables exist in the general memory of the script.\n",
    "\n",
    "Example:\n",
    "\n",
    "The function `local_global` takes as input `x` and printed `a`. We have previously set `a` globally as `1`.\n",
    "Therefore the output of the function is also `1`. This is because we didn't define `a` before, Python can't find a local variable `a` and therefore falls back to the global variable `a`."
   ]
  },
  {
   "cell_type": "code",
   "execution_count": null,
   "metadata": {},
   "outputs": [],
   "source": [
    "a = 1\n",
    "\n",
    "\n",
    "def local_global(x):\n",
    "    print(a)\n",
    "\n",
    "\n",
    "local_global(x=7)"
   ]
  },
  {
   "attachments": {},
   "cell_type": "markdown",
   "metadata": {},
   "source": [
    "We now rewrite the function so that within the function the variable `a` receives the value of `x`."
   ]
  },
  {
   "cell_type": "code",
   "execution_count": null,
   "metadata": {},
   "outputs": [],
   "source": [
    "def local_global(x):\n",
    "    a = x\n",
    "    print(a)\n",
    "\n",
    "\n",
    "local_global(x=7)"
   ]
  },
  {
   "attachments": {},
   "cell_type": "markdown",
   "metadata": {},
   "source": [
    "The function now outputs the value `7` for `a`. So far, so good, but if you now look at `a`, you will notice that `a` is still `1`. Because this `a` is again the global variable `a`.\n"
   ]
  },
  {
   "cell_type": "code",
   "execution_count": null,
   "metadata": {},
   "outputs": [],
   "source": [
    "a"
   ]
  },
  {
   "attachments": {},
   "cell_type": "markdown",
   "metadata": {},
   "source": [
    "As you can see, the local change within the function had no effect on the global variable. That is, the local variable is *destroyed* after exiting the function, while the global variable continues to exist. This happens even though both variables have the same name.\n",
    "\n",
    "\n",
    "*In general, you should avoid having functions access global variables. This can cause a lot of confusion.*"
   ]
  },
  {
   "attachments": {},
   "cell_type": "markdown",
   "metadata": {},
   "source": [
    "# Exercises\n",
    "\n",
    "### 1. Indexing and Slicing\n",
    "\n",
    "* Output the string \"Panda\" from the `array` `Animals`.\n",
    "* Output the first two columns of the `array`.\n",
    "* Output the third row of the array\n",
    "* Output the four animals in the upper right corner of the `array`."
   ]
  },
  {
   "cell_type": "code",
   "execution_count": null,
   "metadata": {},
   "outputs": [],
   "source": [
    "Animals = np.array([\n",
    "    ['Elephant', 'Turtle', 'Parrot', 'Walrus', 'Eagle'],\n",
    "    ['Orang-utan', 'Panda', 'Bear', 'Carp', 'Wolf'],\n",
    "    ['Hyena', 'Chimpanzee', 'Hippo', 'Dove', 'Rhino'],\n",
    "    ['Lion', 'Sparrow', 'Sheep', 'Boar', 'Gorilla'],\n",
    "    ['Polar bear', 'Horse', 'Penguin', 'Orca', 'Frog']])\n",
    "\n",
    "# Output the elements/slices here with:\n",
    "# print(Animals[...])"
   ]
  },
  {
   "attachments": {},
   "cell_type": "markdown",
   "metadata": {},
   "source": [
    "<details>\n",
    "    <summary><b>Solution:</b></summary>\n",
    "\n",
    "```python\n",
    "print(Animals[1,1])\n",
    "print(Animals[:, 0:2])\n",
    "print(Animals[2]) # If there is no comma, rows always are always before columns\n",
    "print(Animals[:2,3:])  \n",
    "```   \n",
    "</details>"
   ]
  },
  {
   "attachments": {},
   "cell_type": "markdown",
   "metadata": {},
   "source": [
    "### 2. Celsius to Fahrenheit\n",
    "\n",
    "Write a function that converts Celsius to Fahrenheit. The formula for this is $°F= °C \\cdot 1.8 + 32$. <br> Convert 25 °C to Fahrenheit using this function."
   ]
  },
  {
   "cell_type": "code",
   "execution_count": null,
   "metadata": {},
   "outputs": [],
   "source": [
    "def c_to_f(_____):  # write your function here"
   ]
  },
  {
   "attachments": {},
   "cell_type": "markdown",
   "metadata": {},
   "source": [
    "<details>\n",
    "    <summary><b>Solution:</b></summary>\n",
    "\n",
    "```python\n",
    "def c_to_f(celsius):\n",
    "    return celsius*1.8 + 32\n",
    "    \n",
    "print(c_to_f(25))    \n",
    "```   \n",
    "</details>"
   ]
  },
  {
   "attachments": {},
   "cell_type": "markdown",
   "metadata": {},
   "source": [
    "### 3.  List Comprehension\n",
    "\n",
    "Can you write the following `for-loop` in one line?\n"
   ]
  },
  {
   "cell_type": "code",
   "execution_count": null,
   "metadata": {},
   "outputs": [],
   "source": [
    "x = [\"A\", \"B\", \"C\", \"D\"]\n",
    "\n",
    "for item in x:\n",
    "    print(item * 3)"
   ]
  },
  {
   "cell_type": "code",
   "execution_count": null,
   "metadata": {},
   "outputs": [],
   "source": [
    "# write your solution here"
   ]
  },
  {
   "attachments": {},
   "cell_type": "markdown",
   "metadata": {},
   "source": [
    "<details>\n",
    "    <summary><b>Solution:</b></summary>\n",
    "\n",
    "```python\n",
    "[3*item for item in x]\n",
    "```   \n",
    "</details>"
   ]
  },
  {
   "attachments": {},
   "cell_type": "markdown",
   "metadata": {},
   "source": [
    "Can you write the following `for-loop` as a \"classic\" `for-loop`?"
   ]
  },
  {
   "cell_type": "code",
   "execution_count": null,
   "metadata": {},
   "outputs": [],
   "source": [
    "x = [\"A\", \"B\", \"C\", \"D\"]\n",
    "[item + \"_XY\" for item in x]"
   ]
  },
  {
   "cell_type": "code",
   "execution_count": null,
   "metadata": {},
   "outputs": [],
   "source": [
    "# write your solution here"
   ]
  },
  {
   "attachments": {},
   "cell_type": "markdown",
   "metadata": {},
   "source": [
    "<details>\n",
    "    <summary><b>Solution:</b></summary>\n",
    "\n",
    "```python\n",
    "    \n",
    "for item in x:\n",
    "    print(item+\"_XY\")\n",
    "```   \n",
    "</details>"
   ]
  },
  {
   "attachments": {},
   "cell_type": "markdown",
   "metadata": {},
   "source": [
    "### 4. Fibonacci Sequence\n",
    "\n",
    "<img src=\"https://ichef.bbci.co.uk/images/ic/1200x675/p01gmtz6.jpg\" style=\"width: 600px; display:block; margin:auto\">\n",
    "<h5 style=\"text-align:center\">Source: BBC.com </h5>\n",
    "\n",
    "The Fibonacci sequence is a series of numbers where the next number is the sum of the last two numbers:\n",
    " \n",
    " https://de.wikipedia.org/wiki/Fibonacci-Folge\n",
    " \n",
    "Write a program that outputs the first 15 numbers of the Fibonacci sequence\n",
    " \n",
    "Given is already the list 'fib' which contains the numbers '0,1'. Add the next values to this list.\n",
    " \n",
    "<details>\n",
    "    <summary><b>Hint 1</b></summary>\n",
    "You can use <code>.append()</code>, to append numbers to lists.\n",
    "</details>\n",
    "\n",
    "<details>\n",
    "<summary><b>Hint 2</b></summary>\n",
    "    Using <code>[-1]</code> you can access the last element of a list.\n",
    "</details>"
   ]
  },
  {
   "cell_type": "code",
   "execution_count": null,
   "metadata": {},
   "outputs": [],
   "source": [
    "fib = [0, 1]\n",
    "# write your solution here"
   ]
  },
  {
   "attachments": {},
   "cell_type": "markdown",
   "metadata": {},
   "source": [
    "<details>\n",
    "    <summary><b>Solution:</b></summary>\n",
    "\n",
    "```python\n",
    "for i in range(14):\n",
    "    fib.append(fib[-1]+fib[-2])\n",
    "    print(fib)\n",
    "```\n",
    "</details>"
   ]
  },
  {
   "attachments": {},
   "cell_type": "markdown",
   "metadata": {},
   "source": [
    "### 5. Sum of Matrix-Diagonals\n",
    " \n",
    " \n",
    "Calculate the sum of the diagonals of matrix A and matrix B with a for-loop.\n",
    "\n",
    "The diagonals of a matrix are the values that lie in the \"middle\" of a matrix. In the example the diagonal is marked a bit stronger. \n",
    "\n",
    "$$ \\begin{bmatrix}\\textbf{1} & 2 & 3 \\\\\n",
    "4&\\textbf{5}&6\\\\\n",
    "7&8&\\textbf{9}\\end{bmatrix} $$\n",
    "\n",
    "In the example $1+5+9 =15$.\n",
    "\n",
    "<br>\n",
    "\n",
    "<details>\n",
    "    <summary><b>Hint 1 </b></summary>\n",
    "    <code>x =x+1</code> adds 1 to x.\n",
    "</details>\n",
    "\n",
    "\n",
    "<details>\n",
    "<summary><b>Hint 2</b></summary>\n",
    "    <code>x[0,0]</code> accesses the element in the first row and column.\n",
    "</details>\n"
   ]
  },
  {
   "cell_type": "code",
   "execution_count": null,
   "metadata": {},
   "outputs": [],
   "source": [
    "A = np.array([\n",
    "    [12, 45, 13, 85],\n",
    "    [11, 4, 43, 23],\n",
    "    [78, 22, 0.5, 65],\n",
    "    [154, 11, 57, 1]])\n",
    "\n",
    "print(A)\n",
    "\n",
    "\n",
    "B = np.array([\n",
    "    [0.96359314, 0.42621368, 0.10821601, 0.6852424 ],\n",
    "    [0.23945833, 0.30840861, 0.25658861, 0.63431993],\n",
    "    [0.16603427, 0.40061208, 0.2790935 , 0.94613278],\n",
    "    [0.89885982, 0.00133547, 0.75911288, 0.56449904]])\n",
    "    # The correct answer is 2.1155942899999998\n",
    "\n",
    "print(\"\\n\", B)"
   ]
  },
  {
   "cell_type": "code",
   "execution_count": null,
   "metadata": {},
   "outputs": [],
   "source": [
    "summe_diag = 0\n",
    "# write your solution here"
   ]
  },
  {
   "attachments": {},
   "cell_type": "markdown",
   "metadata": {},
   "source": [
    "<details>\n",
    "    <summary><b>Solution:</b></summary>\n",
    "\n",
    "```python\n",
    "for i in range(4):\n",
    "    sum_diag = sum_diag + A[i,i]\n",
    "print(sum_diag)\n",
    "```\n",
    "</details>"
   ]
  },
  {
   "attachments": {},
   "cell_type": "markdown",
   "metadata": {},
   "source": [
    "# Practice Exercise\n",
    "\n",
    "This task can be done by anyone. However, there is no solution for this yet. This will be discussed in the lab.\n",
    "The chemists who need a certificate of achievement will send their solution with the whole notebook.\n",
    "\n",
    "Can you write a function, without `numpy`, that calculates the sum of the diagonals for square matrices (equal number of columns and rows) of any size? To find the number of rows of a matrix, you can use `A.shape[0]`.\n",
    "\n",
    "**The function must not contain any other Numpy function except** `.shape`.\n",
    "\n",
    "The function can be tested on matrix A and B.\n",
    "\n",
    "Please hand in the complete notebook!"
   ]
  },
  {
   "cell_type": "code",
   "execution_count": null,
   "metadata": {},
   "outputs": [],
   "source": [
    "A = np.array([[0.5193, 0.1647, 0.373 , 0.1358, 0.8894, 0.7439, 0.4519, 0.2094,\n",
    "        0.4921, 0.0128, 0.4289, 0.5378, 0.4515, 0.6876, 0.5937],\n",
    "       [0.6018, 0.8242, 0.3926, 0.6591, 0.5134, 0.6065, 0.9881, 0.3841,\n",
    "        0.819 , 0.6716, 0.4225, 0.7546, 0.9525, 0.9048, 0.7034],\n",
    "       [0.7289, 0.7999, 0.3033, 0.4591, 0.1918, 0.7663, 0.9638, 0.7665,\n",
    "        0.5774, 0.7184, 0.9293, 0.0913, 0.0071, 0.989 , 0.6825],\n",
    "       [0.4759, 0.3783, 0.4923, 0.7622, 0.8149, 0.9381, 0.6649, 0.8443,\n",
    "        0.5408, 0.1885, 0.8533, 0.5403, 0.2167, 0.7192, 0.0259],\n",
    "       [0.8154, 0.1398, 0.8851, 0.2447, 0.8609, 0.1983, 0.3468, 0.5203,\n",
    "        0.5189, 0.3498, 0.3812, 0.3807, 0.209 , 0.2887, 0.1896],\n",
    "       [0.6525, 0.4192, 0.0356, 0.3995, 0.3648, 0.7127, 0.275 , 0.2705,\n",
    "        0.4698, 0.6706, 0.5039, 0.1286, 0.0693, 0.9826, 0.6088],\n",
    "       [0.5758, 0.4875, 0.6286, 0.9947, 0.0188, 0.8688, 0.9532, 0.498 ,\n",
    "        0.3713, 0.2585, 0.2112, 0.0812, 0.2677, 0.4038, 0.3395],\n",
    "       [0.0261, 0.5817, 0.9681, 0.7922, 0.592 , 0.8935, 0.4938, 0.8571,\n",
    "        0.279 , 0.0495, 0.549 , 0.2601, 0.348 , 0.6418, 0.8063],\n",
    "       [0.1303, 0.7674, 0.4345, 0.7768, 0.9407, 0.5074, 0.4774, 0.6019,\n",
    "        0.1217, 0.3217, 0.9664, 0.2278, 0.5141, 0.7489, 0.8304],\n",
    "       [0.1496, 0.0037, 0.3978, 0.8104, 0.5294, 0.337 , 0.3625, 0.3798,\n",
    "        0.8974, 0.3587, 0.1965, 0.9226, 0.2652, 0.1309, 0.7748],\n",
    "       [0.9205, 0.6545, 0.6991, 0.6209, 0.1958, 0.2015, 0.8984, 0.2911,\n",
    "        0.7079, 0.8424, 0.9334, 0.2488, 0.3616, 0.8357, 0.657 ],\n",
    "       [0.788 , 0.046 , 0.3151, 0.6779, 0.4671, 0.5347, 0.3059, 0.1771,\n",
    "        0.3986, 0.3657, 0.7061, 0.2225, 0.254 , 0.3257, 0.4043],\n",
    "       [0.9722, 0.2203, 0.11  , 0.3706, 0.1451, 0.8802, 0.0651, 0.098 ,\n",
    "        0.8599, 0.0832, 0.8898, 0.4826, 0.5435, 0.1672, 0.8508],\n",
    "       [0.857 , 0.6562, 0.6943, 0.2193, 0.3398, 0.8404, 0.0348, 0.4491,\n",
    "        0.8173, 0.8593, 0.1258, 0.2229, 0.925 , 0.2908, 0.0155],\n",
    "       [0.9227, 0.9373, 0.5116, 0.0711, 0.5547, 0.4867, 0.3199, 0.5271,\n",
    "        0.3406, 0.6261, 0.1969, 0.0792, 0.9261, 0.3449, 0.1132]])\n",
    "\n",
    "B = np.array([[-0.081,  0.549, -0.351,  1.037,  0.48 , -0.187, -1.148,  0.576],\n",
    "              [-0.124, -0.059,  0.705,  0.577,  0.67 ,  1.307,  1.408, -1.136],\n",
    "              [-0.175, -0.263,  2.828, -0.89 , -1.159,  1.195, -1.265, -0.364],\n",
    "              [-0.416, -0.665,  1.646,  0.107,  0.221, -0.439,  1.114,  0.269],\n",
    "              [-0.244, -1.125,  1.05 ,  0.467,  0.297, -1.377, -0.113, -2.072],\n",
    "              [-0.761, -0.691, -0.811, -1.051, -2.077,  0.25 ,  0.432, -0.314],\n",
    "              [ 2.375, -1.981, -0.264,  1.477, -0.631, -0.566,  0.32 ,  0.305],\n",
    "              [ 0.328,  1.811,  0.585,  0.818,  0.771,  0.208, -0.914, -0.374]])"
   ]
  },
  {
   "cell_type": "code",
   "execution_count": null,
   "metadata": {},
   "outputs": [],
   "source": [
    "# write your solution here"
   ]
  },
  {
   "attachments": {},
   "cell_type": "markdown",
   "metadata": {},
   "source": [
    "Of course `numpy` also contains functions for such problems. One possibility is to use `np.sum(np.diag(A))` to calculate the sum. Here `np.diag` selects the elements of the diagonals and `np.sum` sums them up. `numpy` has many functions. If you ever don't know what a function does, you can use `help()` to open the so called documentation. The documentation contains information about each function. For example the required inputs and outputs."
   ]
  },
  {
   "cell_type": "code",
   "execution_count": null,
   "metadata": {},
   "outputs": [],
   "source": [
    "help(np.sum)"
   ]
  },
  {
   "attachments": {},
   "cell_type": "markdown",
   "metadata": {},
   "source": [
    "Examples are given and each input variable is described. `np.sum()` always needs an `array` for which it can calculate the sum. But all other variables don\\`t need to be defined, because they have a default value.\n",
    "\n",
    "Unfortunately not every library has as good documentation as `numpy`."
   ]
  }
 ],
 "metadata": {
  "kernelspec": {
   "display_name": "dev",
   "language": "python",
   "name": "python3"
  },
  "language_info": {
   "codemirror_mode": {
    "name": "ipython",
    "version": 3
   },
   "file_extension": ".py",
   "mimetype": "text/x-python",
   "name": "python",
   "nbconvert_exporter": "python",
   "pygments_lexer": "ipython3",
   "version": "3.13.2"
  },
  "toc-autonumbering": false,
  "toc-showcode": true,
  "toc-showmarkdowntxt": true
 },
 "nbformat": 4,
 "nbformat_minor": 4
}
