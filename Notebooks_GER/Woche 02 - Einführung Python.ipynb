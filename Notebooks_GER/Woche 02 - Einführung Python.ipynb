{
 "cells": [
  {
   "cell_type": "markdown",
   "metadata": {},
   "source": [
    "<img src=\"Img/general/lightroastcomics.png\" style=\"width:400px; display:block; margin:auto\">\n",
    "\n",
    "<h5 style=\"text-align:center\">Source: Light Roast Comics, http://lightroastcomics.com</h5>"
   ]
  },
  {
   "cell_type": "markdown",
   "metadata": {},
   "source": [
    "# Kurze Einführung in Python\n",
    "\n",
    "\n",
    "In diesem Notebook beschäftigen wir uns mit den Grundlagen von Python. Dabei gehen wir auf die wichtigsten Funktionen und Datenstrukturen in Python ein.\n",
    "Wie im ersten Notebook besprochen, kann Python-Code mithilfe von Jupyter-Notebooks ausgeführt werden. Eine ausführlichere Erklärung zur Verwendung dieser Notebooks finden Sie im Notebook der ersten Woche.\n",
    " \n"
   ]
  },
  {
   "cell_type": "markdown",
   "metadata": {},
   "source": [
    "## 1. Print()\n",
    "\n",
    "Eine der wichtigsten Funktionen in Python ist die <code>print()</code>-Funktion. Mit ihr kann man sich Informationen oder Text von Python ausgeben lassen und somit sichtbar machen. Es wird immer das gedruckt, was innerhalb der <code>()</code> steht."
   ]
  },
  {
   "cell_type": "code",
   "execution_count": null,
   "metadata": {},
   "outputs": [],
   "source": [
    "print(\"Hello World\")"
   ]
  },
  {
   "cell_type": "markdown",
   "metadata": {},
   "source": [
    "Der Einfachheit halber gibt das Python-Notebook die letzte Zeile einer Zelle automatisch aus. Auch ohne die <code>print()</code>-Funktion.\n",
    "\n",
    "Die Raute (oder auch Hashtag) `#` erlaubt es uns, dem Code Kommentare hinzuzufügen. Diese werden von Python ignoriert."
   ]
  },
  {
   "cell_type": "code",
   "execution_count": null,
   "metadata": {},
   "outputs": [],
   "source": [
    "\"Hallo\"  # die erste Zeile wird nicht mit gedruckt, es sei denn, man benutzt ein print statement\n",
    "\"Welt\""
   ]
  },
  {
   "cell_type": "markdown",
   "metadata": {},
   "source": [
    "Wenn man Text \"printen\" will ist es wichtig, dass dieser in <code>\" \"</code> steht. <code>\" \"</code> lässt Python wissen, dass es sich hierbei um einfachen Text handelt. Ein Wort, das in <code>\" \"</code> steht, wird als <code>string</code> bezeichnet\n",
    "\n",
    "Ohne die <code>\" \"</code> passiert Folgendes:"
   ]
  },
  {
   "cell_type": "code",
   "execution_count": null,
   "metadata": {},
   "outputs": [],
   "source": [
    "Hallo"
   ]
  },
  {
   "cell_type": "markdown",
   "metadata": {},
   "source": [
    "<center><img src=\"https://tenor.com/view/monkey-pissed-mad-angry-furious-gif-4720563.gif\"></center>"
   ]
  },
  {
   "cell_type": "markdown",
   "metadata": {},
   "source": [
    "# 2. Variablen\n",
    "\n",
    "Ihre erste Fehlermeldung :) Wir können diese aber schnell beheben. <br>\n",
    "<code>Hallo</code> ist nicht definiert. Dieser Fehler tritt auf, weil der <code>string</code> nicht mehr von Python als `string` erkannt wird. <br> Wörter oder auch Buchstaben, die nicht in <code>\" \"</code> stehen, sind **Variablen**. Diese müssen vorher definiert werden. Variablen können Zahlen, <code>strings</code> oder auch Listen enthalten. Wir definieren eine Variable mit <code>=</code>.\n",
    "\n",
    "Zum Beispiel:"
   ]
  },
  {
   "cell_type": "code",
   "execution_count": null,
   "metadata": {},
   "outputs": [],
   "source": [
    "x = \"Hallo\"\n",
    "print(x)"
   ]
  },
  {
   "cell_type": "markdown",
   "metadata": {},
   "source": [
    "<code>x</code> enthält nun den <code>string</code> <code>\"Hallo\"</code>.   \n",
    "Der Inhalt von `x` wird weiterhin für die nächsten Zellen gespeichert. Das heißt, auch in einer neuen Zeile können Sie `print(x)` aufrufen und `Hallo` wird Ihnen ausgegeben.\n",
    "\n",
    "Wenn Sie `x` neu definieren, d.h. `x` einen neuen Wert geben, dann wird der alte Wert überschrieben.\n",
    "\n",
    "**Wichtig:**\n",
    "Informationen, die in einer Zelle gespeichert oder erstellt werden, sind auch für die nächsten Zellen verfügbar, die ihr ausführt."
   ]
  },
  {
   "cell_type": "code",
   "execution_count": null,
   "metadata": {},
   "outputs": [],
   "source": [
    "print(\"Das ist der alte Inhalt von x:\")\n",
    "print(x)\n",
    "\n",
    "\n",
    "x = 1\n",
    "print()\n",
    "print(\"Das ist der neue Wert von x: \")\n",
    "print(x)"
   ]
  },
  {
   "cell_type": "markdown",
   "metadata": {},
   "source": [
    "###  2.1 Zahlen\n",
    "Wie Sie sehen können, können Variablen auch Zahlen enthalten. Ganze Zahlen (ohne Dezimalpunkt) können als `integer` gespeichert werden. Zahlen mit Dezimalpunkten werden als `float` gespeichert. Die mathematischen Operationen Addition, Subtraktion, Multiplikation und Division (`+`, `-`, `*`,`/`) können ebenfalls verwendet werden und verhalten sich genau wie bei einem Taschenrechner."
   ]
  },
  {
   "cell_type": "code",
   "execution_count": null,
   "metadata": {
    "scrolled": true
   },
   "outputs": [],
   "source": [
    "2+(5*3)/1.2"
   ]
  },
  {
   "cell_type": "code",
   "execution_count": null,
   "metadata": {},
   "outputs": [],
   "source": [
    "print(\"5 + 2 ist gleich\")\n",
    "print(5 + 2)\n",
    "\n",
    "\n",
    "print(\"5 - 2 ist gleich\")\n",
    "print(5 - 2)\n",
    "\n",
    "\n",
    "print(\"5 * 2 ist gleich\")\n",
    "print(5 * 2)\n",
    "\n",
    "\n",
    "print(\"1 / 2 ist gleich\")\n",
    "print(1 / 2)\n"
   ]
  },
  {
   "cell_type": "markdown",
   "metadata": {},
   "source": [
    "Die gleichen Operationen funktionieren auch mit Variablen, sofern diese <code>floats</code> oder <code>integers</code> beinhalten."
   ]
  },
  {
   "cell_type": "code",
   "execution_count": null,
   "metadata": {},
   "outputs": [],
   "source": [
    "x = 5\n",
    "y = 2\n",
    "\n",
    "print(x + y)\n",
    "print(x - y)\n",
    "print(x * y)\n",
    "print(x / y)"
   ]
  },
  {
   "cell_type": "markdown",
   "metadata": {},
   "source": [
    "### 2.2 Booleans\n",
    "\n",
    "Booleans sind eine weitere Art von Variable. Booleans sind entweder `True`  oder `False`. Wir können Booleans zum Vergleich von Werten verwenden:"
   ]
  },
  {
   "cell_type": "code",
   "execution_count": null,
   "metadata": {},
   "outputs": [],
   "source": [
    "5==5"
   ]
  },
  {
   "cell_type": "markdown",
   "metadata": {},
   "source": [
    "Wie Sie sehen können, wird `==` zum Vergleich von Werten benutzt. Das einfache `=` ist bereits zugewiesen, um Variablen Werte zuzuweisen. <br>\n",
    "`==` prüft, ob zwei Werte oder Variablen identisch sind.<br> Das Symbol`!=` prüft, ob zwei Werte ungleich sind. `>` und `<` funktionieren wie in der Mathematik und prüfen, ob ein Wert größer bzw. kleiner ist.\n",
    "\n",
    "Man kann auch mit Booleans rechnen:"
   ]
  },
  {
   "cell_type": "code",
   "execution_count": null,
   "metadata": {},
   "outputs": [],
   "source": [
    "True + True"
   ]
  },
  {
   "cell_type": "markdown",
   "metadata": {},
   "source": [
    "Das ist nicht Besonderes, soll aber zeigen, dass dem Boolean `True` der Wert `1` zugeordnet ist und `False` der Wert `0`. <br>Wir können dies auch überprüfen:"
   ]
  },
  {
   "cell_type": "code",
   "execution_count": null,
   "metadata": {},
   "outputs": [],
   "source": [
    "1==True "
   ]
  },
  {
   "cell_type": "markdown",
   "metadata": {},
   "source": [
    "Wir können `strings` und auch Variablen vergleichen:"
   ]
  },
  {
   "cell_type": "code",
   "execution_count": null,
   "metadata": {},
   "outputs": [],
   "source": [
    "\"Hallo\" == \"Hallo\""
   ]
  },
  {
   "cell_type": "code",
   "execution_count": null,
   "metadata": {},
   "outputs": [],
   "source": [
    "x = 5\n",
    "y = 8\n",
    "x == y"
   ]
  },
  {
   "cell_type": "markdown",
   "metadata": {},
   "source": [
    "### 2.3 Listen\n",
    "\n",
    "Neben <code>strings</code>, <code>integers</code> und <code>floats</code> gibt es auch Listen. Listen können mehrere Werte enthalten und werden mit <code>[]</code> erstellt:\n",
    "\n",
    "<code>x = [2,4,6,8]</code>\n",
    "\n",
    "<code>x</code> wäre jetzt eine Liste mit den Werten 2,4,6,8. Listen können eine Kombination aus <code>strings</code>, <code>integers</code> und <code>floats </code> enthalten. Auch Listen können in Listen gespeichert werden."
   ]
  },
  {
   "cell_type": "code",
   "execution_count": null,
   "metadata": {},
   "outputs": [],
   "source": [
    "liste1 = [2, 4, 6, 8]\n",
    "liste1"
   ]
  },
  {
   "cell_type": "code",
   "execution_count": null,
   "metadata": {},
   "outputs": [],
   "source": [
    "liste2 = [\"Hallo\", 2, 0.6]\n",
    "liste2"
   ]
  },
  {
   "cell_type": "code",
   "execution_count": null,
   "metadata": {},
   "outputs": [],
   "source": [
    "liste3 = [5, \"Welt\", liste2]\n",
    "liste3"
   ]
  },
  {
   "cell_type": "markdown",
   "metadata": {},
   "source": [
    "Wenn Sie wissen wollen, wie viele Elemente in einer Liste enthalten sind, können Sie die Funktion `len()` verwenden:"
   ]
  },
  {
   "cell_type": "code",
   "execution_count": null,
   "metadata": {},
   "outputs": [],
   "source": [
    "len(liste3)"
   ]
  },
  {
   "cell_type": "markdown",
   "metadata": {},
   "source": [
    "Sie können sehen, dass die `liste3` eine Länge von 3 hat. Also insgesamt aus drei Elementen besteht. \n",
    "Hier werden die einzelnen Elemente in `liste2` nicht einzeln gezählt. Die Liste wird also als ein einziges Element betrachtet.  "
   ]
  },
  {
   "cell_type": "markdown",
   "metadata": {},
   "source": [
    "## 2.4 Tupel und Sets\n",
    "\n",
    "Daten können auch in Tupeln oder Sets gespeichert werden. Ein `tuple` wird normalerweise für kleine, konstante Datensammlungen verwendet (wenn wir etwas zu den Daten hinzufügen wollen, würden wir stattdessen eine Liste verwenden) aber Tupel können effizienter sein. Und wenn eine Funktion mehr als einen Rückgabewert hat, werden die Rückgaben als ein Tupel zurückgegeben. Ein Tupel kann mit `tuple()` oder mit `()` erzeugt werden. Wenn ein Tupel mit nur einem Element erzeugt werden soll, muss allerdings ein Komma hinter dem ersten Element stehen, z. B. `(1,)`. \n",
    "\n",
    "Ein `set` enthält immer nur einzigartige Werte, daher können Sets verwendet werden um nur einzigartige Werte aus einer Liste herauszufiltern. Auch mathematische Operatoren aus der Mengenlehre können mit Sets verwendet werden, z.B. die Schnittmenge. Sets werden mit `set()` oder `{}` erzeugt (nicht zu verwechseln mit einem dictionary). Anders als Listen oder Tupel können die Elemente eines Sets nicht mit einem Index gefunden werden."
   ]
  },
  {
   "cell_type": "code",
   "execution_count": null,
   "metadata": {},
   "outputs": [],
   "source": [
    "# ein Tupel aus einer Liste erzeugen\n",
    "tup1 = tuple(liste1 + [2, 3, 4])\n",
    "print(tup1, type(tup1))\n",
    "# Entferenen von Duplikaten \n",
    "set1 = set(tup1) # oder set1 = {1, 2, 3, 2}\n",
    "print(set1, type(set1))\n",
    "# das Set kann auch wieder in eine Liste umgewandelt werden\n",
    "list4 = list(set1)\n",
    "print(list4, type(list4))"
   ]
  },
  {
   "cell_type": "markdown",
   "metadata": {},
   "source": [
    "## 3. Indizierung\n",
    "\n",
    "In Python beschreibt ein Index die Position eines Wertes innerhalb einer Variablen, z.B. einer Liste.\n",
    "\n",
    "Wenn man wissen will, welcher Wert an zweiter Stelle in einer Liste steht, kann man den Index verwenden, um genau diesen Wert zu erhalten.\n",
    "Um einen Index zu verwenden, braucht man wieder das `[]`. Diesmal aber nicht bei der Definition einer Variablen, sondern in Kombination mit der Variablen.\n",
    "So würde `x[0]` das erste Element der Variablen `x` liefern.\n",
    "\n",
    "**Wichtig:**\n",
    "\n",
    "Python verwendet eine `0-basierte` Indizierung, was bedeutet, dass die Indizierung in Python bei `0` beginnt. Der erste Wert in der Liste ist dem Index `0` zugeordnet. \n",
    "\n",
    "---\n",
    "\n",
    "Fast alle Programmiersprachen sind `0-basiert`. Es ist zu einer Konvention geworden und liegt daran, wie `arrays` im Speicher gespeichert werden. \n",
    "\n",
    "---"
   ]
  },
  {
   "cell_type": "code",
   "execution_count": null,
   "metadata": {},
   "outputs": [],
   "source": [
    "Tiere = [\"Löwe\", \"Elephant\", \"Fuchs\", \"Wal\", \"Pferd\",\"Steinbock\", \"Ameise\"]\n",
    "Tiere[3]"
   ]
  },
  {
   "cell_type": "markdown",
   "metadata": {},
   "source": [
    "Man kann auch mehrere Werte aus einer Liste auswählen, was dann `slicing` genannt wird. Hierfür braucht man den Doppelpunkt `:`.\n",
    "\n",
    "* `x[:5]` Die ersten fünf Werte der Liste `x` werden ausgewählt. Beachten Sie, dass der Index `5` dem sechsten Element der Liste zugewiesen wird. Das sechste Element wird nicht mehr ausgegeben. In Python ist der Index, der die Obergrenze festlegt, selbst nicht mehr enthalten.\n",
    "\n",
    "* `x[2:5]` Hier werden die Elemente an dritter, vierter und fünfter Stelle ausgewählt\n",
    "\n",
    "* `x[5:]` Hier werden alle Elemente von der sechsten Position bis zum Ende der Liste ausgewählt \n",
    "\n",
    "* `x[-1]` wählt das letzte Element in der Liste aus\n",
    "\n",
    "* `x[-2]` wählt das vorletzte Element aus  "
   ]
  },
  {
   "cell_type": "code",
   "execution_count": null,
   "metadata": {},
   "outputs": [],
   "source": [
    "x = [1, 2, 3, 4, 5, 6, 7, 8, 9]"
   ]
  },
  {
   "cell_type": "code",
   "execution_count": null,
   "metadata": {},
   "outputs": [],
   "source": [
    "x[0:5]  # wie Sie nochmals sehen können: der Index 5 verweist auf den sechsten Wert, ist aber nicht in der Ausgabe enthalten"
   ]
  },
  {
   "cell_type": "code",
   "execution_count": null,
   "metadata": {},
   "outputs": [],
   "source": [
    "x[2:5]"
   ]
  },
  {
   "cell_type": "code",
   "execution_count": null,
   "metadata": {},
   "outputs": [],
   "source": [
    "x[5:]"
   ]
  },
  {
   "cell_type": "code",
   "execution_count": null,
   "metadata": {},
   "outputs": [],
   "source": [
    "x[-1]"
   ]
  },
  {
   "cell_type": "markdown",
   "metadata": {},
   "source": [
    "Sie können auch Werte an eine bestehende Liste anhängen: \n",
    "\n",
    "`x.append(10)`,\n",
    "\n",
    "so dass die Zahl `10` an das Ende der Liste `x` angehängt wird."
   ]
  },
  {
   "cell_type": "code",
   "execution_count": null,
   "metadata": {},
   "outputs": [],
   "source": [
    "x.append(10)\n",
    "x"
   ]
  },
  {
   "cell_type": "markdown",
   "metadata": {},
   "source": [
    "## 4. For-Loop\n",
    "\n",
    "Die meisten Dinge, die Sie bisher getan haben, können Sie selbst in einem Taschenrechner erledigen. Der **for-loop**, ist das erste Pythonfeature, was uns neue und effiziente Möglichkeiten eröffnet, die über doe Möglichkeiten eines einfachen Taschenrechners hinaus gehen.\n",
    "\n",
    "Ein *for-loop* wird verwendet, um einen Befehl wiederholt auszuführen. Auf diese Weise müssen Sie nicht immer wieder denselben Befehl schreiben."
   ]
  },
  {
   "cell_type": "code",
   "execution_count": null,
   "metadata": {},
   "outputs": [],
   "source": [
    "for i in range(5):\n",
    "    print(\"Hallo Welt\")"
   ]
  },
  {
   "cell_type": "markdown",
   "metadata": {},
   "source": [
    "Anstatt den Befehl `print` fünfmal selbst zu schreiben, erledigt der for-loop das für Sie.<br>\n",
    "Das wird dann wirklich nützlich, wenn man ein und denselben Befehl für die Elemente einer Liste ausführen will.\n",
    "\n",
    "Die `range(5)`-Funktion sagt dem Loop, dass die Variable `i` alle Werte von 0 bis 5 nacheinander annehmen soll (der Wert 5 ist, sowie beim Index, ausgeschlossen)."
   ]
  },
  {
   "cell_type": "code",
   "execution_count": null,
   "metadata": {},
   "outputs": [],
   "source": [
    "for i in range(5):\n",
    "    print(i)"
   ]
  },
  {
   "cell_type": "markdown",
   "metadata": {},
   "source": [
    "Angenommen, Sie haben die Werte x=[1,2,3,4,5,6,7,8,9] und möchten das Quadrat (in Python `**2`) für jeden der Werte berechnen. Dann können Sie den for-loop verwenden, um eine Schleife über die Liste x zu ziehen. Es gibt verschiedene Möglichkeiten, einen for-loop zu schreiben, aber im Endeffekt tun sie alle dasselbe."
   ]
  },
  {
   "cell_type": "code",
   "execution_count": null,
   "metadata": {
    "scrolled": true
   },
   "outputs": [],
   "source": [
    "x = [1, 2, 3, 4, 5, 6, 7, 8, 9]\n",
    "\n",
    "for element in x:\n",
    "    print(element ** 2)\n",
    "    "
   ]
  },
  {
   "cell_type": "code",
   "execution_count": null,
   "metadata": {},
   "outputs": [],
   "source": [
    "print(\"\\n Alternativ: \\n\")\n",
    "\n",
    "# Alternativ können wir \"i\" Werte von 0 bis 8 annehmen lassen und die Elemente in x anhand des Indexes i auswählen.\n",
    "\n",
    "for i in range(len(x)): #len(x) = 9, also nimmt i Werte zwischen 0 und 8 an.\n",
    "    print(x[i]**2)"
   ]
  },
  {
   "cell_type": "markdown",
   "metadata": {},
   "source": [
    "Das `for` leitet den loop ein. Das `element` ist der Name für eine neue Variable, die nur in diesem `for-loop` existiert (man kann ihr auch jeden anderen Namen geben). `in` \"sagt\" Python, dass die darauf folgende Variable, die Variable ist, über die geloopt werden soll: in diesem Fall `x`. Python erkennt, dass es den Befehl innerhalb des for-loops für jedes Element in `x` ausführen muss. Es muss immer ein `:` am Ende der ersten Zeile des for-loops stehen.\n",
    "\n",
    "Beachten Sie auch, dass der Befehl innerhalb der for-Schleife eingerückt ist. Dies ist wichtig, um Python zu zeigen, was innerhalb des for-loops passieren soll. Etwas, das nach dem for-loop, aber nicht innerhalb des for-loops passieren soll, wird dann ohne Einrückung geschrieben (*indent* genannt). Eine *indent*  sind vier Leerzeichen oder das einmalige Drücken der Tab(ulator)taste. \n",
    "\n",
    "Oft werden einfache \"for-loops\" in einer Zeile geschrieben, indem man die sogenannte \"list comprehension\" verwendet."
   ]
  },
  {
   "cell_type": "code",
   "execution_count": null,
   "metadata": {},
   "outputs": [],
   "source": [
    "[element**2 for element in x]"
   ]
  },
  {
   "cell_type": "markdown",
   "metadata": {},
   "source": [
    "Sie sehen, dass wir weniger Zeilen benötigen. Außerdem ist der Output eine Liste anstelle, wie oben, der einzelnen Elemente."
   ]
  },
  {
   "cell_type": "markdown",
   "metadata": {},
   "source": [
    "## 5. Numpy\n",
    "\n",
    "Python an sich hat nur eine begrenzte Anzahl von Funktionen, die Sie verwenden können. Viele nützliche Funktionen müssen separat geladen werden. Dies geschieht durch das importieren von sogenannten *libraries*.\n",
    "Eine der wichtigsten und meistgenutzten *libraries* ist `numpy`. Wie der Name schon erahnen lässt, konzentriert sich `numpy` auf numerische Berechnungen. Vor allem Funktionen, die für lineare Algebra und Statistik wichtig sind, finden sich hier.\n",
    "Am wichtigsten für Sie ist die Klasse der `arrays`, eine neue *Art* von Variable die von `numpy` hinzugefügt wird. \n",
    "\n",
    "Ein `array` erlaubt es Ihnen, mehrere Werte in einer Variablen zu speichern. Anders als in einer Liste können die Werte hier auf zwei (oder mehreren) Dimensionen angeordnet werden, wie in einer Tabelle oder einer Matrix:\n",
    "\n",
    "<center><img src=\"https://upload.wikimedia.org/wikipedia/commons/b/bf/Matris.png\" style=\"width: 400px;\"></center>\n",
    "<h8><center>Quelle: Svjo, Wikimedia</center></h8>\n",
    "\n",
    "\n",
    "Tatsächlich kann man auch 3D und 4D `arrays` mit `numpy` benutzen, für Ihre Zwecke reichen aber zwei Dimensionen aus.\n",
    "\n",
    "Theoretisch würde alles auch mit Python-Listen funktionieren, aber der zugrundeliegende Code, in dem `numpy` geschrieben wurde, ist für diese `array`-Strukturen optimiert. Daher bietet `numpy` erhebliche Geschwindigkeitsvorteile im Vergleich zu Python-Listen.\n",
    "\n",
    "**Wichtig:** Arrays, anders als Listen, können nur Werte des selben Types enthalten. Also nur `strings` oder nur `floats` aber nicht beides.\n",
    "\n",
    "\n",
    "Man kann `numpy` mit `import numpy` laden. Der Zusatz `as np` erlaubt es Ihnen später im Code `np` anstatt `numpy` zu schreiben:\n"
   ]
  },
  {
   "cell_type": "code",
   "execution_count": null,
   "metadata": {},
   "outputs": [],
   "source": [
    "import numpy as np"
   ]
  },
  {
   "cell_type": "code",
   "execution_count": null,
   "metadata": {},
   "outputs": [],
   "source": [
    "# Wir schreiben jetzt np.array, damit klar ist, dass wir eine Funktion von numpy meinen\n",
    "mein_erstes_array = np.array([[1, 2, 3],\n",
    "                              [4, 5, 6],\n",
    "                              [7, 8, 9]])   \n",
    "print(mein_erstes_array)"
   ]
  },
  {
   "cell_type": "markdown",
   "metadata": {},
   "source": [
    "Wenn Sie genau hinschauen, werden Sie sehen, dass `np.array([[1,2,3],[4,5,6],[7,8,9]])` eine Liste ist, die drei Listen `[[1,2,3],[4,5,6],[7,8,9]]` enthält. Numpy \"klebt\" sozusagen die zweite Liste unter die erste (und so weiter). So entsteht eine Matrix oder ein `array`. Damit dies funktioniert, müssen alle Listen die gleiche Länge haben.\n",
    "\n",
    "Wenn Sie wissen wollen, wie groß ein `array` ist, können Sie `x.shape` verwenden."
   ]
  },
  {
   "cell_type": "code",
   "execution_count": null,
   "metadata": {
    "scrolled": true
   },
   "outputs": [],
   "source": [
    "mein_erstes_array.shape"
   ]
  },
  {
   "cell_type": "markdown",
   "metadata": {},
   "source": [
    "Das `array` besteht also aus drei Zeilen und drei Spalten. \n",
    "Man kann `arrays` auch indizieren oder aufteilen: `array[Zeile, Spalte]`. In einem `array` können die Zeilen und Spalten ausgewählt werden. Die Regeln sind hier identisch zu denen von Listen:\n",
    "- `array[1,3]` gibt das Element aus, das sich in der zweiten Zeile und der vierten Spalte befindet\n",
    "- `array[:,0]` gibt die komplette erste Spalte aus\n",
    "- `array[5,:]` gibt die 6. Zeile aus\n",
    "- `array[2:5,0:3]` wählt alle Elemente aus, die sich innerhalb der dritten und fünften Zeile und auch in der ersten bis dritten Spalte befinden"
   ]
  },
  {
   "cell_type": "code",
   "execution_count": null,
   "metadata": {},
   "outputs": [],
   "source": [
    "mein_erstes_array[0:2,0:2]"
   ]
  },
  {
   "cell_type": "markdown",
   "metadata": {},
   "source": [
    "`numpy` können Sie auch benutzen, um Datensätze einzulesen."
   ]
  },
  {
   "cell_type": "code",
   "execution_count": null,
   "metadata": {},
   "outputs": [],
   "source": [
    "datensatz = np.genfromtxt('https://uni-muenster.sciebo.de/s/8NNS6x6bVQfiYNu/download', delimiter=',')\n",
    "datensatz"
   ]
  },
  {
   "cell_type": "markdown",
   "metadata": {},
   "source": [
    "## 6. Funktionen\n",
    "\n",
    "Funktionen sind das A und O im Programmieren. Ähnlich wie in der Mathematik haben Funktionen einen Input und geben einen neuen transformierten Wert, den Output, aus: $f(x)= x^2$ $\\to$ $f(3) =9$.\n",
    "\n",
    "Sie haben bereits einige Funktionen mit `numpy` verwendet: zum Beispiel nimmt `np.array()` als Input eine Liste und als Output ein `array`.<br>\n",
    "`len()` nimmt als Input eine Liste und gibt als Output die Anzahl der Element in dieser Liste aus.\n",
    "\n",
    "Sie können auch Ihre eigenen Funktionen schreiben. Um eine Funktion zu definieren, verwenden Sie `def`: "
   ]
  },
  {
   "cell_type": "code",
   "execution_count": null,
   "metadata": {},
   "outputs": [],
   "source": [
    "def quadrat(x):\n",
    "    return x**2\n",
    "\n",
    "quadrat(4)"
   ]
  },
  {
   "cell_type": "markdown",
   "metadata": {},
   "source": [
    "Nach dem `def` können Sie der Funktion einen Namen geben, dann folgen zwei Klammern `()`, darin können Sie dann die Namen der Inputvariablen definieren. Darauf folgt ein Doppelpunkt. Nach dem `:` wird die eigentliche Funktion definiert (was die Funktion eigentlich machen soll). Wichtig dabei ist, dass alles, was in der Funktion passieren soll, mit 4 Leerzeichen (1 Tabulator) eingerückt wird. Jupyter macht das automatisch für Sie.\n",
    "\n",
    "Als letztes folgt das `return`- Statement, was darauf folgt, wird von der Funktion als Output ausgegeben.\n",
    "\n",
    "Funktionen können mehrere Inputs und Outputs haben:"
   ]
  },
  {
   "cell_type": "code",
   "execution_count": null,
   "metadata": {},
   "outputs": [],
   "source": [
    "def power(x,b):\n",
    "    x_hoch_b =x**b\n",
    "    b_hoch_x =b**x\n",
    "    return x_hoch_b, b_hoch_x\n",
    "\n",
    "power(x=4,b=5)"
   ]
  },
  {
   "cell_type": "markdown",
   "metadata": {},
   "source": [
    "Sie können den Output der Funktion auch direkt Variablen zuordnen."
   ]
  },
  {
   "cell_type": "code",
   "execution_count": null,
   "metadata": {},
   "outputs": [],
   "source": [
    "# wie man hier sieht, erkennt Python an Hand der Position welcher Wert x und welcher b ist.\n",
    "output1, output2 = power(4,5) \n",
    "print(output1, output2)"
   ]
  },
  {
   "cell_type": "code",
   "execution_count": null,
   "metadata": {},
   "outputs": [],
   "source": [
    "print(x_hoch_b)"
   ]
  },
  {
   "cell_type": "markdown",
   "metadata": {},
   "source": [
    "In der letzten Zelle haben Sie versucht, `x_high_b` in der Konsole zu drucken (`print(x_high_b)`). Aber das funktioniert nicht, da Variablen, die innerhalb einer Funktion definiert sind, nur innerhalb der Funktion `leben` und nicht im *globalen Bereich* existieren. Alle Variablen, die Sie nach einer Funktion verwenden wollen, müssen mit der Anweisung `return` in einer neuen Variablen gespeichert werden. \n",
    "\n",
    "Sie können auch Funktionen innerhalb von Funktionen verwenden, was es Ihnen ermöglicht, aus einfachen Funktionen schnell komplexere zu schreiben:"
   ]
  },
  {
   "cell_type": "code",
   "execution_count": null,
   "metadata": {},
   "outputs": [],
   "source": [
    "def funktion_1(x):\n",
    "    return x*3\n",
    "\n",
    "def funktion_2(x):\n",
    "    y = funktion_1(x)\n",
    "    z = y +5 \n",
    "    return z\n",
    "\n",
    "funktion_2(0.5)"
   ]
  },
  {
   "cell_type": "markdown",
   "metadata": {},
   "source": [
    "Als Letztes ist zu erwähnen, dass es optionale Inputvariablen gibt. Diese ermöglichen es, die Funktionen besser zu strukturieren:"
   ]
  },
  {
   "cell_type": "code",
   "execution_count": null,
   "metadata": {},
   "outputs": [],
   "source": [
    "def wurzel(x, b=2):\n",
    "    return x**(1/b)\n",
    "\n",
    "wurzel(x=4)"
   ]
  },
  {
   "cell_type": "markdown",
   "metadata": {},
   "source": [
    "Wie Sie sehen können, haben Sie `b` bereits in der Definition der Funktion den Wert `2` zugewiesen. Das heißt, `2` ist der *Standardwert* für `b`. Wenn Sie die Funktion verwenden, ohne `b` zu definieren, wird `b` automatisch gleich zwei gesetzt. Wenn ich aber `b=4` beim Aufruf der Funktion hinzufüge, wird `b=4` in der Funktion verwendet. \n",
    "\n",
    "Die Verwendung von `defaults`, optionalen Variablen, macht die Verwendung von Funktionen einfacher und übersichtlicher:"
   ]
  },
  {
   "cell_type": "code",
   "execution_count": null,
   "metadata": {},
   "outputs": [],
   "source": [
    "wurzel(x=4,b=4)"
   ]
  },
  {
   "cell_type": "markdown",
   "metadata": {},
   "source": [
    "### Local vs. Global\n",
    "\n",
    "Es ist wichtig zu wissen, dass es, wie bereits erwähnt, globale Variablen und lokale Variablen gibt. Lokale Variablen existieren nur innerhalb der Funktion, während globale Variablen im allgemeinen Speicher des Skripts vorhanden sind.\n",
    "\n",
    "Beispiel:\n",
    "\n",
    "Die Funktion `local_global` nimmt als Eingabe `x` und printed `a`. Wir haben zuvor `a` global als `1` gesetzt.\n",
    "Daher ist die Ausgabe der Funktion auch `1`. Das liegt daran, dass wir `a` vorher nicht definiert haben, Python findet keine lokale Variable `a` und greift deswegen auf die globale Variable `a` zurück."
   ]
  },
  {
   "cell_type": "code",
   "execution_count": null,
   "metadata": {},
   "outputs": [],
   "source": [
    "a = 1\n",
    "\n",
    "def local_global(x):\n",
    "    print(a)\n",
    "local_global(x=7)"
   ]
  },
  {
   "cell_type": "markdown",
   "metadata": {},
   "source": [
    "Wir schreiben nun die Funktion so um, dass innerhalb der Funktion die Variable `a` den Wert von `x` erhält."
   ]
  },
  {
   "cell_type": "code",
   "execution_count": null,
   "metadata": {},
   "outputs": [],
   "source": [
    "def local_global(x):\n",
    "    a = x\n",
    "    print(a)\n",
    "    \n",
    "local_global(x=7)"
   ]
  },
  {
   "cell_type": "markdown",
   "metadata": {},
   "source": [
    "Die Funktion gibt nun den Wert `7` für `a` aus. So weit, so gut, aber wenn Sie sich jetzt `a` ansehen, werden Sie feststellen, dass `a` immer noch `1` ist. Denn dieses `a` ist wieder die globale Variable `a`.\n"
   ]
  },
  {
   "cell_type": "code",
   "execution_count": null,
   "metadata": {},
   "outputs": [],
   "source": [
    "a"
   ]
  },
  {
   "cell_type": "markdown",
   "metadata": {},
   "source": [
    "Wie Sie sehen hatte die lokale Veränderung innerhalb der Funktion keinen Einfluss auf die globale Variable. Das heißt, die lokale Variable wird nach Ausführen der Funktion *zerstört*, während die globale Variable weiterhin existiert. Das passiert, obwohl beide Variablen denselben Namen haben.\n",
    "\n",
    "\n",
    "*Grundsätzlich sollten Sie es vermeiden, dass Funktionen auf auf globale Variablen zugreift. Das kann für viel Verwirrung sorgen.*"
   ]
  },
  {
   "cell_type": "markdown",
   "metadata": {},
   "source": [
    "# Aufgaben\n",
    "\n",
    "\n",
    "### 1. Indizieren und Slicen \n",
    "\n",
    "* Geben Sie den String \"Panda\" aus dem `array` `Animals` aus\n",
    "* Geben Sie die ersten beiden Spalten des `arrays` aus\n",
    "* Geben Sie die dritte Zeile des Arrays aus\n",
    "* Geben Sie die vier Tiere in der oberen rechten Ecke des `arrays` aus"
   ]
  },
  {
   "cell_type": "code",
   "execution_count": null,
   "metadata": {},
   "outputs": [],
   "source": [
    "Animals = np.array([\n",
    "['Elefant', 'Schildkröte', 'Papagei', 'Walross', 'Adler'], \n",
    "['Orang-Utan', 'Panda', 'Bär', 'Karpfen', 'Wolf'],\n",
    "['Hyäne', 'Schimpanse', 'Flusspferd', 'Taube', 'Nashorn'],\n",
    "['Löwe', 'Spatz', 'Schaf', 'Wildschwein', 'Gorilla'],\n",
    "['Eisbär', 'Pferd', 'Pinguin', 'Orca', 'Laubfrosch']])\n",
    "\n",
    "# Geben Sie hier die Elemente/Slices aus mit:\n",
    "# print(Animals[...])"
   ]
  },
  {
   "cell_type": "markdown",
   "metadata": {},
   "source": [
    "<details>\n",
    "    <summary><b>Lösung:</b></summary>\n",
    "\n",
    "```python\n",
    "print(Animals[1,1])\n",
    "print(Animals[:, 0:2])\n",
    "print(Animals[2]) # Wenn kein Komma gegeben ist gilt: Zeile zuerst, Spalte später\n",
    "print(Animals[:2,3:])  \n",
    "```   \n",
    "</details>"
   ]
  },
  {
   "cell_type": "markdown",
   "metadata": {},
   "source": [
    "### 2. Celsius zu Fahrenheit\n",
    "Schreiben Sie eine Funktion, die Celsius in Fahrenheit umrechnet. Die Formel dafür lautet $°F= °C \\cdot 1.8 + 32$. <br> Rechnen Sie mit dieser Funktion 25 °C in Fahrenheit um."
   ]
  },
  {
   "cell_type": "code",
   "execution_count": null,
   "metadata": {},
   "outputs": [],
   "source": [
    "def c_to_f(_____):  # Schreiben Sie hier Ihre Funktion"
   ]
  },
  {
   "cell_type": "markdown",
   "metadata": {},
   "source": [
    "<details>\n",
    "    <summary><b>Lösung:</b></summary>\n",
    "\n",
    "```python\n",
    "def c_to_f(celsius):\n",
    "    return celsius*1.8 + 32\n",
    "    \n",
    "print(c_to_f(25))    \n",
    "```   \n",
    "</details>"
   ]
  },
  {
   "cell_type": "markdown",
   "metadata": {},
   "source": [
    "### 3.  List Comprehension\n",
    "\n",
    "Können Sie den folgenden `for-loop` in eine Zeile schreiben?\n"
   ]
  },
  {
   "cell_type": "code",
   "execution_count": null,
   "metadata": {},
   "outputs": [],
   "source": [
    "x = [\"A\", \"B\", \"C\", \"D\"]\n",
    "\n",
    "for item in x:\n",
    "    print(item*3)\n"
   ]
  },
  {
   "cell_type": "code",
   "execution_count": null,
   "metadata": {},
   "outputs": [],
   "source": [
    "# schreiben Sie hier ihre Lösung"
   ]
  },
  {
   "cell_type": "markdown",
   "metadata": {},
   "source": [
    "<details>\n",
    "    <summary><b>Lösung:</b></summary>\n",
    "\n",
    "```python\n",
    "[3*item for item in x]\n",
    "```   \n",
    "</details>"
   ]
  },
  {
   "cell_type": "markdown",
   "metadata": {},
   "source": [
    "Können Sie den folgenden `for-loop` als \"klassichen\" `for-loop` schreiben?"
   ]
  },
  {
   "cell_type": "code",
   "execution_count": null,
   "metadata": {},
   "outputs": [],
   "source": [
    "x = [\"A\", \"B\", \"C\", \"D\"]\n",
    "[item + \"_XY\" for item in x]"
   ]
  },
  {
   "cell_type": "code",
   "execution_count": null,
   "metadata": {},
   "outputs": [],
   "source": [
    "# Schreiben Sie hier Ihre Lösung"
   ]
  },
  {
   "cell_type": "markdown",
   "metadata": {},
   "source": [
    "<details>\n",
    "    <summary><b>Lösung:</b></summary>\n",
    "\n",
    "```python\n",
    "    \n",
    "for item in x:\n",
    "    print(item+\"_XY\")\n",
    "```   \n",
    "</details>"
   ]
  },
  {
   "cell_type": "markdown",
   "metadata": {},
   "source": [
    "### 4. Fibonacci Folge\n",
    "<center><img src=\"https://ichef.bbci.co.uk/images/ic/1200x675/p01gmtz6.jpg\" style=\"width: 600px;\"></center>\n",
    "<h8><center>Quelle: BBC.com </center></h8>\n",
    "\n",
    "Die Fibonacci-Folge ist eine Zahlenreihe, bei der die nächste Zahl die Summe der letzten beiden Zahlen ist:\n",
    " \n",
    " https://de.wikipedia.org/wiki/Fibonacci-Folge\n",
    " \n",
    "Schreiben Sie ein Programm, das die ersten 15 Zahlen der Fibonacci-Folge ausgibt\n",
    " \n",
    "Gegeben ist bereits die Liste 'fib', die die Zahlen '0,1' enthält. Fügt die nächsten Werte zu dieser Liste hinzu.\n",
    " \n",
    "<details>\n",
    "    <summary><b>Tipp 1</b></summary>\n",
    "Sie können <code>.append()</code> verwenden, um Zahlen an Listen anzuhängen\n",
    "</details>\n",
    "\n",
    "<details>\n",
    "<summary><b>Tipp 2</b></summary>\n",
    "    Mit <code>[-1]</code> können Sie das letzte Element einer Liste auswählen.\n",
    "</details>"
   ]
  },
  {
   "cell_type": "code",
   "execution_count": null,
   "metadata": {},
   "outputs": [],
   "source": [
    "fib = [0,1] \n",
    "# hier sollte Ihre Lösung stehen "
   ]
  },
  {
   "cell_type": "markdown",
   "metadata": {},
   "source": [
    "<details>\n",
    "    <summary><b>Lösung:</b></summary>\n",
    "\n",
    "```python\n",
    "for i in range(14):\n",
    "    fib.append(fib[-1]+fib[-2])\n",
    "    print(fib)\n",
    "```\n",
    "</details>"
   ]
  },
  {
   "cell_type": "markdown",
   "metadata": {},
   "source": [
    "### 5. Summe der Matrixdiagonalen\n",
    " \n",
    " \n",
    "Berechnen Sie die Summe der Diagonalen von Matrix A und Matrix B mit einem for-loop.\n",
    "\n",
    "Die Diagonalen einer Matrix sind die Werte, die in der \"Mitte\" einer Matrix liegen. Im Beispiel ist die Diagonale etwas kräftiger markiert. \n",
    "\n",
    "$\\begin{bmatrix}\\textbf{1} & 2 & 3 \\\\\n",
    "4&\\textbf{5}&6\\\\\n",
    "7&8&\\textbf{9}\\end{bmatrix}$\n",
    "\n",
    "In dem Beispiel $1+5+9 =15$.\n",
    "\n",
    "<br>\n",
    "\n",
    "<details>\n",
    "    <summary><b>Tipp 1 </b></summary>\n",
    "    <code>x =x+1</code> addiert 1 zu x\n",
    "</details>\n",
    "\n",
    "\n",
    "<details>\n",
    "<summary><b>Tipp 2</b></summary>\n",
    "    <code>x[0,0]</code> wählt das Element in der ersten Reihe und Spalte aus\n",
    "</details>\n"
   ]
  },
  {
   "cell_type": "code",
   "execution_count": null,
   "metadata": {},
   "outputs": [],
   "source": [
    "A = np.array([\n",
    "    [12,45,13,85],\n",
    "    [11,4,43,23],\n",
    "    [78,22,0.5,65],\n",
    "    [154,11,57,1]])\n",
    "\n",
    "print(A)\n",
    "\n",
    "\n",
    "\n",
    "B = np.array([\n",
    "    [0.96359314, 0.42621368, 0.10821601, 0.6852424 ],\n",
    "    [0.23945833, 0.30840861, 0.25658861, 0.63431993],\n",
    "    [0.16603427, 0.40061208, 0.2790935 , 0.94613278],\n",
    "    [0.89885982, 0.00133547, 0.75911288, 0.56449904]]) # Die Richtige Lösung ist 2.1155942899999998\n",
    "\n",
    "print(\"\\n\", B)"
   ]
  },
  {
   "cell_type": "code",
   "execution_count": null,
   "metadata": {},
   "outputs": [],
   "source": [
    "summe_diag = 0\n",
    "# schreiben Sie hier Ihren Code"
   ]
  },
  {
   "cell_type": "markdown",
   "metadata": {},
   "source": [
    "<details>\n",
    "    <summary><b>Lösung:</b></summary>\n",
    "\n",
    "```python\n",
    "for i in range(4):\n",
    "    summe_diag = summe_diag + A[i,i]\n",
    "print(summe_diag)\n",
    "```\n",
    "</details>"
   ]
  },
  {
   "cell_type": "markdown",
   "metadata": {},
   "source": [
    "# Übungsaufgabe\n",
    "\n",
    "Diese Aufgabe kann von jedem erledigt werden. Allerdings gibt es dafür noch keine Lösung. Dies wird im Labor besprochen.\n",
    "Die Chemiker, die einen Leistungsnachweis brauchen, schicken ihre Lösung mit dem ganzen Heft.\n",
    "\n",
    "Können Sie eine Funktion schreiben, ohne `numpy`, die die Summe der Diagonalen für quadratische Matrizen (gleiche Anzahl von Spalten und Zeilen) beliebiger Größe berechnet? Um die Anzahl der Zeilen einer Matrix zu ermitteln, können Sie `A.shape[0]` verwenden.\n",
    "\n",
    "**Die Funktion darf bis auf** `.shape` **keine anderen Numpy Funktion beinhalten!**\n",
    "\n",
    "Die Funktion kann an der Matrix A und B ausprobiert werden.\n",
    "\n",
    "Bitte geben Sie das komplette Notebook ab!\n"
   ]
  },
  {
   "cell_type": "code",
   "execution_count": null,
   "metadata": {},
   "outputs": [],
   "source": [
    "A=np.array([[0.5193, 0.1647, 0.373 , 0.1358, 0.8894, 0.7439, 0.4519, 0.2094,\n",
    "        0.4921, 0.0128, 0.4289, 0.5378, 0.4515, 0.6876, 0.5937],\n",
    "       [0.6018, 0.8242, 0.3926, 0.6591, 0.5134, 0.6065, 0.9881, 0.3841,\n",
    "        0.819 , 0.6716, 0.4225, 0.7546, 0.9525, 0.9048, 0.7034],\n",
    "       [0.7289, 0.7999, 0.3033, 0.4591, 0.1918, 0.7663, 0.9638, 0.7665,\n",
    "        0.5774, 0.7184, 0.9293, 0.0913, 0.0071, 0.989 , 0.6825],\n",
    "       [0.4759, 0.3783, 0.4923, 0.7622, 0.8149, 0.9381, 0.6649, 0.8443,\n",
    "        0.5408, 0.1885, 0.8533, 0.5403, 0.2167, 0.7192, 0.0259],\n",
    "       [0.8154, 0.1398, 0.8851, 0.2447, 0.8609, 0.1983, 0.3468, 0.5203,\n",
    "        0.5189, 0.3498, 0.3812, 0.3807, 0.209 , 0.2887, 0.1896],\n",
    "       [0.6525, 0.4192, 0.0356, 0.3995, 0.3648, 0.7127, 0.275 , 0.2705,\n",
    "        0.4698, 0.6706, 0.5039, 0.1286, 0.0693, 0.9826, 0.6088],\n",
    "       [0.5758, 0.4875, 0.6286, 0.9947, 0.0188, 0.8688, 0.9532, 0.498 ,\n",
    "        0.3713, 0.2585, 0.2112, 0.0812, 0.2677, 0.4038, 0.3395],\n",
    "       [0.0261, 0.5817, 0.9681, 0.7922, 0.592 , 0.8935, 0.4938, 0.8571,\n",
    "        0.279 , 0.0495, 0.549 , 0.2601, 0.348 , 0.6418, 0.8063],\n",
    "       [0.1303, 0.7674, 0.4345, 0.7768, 0.9407, 0.5074, 0.4774, 0.6019,\n",
    "        0.1217, 0.3217, 0.9664, 0.2278, 0.5141, 0.7489, 0.8304],\n",
    "       [0.1496, 0.0037, 0.3978, 0.8104, 0.5294, 0.337 , 0.3625, 0.3798,\n",
    "        0.8974, 0.3587, 0.1965, 0.9226, 0.2652, 0.1309, 0.7748],\n",
    "       [0.9205, 0.6545, 0.6991, 0.6209, 0.1958, 0.2015, 0.8984, 0.2911,\n",
    "        0.7079, 0.8424, 0.9334, 0.2488, 0.3616, 0.8357, 0.657 ],\n",
    "       [0.788 , 0.046 , 0.3151, 0.6779, 0.4671, 0.5347, 0.3059, 0.1771,\n",
    "        0.3986, 0.3657, 0.7061, 0.2225, 0.254 , 0.3257, 0.4043],\n",
    "       [0.9722, 0.2203, 0.11  , 0.3706, 0.1451, 0.8802, 0.0651, 0.098 ,\n",
    "        0.8599, 0.0832, 0.8898, 0.4826, 0.5435, 0.1672, 0.8508],\n",
    "       [0.857 , 0.6562, 0.6943, 0.2193, 0.3398, 0.8404, 0.0348, 0.4491,\n",
    "        0.8173, 0.8593, 0.1258, 0.2229, 0.925 , 0.2908, 0.0155],\n",
    "       [0.9227, 0.9373, 0.5116, 0.0711, 0.5547, 0.4867, 0.3199, 0.5271,\n",
    "        0.3406, 0.6261, 0.1969, 0.0792, 0.9261, 0.3449, 0.1132]])\n",
    "\n",
    "B = np.array([[-0.081,  0.549, -0.351,  1.037,  0.48 , -0.187, -1.148,  0.576],\n",
    "              [-0.124, -0.059,  0.705,  0.577,  0.67 ,  1.307,  1.408, -1.136],\n",
    "              [-0.175, -0.263,  2.828, -0.89 , -1.159,  1.195, -1.265, -0.364],\n",
    "              [-0.416, -0.665,  1.646,  0.107,  0.221, -0.439,  1.114,  0.269],\n",
    "              [-0.244, -1.125,  1.05 ,  0.467,  0.297, -1.377, -0.113, -2.072],\n",
    "              [-0.761, -0.691, -0.811, -1.051, -2.077,  0.25 ,  0.432, -0.314],\n",
    "              [ 2.375, -1.981, -0.264,  1.477, -0.631, -0.566,  0.32 ,  0.305],\n",
    "              [ 0.328,  1.811,  0.585,  0.818,  0.771,  0.208, -0.914, -0.374]])"
   ]
  },
  {
   "cell_type": "code",
   "execution_count": null,
   "metadata": {},
   "outputs": [],
   "source": [
    "# hier könnte Ihre Funktion stehen"
   ]
  },
  {
   "cell_type": "markdown",
   "metadata": {},
   "source": [
    "Natürlich enthält `numpy` auch Funktionen für solche Probleme. So gibt es die Möglichkeit, `np.sum(np.diag(A))` zu benutzen, um die Summe zu berechnen. Hier wählt `np.diag` die Elemente der Diagonalen aus und `np.sum` summiert sie. `numpy` hat viele Funktionen. Wenn Sie einmal nicht wissen, was eine Funktion macht, können Sie `help()` benutzen, um die sogenannte Dokumentation zu öffnen. Die Dokumentation enthält Information zu jeder Funktion. Zum Beispiel die benötigten Inputs und Outputs."
   ]
  },
  {
   "cell_type": "code",
   "execution_count": null,
   "metadata": {},
   "outputs": [],
   "source": [
    "help(np.sum)"
   ]
  },
  {
   "cell_type": "markdown",
   "metadata": {},
   "source": [
    "Es werden Beispiele gegeben und jede Eingabevariable wird beschrieben. `np.sum()` benötigt immer ein `array`, für das es die Summe berechnen kann. Aber alle anderen Variablen müssen nicht definiert werden, da sie einen Standardwert haben.\n",
    "\n",
    "Wenn Sie nicht sicher sind, was eine Funktion tut, können Sie `help()` verwenden. Leider hat nicht jede Bibliothek eine so gute Dokumentation wie `numpy`."
   ]
  }
 ],
 "metadata": {
  "interpreter": {
   "hash": "b2063f454e5583264956edca724ed174a35400d49c5baf96fcf9ea99fcd5830b"
  },
  "kernelspec": {
   "display_name": "Python 3 (ipykernel)",
   "language": "python",
   "name": "python3"
  },
  "language_info": {
   "codemirror_mode": {
    "name": "ipython",
    "version": 3
   },
   "file_extension": ".py",
   "mimetype": "text/x-python",
   "name": "python",
   "nbconvert_exporter": "python",
   "pygments_lexer": "ipython3",
   "version": "3.10.5"
  },
  "toc-autonumbering": false,
  "toc-showcode": true,
  "toc-showmarkdowntxt": true
 },
 "nbformat": 4,
 "nbformat_minor": 4
}
