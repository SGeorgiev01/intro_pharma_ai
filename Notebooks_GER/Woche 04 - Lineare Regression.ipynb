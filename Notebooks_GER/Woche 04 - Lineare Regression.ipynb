{
 "cells": [
  {
   "cell_type": "markdown",
   "id": "15ea51ee",
   "metadata": {},
   "source": [
    "# Einführung Statistik\n",
    "\n",
    "Heute wollen wir uns mit ein paar Grundlagen der Statistik befassen.\n",
    "Statistik kann uns helfen, Daten auf einfache Weise zu beschreiben und zu erklären. \n",
    "\n",
    "---\n",
    "\n",
    "### Lernziele\n",
    "* Mittelwert, Varianz und Standardabweichung in Python berechnen.\n",
    "* Den Unterschied zwischen einer Regression und einer Klassifikation verstehen.\n",
    "* Sie verstehen die Funktion einer linearen Regression und die Bedeutung ihrer Koeffizienten.\n",
    "* Sie verstehen den *Mean Squared Error* und die Lossfunktion.\n",
    "* Sie wissen was eine logistische Regression und wie sie mit der linearen Regression zusammenhängt.\n",
    "* Sie wissen was der Binary Cross Entropy Loss aussagt und können verschiedene Metriken, wie die Accuracy und ROC-AUC, erklären.\n",
    "---"
   ]
  },
  {
   "cell_type": "code",
   "execution_count": null,
   "id": "2f0f8215",
   "metadata": {},
   "outputs": [],
   "source": [
    "import numpy as np\n",
    "from random import shuffle\n",
    "import pandas as pd\n",
    "%matplotlib inline\n",
    "np.set_printoptions(suppress=True)"
   ]
  },
  {
   "cell_type": "markdown",
   "id": "638fc527",
   "metadata": {},
   "source": [
    "Wir können uns zum Beispiel die Abiturnoten einer bestimmten Klasse ansehen:"
   ]
  },
  {
   "cell_type": "code",
   "execution_count": null,
   "id": "f341d3d4",
   "metadata": {},
   "outputs": [],
   "source": [
    "abi_klasse = [1.64, 2.35, 1.88, 2.48, 2.16, 3.92, 2.16, 2. , 1.76, 2.82, 1.81,\n",
    "              2.59, 3.03, 1.7 , 2.87, 3.21, 2.65, 1.97, 1.2, 1.67, 1.77, 1.98,\n",
    "              3.4 , 1.31, 1.72, 2.05, 1.12, 1.56, 2.01, 2.1 ]"
   ]
  },
  {
   "cell_type": "markdown",
   "id": "50d2ef96",
   "metadata": {},
   "source": [
    "Es ist jedoch sehr schwierig, sich nur mit Hilfe der Daten einen Überblick zu verschaffen.\n",
    "Es ist einfacher, sich die Noten aufzuzeichnen.\n",
    "\n",
    "\n",
    "<img src='Img/intro_stats/noten_1.png'></img>\n",
    "\n",
    "Obwohl Sie nun einen besseren Überblick haben, kann es schwierig sein, zwei Klassen zu vergleichen.\n",
    "\n",
    "<img src='Img/intro_stats/noten2.1.png'></img>\n",
    "\n",
    "Wir können *density plots* verwenden, um die Verteilung einfach darzustellen. Hier wird die y-Achse verwendet, um die Dichte darzustellen. Das heißt, je höher die Kurve an einem Punkt ist, desto mehr Datenpunkte befinden sich an diesem Punkt.\n",
    "\n",
    "<img src='Img/intro_stats/noten_3.1.png'></img>\n",
    "Oft reicht eine rein visuelle Betrachtung nicht aus, um eindeutige Entscheidungen zu treffen.\n",
    "Hierfür werden Metriken benötigt, die die Verteilung der Datenpunkte beschreiben, wie z. B. die Abinoten.\n",
    "\n",
    "Am bekanntesten ist wohl der Mittelwert, genauer gesagt das arithmetische Mittel. Es beschreibt den Durchschnitt einer Verteilung von Datenpunkten. \n",
    "Und um das arithmetische Mittel zu berechnen, wird die Summe aller Werte durch die Anzahl der Werte geteilt.\n",
    "\n",
    "\n",
    "$$\\bar{x} = \\frac{1}{n}\\sum_{i=1}^n x_i$$\n",
    "\n",
    "Der Mittelwert wird oft mit $\\bar{x}$ bezeichnet.\n",
    "Berechnen Sie das arithmetische Mittel in Python für die Abiklasse. *Ohne Numpy zu verwenden*."
   ]
  },
  {
   "cell_type": "code",
   "execution_count": null,
   "id": "3d65389e",
   "metadata": {
    "scrolled": true
   },
   "outputs": [],
   "source": [
    "mean_abiklasse = _____________# Formel für den Mittelwert\n",
    "mean_abiklasse"
   ]
  },
  {
   "cell_type": "markdown",
   "id": "51184c89",
   "metadata": {},
   "source": [
    "<details>\n",
    "<summary><b>Lösung:</b></summary>\n",
    "    \n",
    "```python \n",
    "mean_abiklasse = sum(abi_klasse)/len(abi_klasse)\n",
    "```\n",
    "</details>"
   ]
  },
  {
   "cell_type": "markdown",
   "id": "7298d92b",
   "metadata": {},
   "source": [
    "Der Mittelwert reicht jedoch nicht aus, um eine Verteilung von Werten angemessen zu beschreiben. Die beiden [Normalverteilungen](https://de.statista.com/statistik/lexikon/definition/95/normalverteilung/) haben im Beispiel den gleichen Mittelwert und sind dennoch nicht identisch verteilt. \n",
    "<img src='Img/intro_stats/noten_3.png'></img>\n",
    "\n",
    "Wir können sehen, dass die rote Verteilung viel enger ist als die schwarze. Das heißt, die Werte der roten Gruppe liegen näher an ihrem Mittelwert als die der schwarzen Gruppe.\n",
    "\n",
    "Die Breite einer Verteilung wird durch die Varianz gemessen. Die Varianz misst den durchschnittlichen Abstand der Werte zu ihrem Mittelwert. \n",
    "Die Varianz ($s^2$) wird wie folgt berechnet:\n",
    "\n",
    "$$s^2 = \\frac{1}{n}\\sum_{i=1}^n(x_i-\\bar{x})^2$$\n",
    "\n",
    "Man beachte, dass nicht die Differenz ($x_i-\\bar{x}$) summiert wird, sondern das Quadrat ($x_i -\\bar{x})^2$ der Differenz. Größere Abstände haben also einen größeren Einfluss auf die Varianz. \n",
    "\n",
    "Berechnen Sie die Varianz der `abi_klasse`:"
   ]
  },
  {
   "cell_type": "code",
   "execution_count": null,
   "id": "b1fed6c2",
   "metadata": {},
   "outputs": [],
   "source": [
    "quadrate = 0\n",
    "for x in abi_klasse:\n",
    "    quadrate = quadrate +((_____-______)**___)\n",
    "varianz_abiklasse = quadrate/len(______) \n",
    "varianz_abiklasse"
   ]
  },
  {
   "cell_type": "markdown",
   "id": "13096a79",
   "metadata": {},
   "source": [
    "<details>\n",
    "<summary><b>Lösung:</b></summary>\n",
    "\n",
    "    \n",
    "```python\n",
    "for x in abi_klasse:\n",
    "    quadrate = quadrate +((x-mean_abiklasse)**2)\n",
    "varianz_abiklasse = quadrate/len(abi_klasse)     \n",
    "```\n",
    "</details>    "
   ]
  },
  {
   "cell_type": "markdown",
   "id": "2b1e1560",
   "metadata": {},
   "source": [
    "\n",
    "<details>\n",
    "<summary><b>Lösung: mit list comprehension</b></summary>\n",
    "\n",
    "```python\n",
    "sum([(x - mean_abiklasse)**2 for x in abi_klasse])/(len(abi_klasse))\n",
    "```    \n",
    "</details>   "
   ]
  },
  {
   "cell_type": "markdown",
   "id": "0ee60bb4",
   "metadata": {},
   "source": [
    "Statt der Varianz wird häufig die Standardabweichung als Maß für die *Breite* einer Verteilung verwendet. Die Standardabweichung erhält man, indem man die Wurzel aus der Varianz zieht. Dadurch wird das Maß der Varianz auf die Skala der ursprünglichen Verteilung gebracht."
   ]
  },
  {
   "cell_type": "code",
   "execution_count": null,
   "id": "7b600bc6",
   "metadata": {},
   "outputs": [],
   "source": [
    "std_abiklasse = __________ # Berechnen Sie die Standardabweichung\n",
    "std_abiklasse "
   ]
  },
  {
   "cell_type": "markdown",
   "id": "7cced209",
   "metadata": {},
   "source": [
    "<details>\n",
    "<summary><b>Lösung:</b></summary>\n",
    "    \n",
    "```python\n",
    "std_abiklasse= varianz_abiklasse**(0.5)\n",
    "```\n",
    "</details>    "
   ]
  },
  {
   "cell_type": "markdown",
   "id": "02d260ec",
   "metadata": {},
   "source": [
    "Natürlich gibt es alle Funktionen auch schon in `numpy`: `np.mean()`, `np.std()`, `np.var()`"
   ]
  },
  {
   "cell_type": "code",
   "execution_count": null,
   "id": "f2e3ffde",
   "metadata": {},
   "outputs": [],
   "source": [
    "import numpy as np\n",
    "print(\"Mittelwert: \", np.mean(abi_klasse))\n",
    "print(\"Varianz: \", np.var(abi_klasse))\n",
    "print(\"Standard Abweichung: \", np.std(abi_klasse))\n"
   ]
  },
  {
   "cell_type": "markdown",
   "id": "2736acf0",
   "metadata": {},
   "source": [
    "Mit dem Maß der Varianz/Standard Abweichung und dem Mittelwert können wir bereits einige Verteilungen beschreiben. Natürlich nicht alle, z.B. bei multimodalen Verteilungen würde man noch mehr Informationen benötigen. \n",
    "\n",
    "<img src='Img/intro_stats/noten_4.png'></img>\n",
    "\n",
    "## Inferentielle Statistik \n",
    "\n",
    "Wir wollen jedoch nicht immer nur Daten beschreiben, sondern auch Informationen aus diesen Daten gewinnen. Mit Hilfe der Korrelation können wir zum Beispiel das Verhältnis von Größe zu Gewicht beschreiben. Je größer ein Mensch ist, desto schwerer ist er. Dieses Modell ist natürlich nicht perfekt, das Körpergewicht ist natürlich nicht nur von der Körpergröße abhängig. Es gibt es große leichte Menschen und kleine schwere. Aber es existiert eine grundlegende Tendenz.  \n",
    "\n",
    "<table><tr>\n",
    "<td> <img src='Img/intro_stats/reg_1.png' alt=\"Drawing\" style=\"width: 250px;\"/> </td>\n",
    "<td> <img src='Img/intro_stats/reg_2.png' alt=\"Drawing\" style=\"width: 250px;\"/> </td>\n",
    "</tr></table>\n",
    "\n",
    "<br>\n",
    "<br>\n",
    "\n",
    "**Wir können die Beziehung mit einer linearen Regression beschreiben.**\n",
    "Die Geradengleichung $y = mx+t$ (oder $y = ax+b$) kennen Sie vielleicht noch aus der Schule. \n",
    "\n",
    "<br>\n",
    "\n",
    "\n",
    "\n",
    "- $x$ ist die Eingangsvariable, in unserem Fall die Körpergröße\n",
    "- $y$ ist die Variable, die es zu vorhersagen gilt (Körpergewicht)\n",
    "- $m$ beschreibt die Steigung der Geraden\n",
    "- $t$ bezeichnet den y-Achsenabschnitt, den Wert von $y$ bei $x=0$\n",
    "\n",
    "<img src='Img/intro_stats/reg_3.png' alt=\"Drawing\" width=\"500\"/>\n",
    "\n",
    "Angenommen, die Gleichung der Regressionsgeraden wäre $y=0,3x+21$, dann würde für das \n",
    "Beispiel das Gewicht einer Person mit einer Körpergröße von 180 cm 75 kg betragen \n",
    "($0,3\\cdot180+21)$.Der Wert für $m$ ($0,3$) gibt an, um wie viel $y$ zunimmt, wenn $x$ um 1 zunimmt.\n",
    "Laut dem Modell nimmt also das Körpergewicht einer Person um 0,3 kg zu, wenn die Körpergrößer sich um 1 cm erhöht. \n",
    "\n",
    "Der Wert für $t$ gibt an, wie viel eine Person wiegt, die 0 cm groß ist ($x=0$). Im Falle der Körpergröße macht es wenig Sinn, den Wert für $t$ zu interpretieren. Nehmen wir aber an, wir schätzen den Wert eines Hauses auf der Grundlage der Größe der Terrasse. Der Wert für $t$ gibt den Wert eines Hauses an, wenn die Größe der Terrasse $0$ beträgt. Der Wert eines Hauses ohne Terrasse ist also $t$.\n",
    "\n",
    "Zurück zum eigentlichen Beispiel: \n",
    "\n",
    "Natürlich wiegt nicht jeder 180 cm große Mensch 66 kg. Dies ist nur der vorhergesagte Wert \n",
    "unserer Regressionsgleichung. Um dies deutlich zu machen, schreiben wir $\\hat{y}$ anstelle von $y$.\n",
    "Damit wird die Geradengleichung $\\hat{y}=mx+t$.\n",
    "\n",
    "---\n",
    "\n",
    "Schreiben Sie eine Funktion, die das Gewicht anhand der oben beschriebenen Geradengleichung berechnet.\n",
    "\n"
   ]
  },
  {
   "cell_type": "code",
   "execution_count": null,
   "id": "f4aaff79",
   "metadata": {},
   "outputs": [],
   "source": [
    "def reg(x,m,t):\n",
    "    _________# Was soll diese Funktion ausgeben?"
   ]
  },
  {
   "cell_type": "markdown",
   "id": "d6b2bf06",
   "metadata": {},
   "source": [
    "<details>\n",
    "<summary><b>Lösung:</b></summary>\n",
    "    \n",
    "```python\n",
    "def reg(x,m,t):\n",
    "    return m*x+t\n",
    "```\n",
    "</details>    \n"
   ]
  },
  {
   "cell_type": "markdown",
   "id": "b8686128",
   "metadata": {},
   "source": [
    "Die Variable `x` enthält die Körpergrößen in cm von 5 Personen. Berechne für diese fünf Personen das Gewicht mit Hilfe der Funktion `reg`. "
   ]
  },
  {
   "cell_type": "code",
   "execution_count": null,
   "id": "ae3bc88f",
   "metadata": {},
   "outputs": [],
   "source": [
    "x = [182,167,198,132,178]\n",
    "y_hat = [reg(__,__,__) for ___ in _____ ]\n",
    "y_hat"
   ]
  },
  {
   "cell_type": "markdown",
   "id": "7c149f7e",
   "metadata": {},
   "source": [
    "<details>\n",
    "<summary><b>Lösung:</b></summary>\n",
    "    \n",
    "```python\n",
    "y_hat = [reg(groesse,0.3,21) for groesse in x ]\n",
    "```\n",
    "</details>    "
   ]
  },
  {
   "cell_type": "markdown",
   "id": "159fe697",
   "metadata": {},
   "source": [
    "Wie bereits erwähnt, sind die Werte nur eine Schätzung des Gewichts und weichen vom tatsächlichen Gewicht der Person ab. Um zu beurteilen, wie gut unser Modell das Gewicht bestimmen kann, benötigen wir auch das tatsächlich gemessene Gewicht der Personen. Diese sind in `y` gegeben. Wir können zum Beispiel die Differenz zwischen `y_hat` und `y` berechnen. Dazu müssen wir aber zunächst die Listen in `numpy`-Arrays umwandeln:"
   ]
  },
  {
   "cell_type": "code",
   "execution_count": null,
   "id": "3b8992c7",
   "metadata": {},
   "outputs": [],
   "source": [
    "y = np.array([78.2,68.3, 81.0,64.3, 70.1 ])\n",
    "y_hat = np.array(y_hat)\n",
    "residual = y - ___ # was ziehen wir von y ab?\n",
    "residual"
   ]
  },
  {
   "cell_type": "markdown",
   "id": "513ba41c",
   "metadata": {},
   "source": [
    "Diese Differenz zwischen dem tatsächlichen und dem vorhergesagten Wert ($y - \\hat{y}$) wird auch als Residuum bezeichnet. Als Symbol für das Residuum wird meist das kleine Epsilon ($\\epsilon$) verwendet, mit dem die Größe des Fehlers (**E**rror) der Vorhersage gemessen wird. \n",
    "\n",
    "<img src='Img/intro_stats/reg_4.png' alt=\"Drawing\" width=\"500\"/>\n",
    "\n",
    "Um zum Beispiel abzuschätzen, wie gut ein Modell insgesamt ist, könnten wir einfach die Residuen summieren."
   ]
  },
  {
   "cell_type": "code",
   "execution_count": null,
   "id": "c6c0fd96",
   "metadata": {},
   "outputs": [],
   "source": [
    "sum(residual)"
   ]
  },
  {
   "cell_type": "markdown",
   "id": "c98b38c1",
   "metadata": {},
   "source": [
    "Wie Sie sehen können, liegt der Wert sehr nahe bei Null. Eigentlich ein sehr kleiner Fehler. Das Problem ist jedoch, dass die Residuen sowohl positiv als auch negativ sein können. Das heißt, wenn man sie zusammenzählt, heben sie sich gegenseitig auf. Sie werden immer Werte nahe Null erhalten. Um dies zu vermeiden, summieren wir nicht die Residuen, sondern, wie bei der Varianz, die Quadrate der Residuen. $$\\sum_{i=1}^{n}(y_i-\\hat{y}_i)^2$$ \n",
    "\n",
    "Die Summe allein würde jedoch dazu führen, dass Modelle mit mehr Datenpunkten, d. h. mit einem größeren $n$, automatisch größere Fehlersummen aufweisen. Daher nehmen wir statt der Summe den Mittelwert der Quadrate: $\\frac{1}{n}\\sum_{i=1}^{n}(y_-\\hat{y}_i)^2$. Dieser Wert, der als *Mean Squared Error* (MSE) bezeichnet wird, ist nützlich, um die Güte der Vorhersagen zu beurteilen. Wenn ein Modell einen kleinen MSE aufweist, kann man daraus schließen, dass die Residuen klein sein müssen, d. h. die Unterschiede zwischen den vorhergesagten und den wahren Werten sind gering. \n",
    "\n",
    "Wie bei der Varianz und der Standardabweichung gibt es auch den mittleren quadratischen Fehler (Root Mean Squared Error, RMSE). Wie Sie sich denken können, wird dafür einfach die Wurzel aus dem MSE genommen. Schreiben Sie eine Funktion, die den RMSE berechnen kann. Sie könne `numpy` verwenden, d.h. Sie brauchen keinen `for-loop`."
   ]
  },
  {
   "cell_type": "code",
   "execution_count": null,
   "id": "948f5933",
   "metadata": {},
   "outputs": [],
   "source": [
    "def RMSE(y,y_hat):\n",
    "   MSE = np.sum(__________________) /len(_____) # Hier wird der MSE berechnet, \n",
    "   return ___________ # Wir wollen nicht den MSE, sonder den RMSE. Konvertieren Sie den MSE zum RMSE\n",
    "RMSE(y, y_hat)    "
   ]
  },
  {
   "cell_type": "markdown",
   "id": "a0dc5e49",
   "metadata": {},
   "source": [
    "<details>\n",
    "<summary><b>Lösung:</b></summary>\n",
    "    \n",
    "```python\n",
    "def RMSE(y,y_hat):\n",
    "   MSE = np.sum((y-y_hat)**2)/len(y)\n",
    "   return np.sqrt(MSE) \n",
    "```\n",
    "</details>    "
   ]
  },
  {
   "cell_type": "markdown",
   "id": "0f85247a",
   "metadata": {},
   "source": [
    "Beim maschinellen Lernen oder im Bereich der Optimierung im Allgemeinen werden Funktionen wie der RMSE auch als Lossfunktionen bezeichnet. Sie messen, wie gut ein Modell, bzw. dessen Parameter, zu den Daten passt. Den durch die Lossfunktion berechnete Loss gilt es zu minimieren. "
   ]
  },
  {
   "cell_type": "markdown",
   "id": "cc9d1020",
   "metadata": {},
   "source": [
    "## Beispiel\n",
    "\n",
    "Bisher hat man Ihnen immer die Parameter `m` und `t` vorgegeben. In Wirklichkeit müssen Sie diese selbst berechnen. Im folgenden Beispiel beschäftigen wir uns mit der Vorhersage des Siedepunkts. Dazu verwenden wir einen Datensatz des amerikanischen *National Institute of Standards and Technology*. In dem Datensatz sind die Siedetemperaturen für 72 einfache Alkohole erfasst. Zusätzlich ist das Molekulargewicht und die Anzahl der Kohlenstoffe angegeben. \n",
    "Der Datensatz befindet sich in dem Ordner `../data/boilingpoints/`."
   ]
  },
  {
   "cell_type": "code",
   "execution_count": null,
   "id": "0c5950f1",
   "metadata": {},
   "outputs": [],
   "source": [
    "data = pd.read_csv('https://uni-muenster.sciebo.de/s/qGVs59xsnWKKuIf/download').values\n",
    "print(\"Größe der Daten: \",data.shape)\n",
    "data[:10,:] "
   ]
  },
  {
   "cell_type": "markdown",
   "id": "82929aaf",
   "metadata": {},
   "source": [
    "Der Datensatz besteht aus 72 Zeilen und drei Spalten. Jede Zeile steht für einen Alkohol und die drei Spalten enthalten Information für einer der drei Deskriptoren. Die erste Spalte enthält die Siedepunkte, die zweite das Molekulargewicht und die dritte Spalte die Anzahl der Kohlenstoffe. \n",
    "\n",
    "Unser Ziel ist es, den Siedepunkt anhand des Molekulargewichts vorherzusagen.\n",
    "Zunächst speichern wir die erste Spalte (Siedepunkte) in der Variablen `y` und die zweite Spalte in der Variablen `x`."
   ]
  },
  {
   "cell_type": "code",
   "execution_count": null,
   "id": "f4ea9607",
   "metadata": {},
   "outputs": [],
   "source": [
    "y = data[:,0] # y ist unsere zu vorhersagende Variable (Siedepunkte)\n",
    "x = data[:,1:2] # Wir könnten auch data[:,1] benutzen, verhält sich aber leicht anders."
   ]
  },
  {
   "cell_type": "code",
   "execution_count": null,
   "id": "bf928bdb",
   "metadata": {},
   "outputs": [],
   "source": [
    "print(data[:5,1])\n",
    "print(data[:5,1:2])"
   ]
  },
  {
   "cell_type": "markdown",
   "id": "db39e7be",
   "metadata": {},
   "source": [
    "Sie sehen, dass wir in dem Beispiel dieselben Werte auswählen, aber in der ersten Variante reduzieren wir die Spalte auf ein 1-dimensionales Array der Größe `(72)`. Also ein Vektor der Länge 72. Einige der Funktionen, die für eine lineare Regression notwendig sind, erwarten, dass unsere Variable `x` in Form eines 2-dimensionalen Arrays vorliegt. Deshalb wählen wir die Spalte mit `data[:,1:2]` aus. Dadruch behalten wir die 2D-Struktur des `arrays` bei.\n",
    "\n",
    "Man kann die Daten auch plotten, dazu benutzen wir die Bibliothek `matplotlib`. Mit der Funktion `plt.plot()` kann man schnell einfache Diagramme erstellen. Hier muss man nur angeben, welche Werte auf die x-Achse gehören (erste Position in der Funktion), dann angeben, was auf die y-Achse gehört (zweite Position). Schließlich können Sie noch angeben, ob die einzelnen Werte als Punkt `\"o\"` oder verbunden mit einer Linie `\"-\"` gezeichnet werden sollen."
   ]
  },
  {
   "cell_type": "code",
   "execution_count": null,
   "id": "ac9c9a71",
   "metadata": {},
   "outputs": [],
   "source": [
    "from matplotlib import pyplot as plt\n",
    "plt.plot(x, y, \"o\")"
   ]
  },
  {
   "cell_type": "markdown",
   "id": "33b11bc2",
   "metadata": {},
   "source": [
    "Es ist deutlich zu erkennen, dass mit zunehmendem Gewicht auch der Siedepunkt der Alkohole steigt. \n",
    "\n",
    "In der nächsten Zelle berechnen wir die linearen Regressionsparameter, die zu den Daten passen. \n",
    "Hierfür benötigen wir die Python-Bibliothek `sklearn`, die viele Funktionen für statistische Analysen und maschinelles Lernen bietet.\n",
    "\n",
    "Unabhängig davon, welches `sklearn`-Modell man verwenden möchte, bleibt die allgemeine Struktur die gleiche. \n",
    "Zunächst muss der Typ des Modells definiert werden.\n",
    "Mit `model = LinearRegression()` wird Python angewiesen, ein lineares Regressionsmodell zu erstellen.\n",
    "\n",
    "Als Nächstes muss das Modell auf die Daten `(x,y)` *zugepasst* werden. Dies geschieht mit der Anweisung `model.fit(x,y)`. Dieser Schritt führt zur Berechnung der Regressionsparameter.\n",
    "\n",
    "Die geschätzen Parameter erhalten wir über `model.coef_[0]` für die Steigung (`m`) und `model.intercept_` für den y-Achsenabschnitt (`t`).\n"
   ]
  },
  {
   "cell_type": "code",
   "execution_count": null,
   "id": "28e80719",
   "metadata": {},
   "outputs": [],
   "source": [
    "from sklearn.linear_model import LinearRegression\n",
    "model = LinearRegression()\n",
    "model.fit(x,y) # berechnet die Regressions Gerade\n",
    "m = model.coef_[0] # Wir können m und t aus model() erhalten.\n",
    "t = model.intercept_\n",
    "\n",
    "print(m,t)"
   ]
  },
  {
   "cell_type": "markdown",
   "id": "050c492f",
   "metadata": {},
   "source": [
    "Berechnen Sie mit den Parametern `y_hat` und dann den RMSE. Da wir jetzt `np.arrays` verwenden, ist kein `for-loop` erforderlich.\n"
   ]
  },
  {
   "cell_type": "code",
   "execution_count": null,
   "id": "3241c543",
   "metadata": {
    "scrolled": false
   },
   "outputs": [],
   "source": [
    "y_hat = reg(data[:,1], ___ , ____)\n",
    "RMSE(y, ____) "
   ]
  },
  {
   "cell_type": "markdown",
   "id": "23515937",
   "metadata": {},
   "source": [
    "<details>\n",
    "<summary><b>Lösung:</b></summary>\n",
    "    \n",
    "```python\n",
    "y_hat = reg(data[:,1], m , t)\n",
    "RMSE(y, y_hat) \n",
    "```\n",
    "</details>    "
   ]
  },
  {
   "cell_type": "markdown",
   "id": "b17e471b",
   "metadata": {},
   "source": [
    "Können Sie andere Werte für \"m\" und \"t\" finden, die zu einem niedrigeren RMSE führen?  "
   ]
  },
  {
   "cell_type": "code",
   "execution_count": null,
   "id": "7a8fd581",
   "metadata": {},
   "outputs": [],
   "source": [
    "y_hat = reg(data[:,1], ____  ,  _____  )\n",
    "RMSE(y, y_hat) "
   ]
  },
  {
   "cell_type": "markdown",
   "id": "9e223d0d",
   "metadata": {},
   "source": [
    "Tatsächlich funktioniert dies nicht. Wenn wir von einer linearen Regression sprechen, meinen wir meist eine *ordinary least-square*-Regression. Wie der Name schon sagt, minimiert diese Regression die Quadrate, also den Fehler der Regressionsgeraden. Das heißt, die Regressionslinie ist die optimale Linie, die für diesen Datensatz gefunden werden kann. Mit anderen Worten: Eine OLS-Regressionslinie minimiert den (R)MSE.\n",
    "\n",
    "## Multiple Regression\n",
    "\n",
    "Die lineare Regression kann auch mit mehr als einer $x$-Variablen durchgeführt werden. Die Formel erweitert sich zu:\n",
    "\n",
    "$$\\hat{y}= \\beta_0 +\\beta_1x_1 +\\beta_2x_2$$\n",
    "\n",
    "Im Allgemeinen hat sich die Schreibweise mit $\\beta$ durchgesetzt. Dabei steht $\\beta_0$ für das $t$ und $\\beta_1$ für den zur ersten Input $x_1$ gehörenden Regressionskoeffizienten.\n",
    "\n",
    "An der Interpretation dieser Koeffizienten ändert sich jedoch nichts.\n",
    "\n",
    "Wir können sowohl die Anzahl der Kohlenstoffe als auch das Gewicht verwenden, um die Siedepunkte vorherzusagen.\n",
    "\n",
    "Damit dies funktioniert, müssen Sie zunächst nicht nur die zweite, sondern auch die dritte Spalte von `data` in `x` auswählen:"
   ]
  },
  {
   "cell_type": "code",
   "execution_count": null,
   "id": "224f758e",
   "metadata": {},
   "outputs": [],
   "source": [
    "x = data[:,1: ___ ] # Welche Spalten nehmen Sie mit nach x\n",
    "x"
   ]
  },
  {
   "cell_type": "markdown",
   "id": "5a747595",
   "metadata": {},
   "source": [
    "<details>\n",
    "<summary><b>Lösung:</b></summary>\n",
    "    \n",
    "```python\n",
    "x = data[:,1:3]\n",
    "```\n",
    "</details>    "
   ]
  },
  {
   "cell_type": "markdown",
   "id": "8b76db29",
   "metadata": {},
   "source": [
    "Sie können jetzt die Regressionskoeffizienten wieder mit `LinearRegression` schätzen lassen."
   ]
  },
  {
   "cell_type": "code",
   "execution_count": null,
   "id": "be555ead",
   "metadata": {},
   "outputs": [],
   "source": [
    "model_2 = LinearRegression()\n",
    "model_2.fit(x,y) # berechnet die Regressions Gerade\n",
    "print(model_2.coef_, model_2.intercept_ ) "
   ]
  },
  {
   "cell_type": "markdown",
   "id": "528d0fc1",
   "metadata": {},
   "source": [
    "Wie Sie sehen, erhalten Sie jetzt insgesamt 3 Parameter. Der Regressionskoeffizient für das molekulare Gewicht ist `-4.65` und für die Anzahl der Kohlenstoff `83.18`. `sklearn` hat auch eine Funktion `predict()`. Mit ihr können wir automatisch Vorhersagen mit den zuvor geschätzten Parametern machen. In der folgenden zele benutzten wir diese FUnktion, um `y_hat` für die `x` Werte zuberechnen. "
   ]
  },
  {
   "cell_type": "code",
   "execution_count": null,
   "id": "fa42cf1d",
   "metadata": {},
   "outputs": [],
   "source": [
    "y_hat = model_2.predict(x)\n",
    "RMSE(y, y_hat) "
   ]
  },
  {
   "cell_type": "markdown",
   "id": "50a40d10",
   "metadata": {},
   "source": [
    "Durch die Verwendung einer weiteren Variable in der Regression konnten wir den Loss (RMSE) fast halbieren. Das bedeutet, dass das Modell mit zwei Inputvariablen zu deutlich besseren Vorhersagen führt als das erste Modell mit nur einer Eingangsvariablen."
   ]
  },
  {
   "cell_type": "markdown",
   "id": "5ff633a3",
   "metadata": {},
   "source": [
    "# Logistische Regression\n",
    "\n",
    "Es gibt auch Probleme, bei denen nicht exakte Werte vorhergesagt werden sollen. Wir wollen zum Beispiel entscheiden, ob ein Patient auf die Intensivstation muss oder nicht. Hier müssen wir nur zwischen `JA` und `NEIN` entscheiden. Mathematisch gesehen würden wir jedoch von `1` oder `0` sprechen. Wenn ein Datenpunkt zu einer von zwei Gruppen gehören kann, wprechen wir von einer **binären Klassifizierung**. \n",
    "\n",
    "Hier haben wir ein Beispiel eines Basketballspielers, der aus verschiedenen Entfernungen auf den Korb wirft. \n",
    "Wenn er einen Korb erzielt, wird dieser Wurf mit einer `1` bewertet. Trifft er nicht, wird dieser Wurf mit einer `0` bewertet."
   ]
  },
  {
   "cell_type": "code",
   "execution_count": null,
   "id": "d9451c27",
   "metadata": {},
   "outputs": [],
   "source": [
    "körbe = np.array([1,1,1,1,1,1,0,1,0,1,1,0,0,1,1,0,0,0,1,0,0,0,0,0,1,0,0,0,0,0])    \n",
    "distanz = np.array([0.,1.,2.,3.,4.,5.,6.,7.,8.,9.,10.,11.,12.,13.,14.,\n",
    "                    15.,16.,17.,18.,19.,20.,21.,22.,23.,24.,25.,26.,27.,28.,29.])"
   ]
  },
  {
   "cell_type": "markdown",
   "id": "fd1ce03e",
   "metadata": {},
   "source": [
    "Es ist möglich, eine einfache Regressionsgerade zu berechnen, die aber wegen der binären Variable $y$ nicht sehr gut zu den Daten passt. Eine Lösung ist die logistische Regression. Hier wird eine Sigmoidfunktion \"nach\" der linearen Regression verwendet, um die vorhergesagten Werte zu transformieren. \n",
    "\n",
    "<table><tr>\n",
    "<td> <img src='Img/intro_stats/log1.png' alt=\"Drawing\" style=\"width: 250px;\"/> </td>\n",
    "<td> <img src='Img/intro_stats/log2.png' alt=\"Drawing\" style=\"width: 250px;\"/> </td>\n",
    "<td> <img src='Img/intro_stats/log3.png' alt=\"Drawing\" style=\"width: 250px;\"/> </td>\n",
    "</tr></table>\n",
    "<br>\n",
    "\n",
    "\n",
    "---\n",
    "\n",
    "<center>\n",
    "<h2>Sigmoid Funktion</h2>\n",
    "</center>\n",
    "\n",
    "Die Sigmoid Funktion ist eine nicht lineare Funktion. Mathematische wird die Sigmoid Funktion so geschrieben:\n",
    "$$sigmoid(z)= \\frac{1}{1+e^{-z}}$$\n",
    "\n",
    "Um zu verstehen, was es genau macht, können Sie sich das Beispiel ansehen.\n",
    "\n",
    "<td> <img src='Img/intro_stats/sigmoid.png' alt=\"Drawing\" style=\"width: 250px;\"/> \n",
    "    \n",
    "Auf der x-Achse befinden sich Werte zwischen -6 und 6, **bevor** die Sigmoidfunktion auf diese Werte angewendet wird. Auf der y-Achse sind die gleichen Werte zu sehen, aber diesmal nach Anwendung der Sigmoidfunktion. \n",
    "Alle Werte liegen jetzt zwischen 0 und 1. Werte, die vorher sehr weit von 0 entfernt waren, liegen jetzt sehr nahe bei `0` oder `1`.\n",
    "    \n",
    "Die Form dieser Funktion passt viel besser zu einer binären Klassifizierung.\n",
    "\n",
    "Um eine logistische Regression durchzuführen, können wir auf das bereits gelernt aufbauen.\n",
    "Wir haben die gleiche Situation, wir wollen eine Vorhersage für `y` anhand unserer Inputs `x` machen.     \n",
    "\n",
    "Dazu setzen wir einfach die Werte aus der linearen Regression in die Sigmoidfunktion ein.\n",
    "$$ z = mx+t $$\n",
    "$$\\hat{y} = sigmoid(z) = \\frac{1}{1+e^{-z}} = \\frac{1}{1+e^{-(mx+t)}} $$    \n",
    "\n",
    "Berechnen Sie nun `z` durch Anwendung der `reg` auf die Werte `distanz`. Da Sie nun `numpy` verwenden können, benötigen Sie keinen `for-loop` mehr.\n",
    "Für das Beispiel mit dem Basketballspieler sind die folgenden Parameter gegeben:\n",
    "- `m` = -0.8\n",
    "- `t` = 7"
   ]
  },
  {
   "cell_type": "markdown",
   "id": "480980ec",
   "metadata": {},
   "source": [
    "Berechnet nun `z` indem ihr die `reg` auf die Werte der Distanz anwenden.\n",
    "Da Sie jetzt `numpy` benutzen können brauchen Sie keinen for-loop mehr."
   ]
  },
  {
   "cell_type": "code",
   "execution_count": null,
   "id": "5df6f1af",
   "metadata": {
    "scrolled": true
   },
   "outputs": [],
   "source": [
    "z = reg(____)  # diesmal heißt unsere input variable nicht x\n",
    "z"
   ]
  },
  {
   "cell_type": "markdown",
   "id": "5082d10a",
   "metadata": {},
   "source": [
    "<details>\n",
    "<summary><b>Lösung:</b></summary>\n",
    "\n",
    "```python\n",
    "z = reg(distanz,-0.8,7) \n",
    "```\n",
    "</details>    "
   ]
  },
  {
   "cell_type": "markdown",
   "id": "ffb00ca8",
   "metadata": {},
   "source": [
    "Als nächstes brauchen Sie die Sigmoid-Funktion. Schreibe dafür eine Funktion in Python mit `numpy`. $e^x$ kann als `np.exp(x)` mit `numpy` geschrieben werden."
   ]
  },
  {
   "cell_type": "code",
   "execution_count": null,
   "id": "2eb3820a",
   "metadata": {},
   "outputs": [],
   "source": [
    "def sigmoid(wert):\n",
    "    return 1/(___________) # Hier den Nenner der sigmoid Funktion einfügen"
   ]
  },
  {
   "cell_type": "markdown",
   "id": "ce7445a1",
   "metadata": {},
   "source": [
    "<details>\n",
    "<summary><b>Lösung:</b></summary>\n",
    "    \n",
    "```python\n",
    "def sigmoid(wert):\n",
    "    return 1/(1+np.exp(-wert))\n",
    "```\n",
    "</details>    "
   ]
  },
  {
   "cell_type": "markdown",
   "id": "beefb2fd",
   "metadata": {},
   "source": [
    "Im letzten Schritt berechnen Sie `y_hat` mithilfe von `z` und der `sigmoid` Funktion. "
   ]
  },
  {
   "cell_type": "code",
   "execution_count": null,
   "id": "f60726e1",
   "metadata": {},
   "outputs": [],
   "source": [
    "y_hat = sigmoid(_____)# Welchen Input braucht die Sigmoid Funktion?\n",
    "y_hat"
   ]
  },
  {
   "cell_type": "markdown",
   "id": "ae02cd44",
   "metadata": {},
   "source": [
    "<details>\n",
    "<summary><b>Lösung:</b></summary>\n",
    "    \n",
    "```python\n",
    "y_hat = sigmoid(z)\n",
    "```\n",
    "</details>    "
   ]
  },
  {
   "cell_type": "markdown",
   "id": "d14c8c82",
   "metadata": {},
   "source": [
    "Wie Sie sehen können, liegen alle Werte jetzt zwischen `0` und `1`. Eigentlich wollten wir Werte, die genau `0` oder `1` sind, nicht Werte dazwischen. Tatsächlich können die Werte von `y_hat` als eine Art von Wahrscheinlichkeit verstanden werden. Ein vorhergesagter Wert von `0,99908895` bedeutet, dass der Basketballer, dem Modell zufolge, in 0,99% der Fälle einen Korb erzielt. Umgekehrt bedeutet ein Wert von 0,00135852, dass nach dem Modell nur eine Wahrscheinlichkeit von 0,14 % besteht, einen Korb zu erzielen.\n",
    "\n",
    "In der folgenden Abbildung sind die vorhergesagten Werte zusammen mit den vorhergesagten Bildern dargestellt. \n",
    "\n",
    "<img src='Img/intro_stats/log4.png' alt=\"Zeichnung\" width=\"500px\"/> \n",
    "\n",
    "Normalerweise werden die Wahrscheinlichkeiten so interpretiert, dass das Modell ab einem Wert `>=0,5` eine `1`, also einen Treffer, und darunter eine `0` (Fehlwurf) vorhersagt.\n",
    "\n",
    "So können wir die Accuracy (deutsch: Genauigkeit) des Modells anhand des Prozentsatzes der korrekt klassifizierten Würfe beurteilen. \n",
    "Zuerst runden wir `y_hat`. Dadurch erhalten wir nur `0` und `1` als Vorhersagen."
   ]
  },
  {
   "cell_type": "code",
   "execution_count": null,
   "id": "04d5813b",
   "metadata": {},
   "outputs": [],
   "source": [
    "pred = np.round(y_hat)\n",
    "pred"
   ]
  },
  {
   "cell_type": "markdown",
   "id": "7072c7e8",
   "metadata": {},
   "source": [
    "Sie können jetzt vergleichen, ob `pred` mit der ursprünglichen `y` Variable `körbe` übereinstimmt. "
   ]
  },
  {
   "cell_type": "code",
   "execution_count": null,
   "id": "102bb2cc",
   "metadata": {},
   "outputs": [],
   "source": [
    "pred==körbe"
   ]
  },
  {
   "cell_type": "markdown",
   "id": "30c0f5b3",
   "metadata": {},
   "source": [
    "Schreibe eine Funktion, die die Genauigkeit/Accuracy (Prozentsatz der richtig klassifizierten Würfe) berechnet. Denken Sie daran, dass `booleans`, d.h. `True` und `False`, in Python auch als `1` bzw. `0` zählen."
   ]
  },
  {
   "cell_type": "code",
   "execution_count": null,
   "id": "847a215d",
   "metadata": {},
   "outputs": [],
   "source": [
    "def accuracy(y_true, y_pred):\n",
    "    return np.sum(y_true==___) / len(____) "
   ]
  },
  {
   "cell_type": "markdown",
   "id": "5f5b269b",
   "metadata": {},
   "source": [
    "<details>\n",
    "<summary><b>Lösung:</b></summary>\n",
    "    \n",
    "```python\n",
    "def accuracy(y_true, y_pred):\n",
    "    return np.sum(y_true==y_pred)/len(y_true)\n",
    "```\n",
    "</details> "
   ]
  },
  {
   "cell_type": "code",
   "execution_count": null,
   "id": "259d99d6",
   "metadata": {},
   "outputs": [],
   "source": [
    "accuracy(körbe, pred)"
   ]
  },
  {
   "cell_type": "markdown",
   "id": "8dd20f55",
   "metadata": {},
   "source": [
    "## Binary Cross Entropy Loss\n",
    "\n",
    "Eine Accuracy von 0,73 bedeutet, dass das Modell in 73 % der Fälle das richtige Ergebnis vorhersagt. Ähnlich wie der RMSE ist dies eine Metrik zur Einschätzung, wie gut unser Modell ist.\n",
    "\n",
    "Oft wird jedoch nicht nur eine Metrik verwendet. Der Vorteil der Accuarcy ist, dass sie sehr einfach zu interpretieren ist. Aber einige mathematische Eigenschaften der Accuracy machen sie für bestimmte maschinelle Lernverfahren ungeeignet. Daher werden in der Regel mindestens zwei verschiedene Metriken verwendet. \n",
    "\n",
    "Die in der Klassifikation zusätzlich verwendete Metrik ist der **Cross Entropy** Loss. Im Falle eines binären Klassifikationsproblems spricht man üblicherweise von **Binary Cross Entropy** (BCE) Loss. \n",
    "\n",
    "$$Loss =-\\frac{1}{n}\\sum_{i=0}^n[y_i\\cdot log(\\hat{y}_i) + (1-y_i)\\cdot log(1-\\hat{y}_i)]$$\n",
    "\n",
    "Die Formel sieht auf den ersten Blick sehr kompliziert aus, ist aber anhand von Beispielen relativ einfach zu verstehen.\n",
    "Nehmen wir an, wir wollen den Loss für nur einen Datenpunkt berechnen, z.B. für einen einzelnen Wurf des Basketballspielers. Dann ist $n = 1$ und die obige Formel vereinfacht sich:\n",
    "\n",
    "\n",
    "$$Loss =-[y_i\\cdot log(\\hat{y}_i) + (1-y_i)\\cdot log(1-\\hat{y}_i)]$$\n",
    "\n",
    "\n",
    "##### Angenommen der Basketballer hat den Wurf nicht getroffen, dann ist $y_i=0$.\n",
    "\n",
    "<img src='Img/intro_stats/bce_1.gif' alt=\"Drawing\" width= \"500px\" style=\"display:block; margin:auto\"/> \n",
    "\n",
    "Daraus resultiert:\n",
    "\n",
    "$$\\begin{align}\n",
    "Loss&=-(0\\cdot log(\\hat{y}_i) + (1-0)\\cdot log(1-\\hat{y}_i))\\\\\n",
    "&=-log(1-\\hat{y}_i)\n",
    "\\end{align}\n",
    "$$\n",
    "\n",
    "\n",
    "Das heißt, der Loss für diesen Wurf ist der $log$ der Differenz von 1 und $\\hat{y}$ (die vorhergesagte Wahrscheinlichkeit).\n",
    "\n",
    "Sie können ausprobieren, was mit dem Loss für verschiedene Wahrscheinlichkeiten passiert. Denken Sie daran, dass der wahre Wert $y_i=0$ ist. Ein gutes Modell würde also eine geringe Wahrscheinlichkeit vorhersagen, so dass ein geringer Loss zu erwarten ist."
   ]
  },
  {
   "cell_type": "code",
   "execution_count": null,
   "id": "ef070203",
   "metadata": {},
   "outputs": [],
   "source": [
    "# setzen Sie verschieden Wahrscheinlichkeiten in die Formel unten ein und schauen Sie was mit dem Loss passiert.\n",
    "\n",
    "- np.log(1 - 0.___ ) \n"
   ]
  },
  {
   "cell_type": "markdown",
   "id": "f087ab25",
   "metadata": {},
   "source": [
    "Zunächst einmal werden Sie feststellen, dass der Loss immer negativ ist, weshalb in der eigentlichen Formel von oben ein Minus steht, um den Loss wieder positiv zu machen. \n",
    "\n",
    "Sie können sehen, dass sich der Loss bei besonders hohen Wahrscheinlichkeiten von Null entfernt. Bei besonders kleinen Wahrscheinlichkeiten geht der Loss gegen Null. Das bedeutet, dass der Loss umso größer ist, je \"falscher\" unser Modell ist, und das ist genau das, was wir wollen.\n",
    "\n",
    "##### Angenommen unser Basketballer hat den Wurf getroffen, dann ist $y_i=1$\n",
    "<img src='Img/intro_stats/bce_2.gif' alt=\"Drawing\" width= \"500px\" style=\"display:block; margin:auto\"/>\n",
    "\n",
    "$$\n",
    "\\begin{align}Loss &=-(1\\cdot log(\\hat{y}_i) + (1-1)\\cdot log(1-\\hat{y}_i))\\\\\n",
    "Loss &=-log(\\hat{y}_i)\n",
    "\\end{align}\n",
    "$$\n",
    "\n",
    "Dieses Mal bleibt ein anderer, aber immer noch einfacher Teil der Formel übrig.\n",
    "Versuchen Sie auch diesen Term mit verschiedenen Wahrscheinlichkeiten. \n",
    "Diesmal wäre eine Wahrscheinlichkeit nahe bei 1 richtig, was zu einem kleinen Loss führen sollte."
   ]
  },
  {
   "cell_type": "code",
   "execution_count": null,
   "id": "2cac7059",
   "metadata": {},
   "outputs": [],
   "source": [
    "-np.log(0.___)# setzen Sie hier verschiedene Wahrscheinlichkeiten ein"
   ]
  },
  {
   "cell_type": "markdown",
   "id": "ac2a4a5c",
   "metadata": {},
   "source": [
    "Auch hier nimmt der Loss zu, je weiter sich die Wahrscheinlichkeit vom wahren Wert entfernt. \n",
    "\n",
    "Der Loss ist daher nur komplex genug, um sowohl einen wahren Wert von `1` als auch `0` abzudecken.  Der Faktor $log$ wird verwendet, damit Werte, die weiter vom wahren Wert entfernt sind, einen überproportionalen Einfluss auf den Loss haben. Der zurvor ignorierte Teil der Formel $\\frac{1}{n}\\sum_{i=1}^n$ berechnet nur den Durchschnitt über alle Datenpunkte im Datensatz. \n",
    "\n",
    "Im Folgenden wird die Formel für den BCE mit `numpy` definiert."
   ]
  },
  {
   "cell_type": "code",
   "execution_count": null,
   "id": "dce086bc",
   "metadata": {},
   "outputs": [],
   "source": [
    "def BCE(y_true, y_hat):\n",
    "    return -np.mean(y_true*np.log(y_hat) +(1-y_true)* np.log(1-y_hat))"
   ]
  },
  {
   "cell_type": "code",
   "execution_count": null,
   "id": "7b00f862",
   "metadata": {},
   "outputs": [],
   "source": [
    "BCE(körbe, y_hat)"
   ]
  },
  {
   "cell_type": "markdown",
   "id": "e4fd163f",
   "metadata": {},
   "source": [
    "## ROC-AUC \n",
    "\n",
    "Als letztes stellen wir die ROC-AUC als Alternative zur Accuracy vor. Die AUC kennen Sie vielleicht von einer HPLC oder NMR. Er bezeichnet die *Area under Curve*, d. h. die Fläche unter einer Kurve. In diesem Fall geht es um die Fläche unter der ROC-Kurve. \n",
    "\n",
    "Bevor wir uns näher mit dieser ROC-Kurve befassen, sollten wir klären, warum wir überhaupt eine Alternative für Accuarcy verwenden. \n",
    "\n",
    "Nehmen wir an, Sie schreiben ein Programm, das zwischen Hunden und Katzen unterscheiden soll.\n",
    "Sie haben neun Bilder von Hunden und nur eines von einer Katze. \n",
    "\n",
    "<img src='Img/intro_stats/catvdogs.png' alt=\"Zeichnung\" width=\"500px\"/> "
   ]
  },
  {
   "cell_type": "code",
   "execution_count": null,
   "id": "70ce5999",
   "metadata": {},
   "outputs": [],
   "source": [
    "y = np.array([\"HUND\", \"KATZE\", \"HUND\",\"HUND\",\"HUND\",\"HUND\",\"HUND\",\"HUND\",\"HUND\",\"HUND\"])"
   ]
  },
  {
   "cell_type": "markdown",
   "id": "0f97f165",
   "metadata": {},
   "source": [
    "Es gibt einen großen Unterschied zwischen der Anzahl von Katzen und Hunden im Datensatz. \n",
    "Können Sie einen Weg finden, immer eine Vorhersage-Accuracy von 90% zu erreichen, ohne die Bilder jemals gesehen zu haben, und sie zufällig angeordnet sind?\n",
    "Die Funktion \"shuffle\" ordnet die Elemente jedes Mal in zufälliger Reihenfolge an."
   ]
  },
  {
   "cell_type": "code",
   "execution_count": null,
   "id": "dc2cb60f",
   "metadata": {},
   "outputs": [],
   "source": [
    "shuffle(y) # ordnet die Elemente im Array zufällig an \n",
    "y_pred = np.array([___,____,____,____,_____,_____,____,____,____,_____])# schreiben sie hier ihre Antwort\n",
    "accuracy(y, y_pred)"
   ]
  },
  {
   "cell_type": "markdown",
   "id": "a605b11d",
   "metadata": {},
   "source": [
    "<details>\n",
    "<summary><b>Lösung:</b></summary>\n",
    "    \n",
    "```python\n",
    "y_pred = np.array([\"HUND\", \"HUND\", \"HUND\",\"HUND\",\"HUND\",\"HUND\",\"HUND\",\"HUND\",\"HUND\", \"HUND\"]) \n",
    "```\n",
    "</details> "
   ]
  },
  {
   "cell_type": "markdown",
   "id": "92b8fa91",
   "metadata": {},
   "source": [
    "Wenn Sie jedes Bild einfach als Hund klassifizieren, erhalten Sie  immer eine Accuracy von 0.9. \n",
    "Das bedeutet, dass ein Modell, das nichts im Bild erkennt, eine Genauigkeit von 0,9 erreichen kann. \n",
    "Wir können also anhand der Genauigkeit nicht wirklich sagen, ob unser Modell etwas gelernt hat oder einfach nur immer `DOG` erkennt. \n",
    "Je größer das Ungleichgewicht zwischen den verschiedenen Klassen ist (*class imbalance*), z. B. \"Hund\" gegenüber \"Katze\", desto weniger wertvoll ist die Genauigkeit als Metrik. \n",
    "\n",
    "Es gibt alternative Metriken, die für Klassifizierungen mit *class imbalance* besser geeignet sind. Eine davon ist die ROC-AUC.\n",
    "\n",
    "ROC ist die Receiver-Operator-Charakteristik, eine Kurve, die das Verhältnis zwischen der *wahren positiven Rate* und der *falsch positiven Rate* beschreibt. Der AUC ist die Fläche unter der ROC-Kurve.\n",
    "\n",
    "<img src='Img/intro_stats/roc_auc.png' alt=\"Drawing\" width= \"300px\"/> \n",
    "\n",
    "*Was bedeuten True und False Positve Rate?*<br><br>\n",
    "Angenommen wir hätten Hunde als `1` und Katze als `0` codiert. Die True-Positive-Rate (TPR) würde dann den Prozentsatz der korrekt identifizierten Hundebilder wiedergeben.<br><br>\n",
    "$$TPR = \\frac{\\textrm{Anzahl korrekt klassifizierten Hunde Bilder}}{\\textrm{Anzahl aller Hunde Bilder}}$$\n",
    "\n",
    "Angenommen, das Modell erkennt jedes Bild als Hund, wie hoch ist dann die True Positive Rate?"
   ]
  },
  {
   "cell_type": "code",
   "execution_count": null,
   "id": "9496b2df",
   "metadata": {},
   "outputs": [],
   "source": [
    "TPR = ___/___ \n",
    "TPR"
   ]
  },
  {
   "cell_type": "markdown",
   "id": "11bb1f68",
   "metadata": {},
   "source": [
    "<details>\n",
    "<summary><b>Lösung:</b></summary>\n",
    "    \n",
    "```python\n",
    "TPR = 9/9\n",
    "```\n",
    "</details> "
   ]
  },
  {
   "cell_type": "markdown",
   "id": "54e766ff",
   "metadata": {},
   "source": [
    "Wie Sie sich vorstellen können, ist die Falsch-Positiv-Rate (FPR) sehr ähnlich. Hier nehemn wir diesmal die Katzen.\n",
    "\n",
    "$$FPR= \\frac{\\textrm{Anzahl Katzen, die als Hund klassifiziert wurden}}{\\textrm{Anzahl aller Katzen Bilder}}$$\n",
    "\n",
    "Angenommen das Model erkennt jedes Bild als Hund, was ist die True Positive Rate?"
   ]
  },
  {
   "cell_type": "code",
   "execution_count": null,
   "id": "ea2b50a9",
   "metadata": {},
   "outputs": [],
   "source": [
    "FPR = ___/___\n",
    "FPR"
   ]
  },
  {
   "cell_type": "markdown",
   "id": "7ffab391",
   "metadata": {},
   "source": [
    "<details>\n",
    "<summary><b>Lösung:</b></summary>\n",
    "    \n",
    "```python\n",
    "FPR = 1/1\n",
    "```\n",
    "</details> "
   ]
  },
  {
   "cell_type": "markdown",
   "id": "28e34de1",
   "metadata": {},
   "source": [
    "Nun etwas förmlicher:  Der ROC-AUC gibt Auskunft über das Verhältnis zwischen der Performance eines Modells bei Hunden und der Performance bei Katzen. Die Berechnung des ROC AUC ist etwas komplizierter als die Berechnung von FPR und TPR. \n",
    "Aber es ist wichtig, diese Abhängigkeiten zu kennen. \n",
    "Ein ROC-AUC-Wert liegt immer zwischen 0 und 1. 1 bedeutet eine perfekte Klassifizierung, und ein Wert von 0,5 bedeutet eine reine Zufallsentscheidung. \n",
    "Um den ROC-AUC zu berechnen, können wir die Funktion `roc_auc_score` von `sklearn` verwenden. "
   ]
  },
  {
   "cell_type": "code",
   "execution_count": null,
   "id": "9c91a318",
   "metadata": {},
   "outputs": [],
   "source": [
    "from sklearn.metrics import roc_auc_score\n",
    "y_true = np.array([1,0,1,1,1,1,1,1,1,1]) # Wir haben diesmal Hunde und Katzen in 1 und 0 umcodiert\n",
    "y_pred = np.array([1,1,1,1,1,1,1,1,1,1])\n",
    "roc_auc_score(y_true ,y_pred )"
   ]
  },
  {
   "cell_type": "markdown",
   "id": "f1e060ef",
   "metadata": {},
   "source": [
    "Sie können sehen, dass der ROC-AUC-Wert nur 0,5 beträgt. Das Modell ist nicht besser als eine Zufallsentscheidung.\n",
    "In der Praxis arbeiten wir jedoch mit vorhergesagten Wahrscheinlichkeiten, d. h. mit Werten zwischen 0 und 1, anstatt nur mit `0` und `1`. Dies kann auch zur Berechnung des ROC-AUC-Scores verwendet werden.\n",
    "\n",
    "Versuchen Sie, die Wahrscheinlichkeiten für die Katze (zweite Position) zu ändern.\n",
    "Denken Sie daran, dass wir ein Bild ab einem Wert von 0,5 als Hund klassifizieren. "
   ]
  },
  {
   "cell_type": "code",
   "execution_count": null,
   "id": "1223da82",
   "metadata": {},
   "outputs": [],
   "source": [
    "y_true = np.array([1,0,1,1,1,1,1,1,1,1]) # Wir haben diesmal Hunde und Katzen in 1 und 0 umcodiert\n",
    "y_hat = np.array([0.91,____,0.99,0.99,0.99,0.98,0.8,0.7,0.8,0.97])\n",
    "roc_auc_score(y_true ,y_hat )"
   ]
  },
  {
   "cell_type": "markdown",
   "id": "4f5bede8",
   "metadata": {},
   "source": [
    "# Übungsaufgabe\n",
    "\n",
    "Bitte zur Benotung abgeben!\n",
    "\n",
    "Es gibt auch logistische Regressionen mit mehr als einer `x`-Variable. \n",
    "\n",
    "Die Daten basieren auf dem *Iris-Datensatz*. \n",
    "[Hier](https://en.wikipedia.org/wiki/Iris_flower_data_set) gibt es mehr Informationen darüber.\n",
    "Das Ziel ist es, zwischen zwei Arten von Irisblüten zu unterscheiden. *Iris setosa* (`0`) vs. *Iris versicolor* (`1`).\n",
    "\n",
    "Die Modellparameter sind bereits geschätzt worden. In den folgenden Zellen sind drei Regressionskoeffizienten angegeben.\n",
    "\n",
    "Ihre Aufgabe ist es, diese Koeffizienten zu verwenden, um zu sehen wie gut das Modell funktioniert. Sie bestimmen die Zugehörigkeit von fünf Blumen (`x`). Sie können die Schätzungen des Modells mit den wahren Werten in `y` vergleichen. \n",
    "\n",
    "`beta_1` gehört natürlich zu der Variablen in der ersten Spalte von `x` usw."
   ]
  },
  {
   "cell_type": "code",
   "execution_count": null,
   "id": "63d6e189",
   "metadata": {},
   "outputs": [],
   "source": [
    "beta_1 = 3.0786959\n",
    "beta_2 = -3.0220097\n",
    "beta_0 = -7.306345489594484\n",
    "\n",
    "\n",
    "x =  np.array([[5.1, 3.5],\n",
    "               [5. , 3.6],\n",
    "               [5.4, 3.4],\n",
    "               [6.7, 3.1],\n",
    "               [5.1, 2.5]])\n",
    "\n",
    "y = np.array([0,0,0,1,1])"
   ]
  },
  {
   "cell_type": "markdown",
   "id": "44596e40",
   "metadata": {},
   "source": [
    "Berechnen Sie zunächst `z`:"
   ]
  },
  {
   "cell_type": "code",
   "execution_count": null,
   "id": "bc4ae619",
   "metadata": {},
   "outputs": [],
   "source": [
    "z = beta_0 + ___*____ +_____*______"
   ]
  },
  {
   "cell_type": "markdown",
   "id": "32c05198",
   "metadata": {},
   "source": [
    "Konvertieren Sie `z` zu Wahrscheinlichkeiten mit der `sigmoid` Funktion:"
   ]
  },
  {
   "cell_type": "code",
   "execution_count": null,
   "id": "ed5aaa90",
   "metadata": {},
   "outputs": [],
   "source": [
    "y_hat = _____\n",
    "y_hat"
   ]
  },
  {
   "cell_type": "markdown",
   "id": "aca74ae2",
   "metadata": {},
   "source": [
    "Berechnen sie die Genaugigkeit/Accuracy:"
   ]
  },
  {
   "cell_type": "code",
   "execution_count": null,
   "id": "5091b72c",
   "metadata": {},
   "outputs": [],
   "source": [
    "y_pred = _____(y_hat)\n",
    "accuracy(______,____)"
   ]
  },
  {
   "cell_type": "markdown",
   "id": "97d3444d",
   "metadata": {},
   "source": [
    "Als letzes berechnen Sie noch den ROC-AUC:"
   ]
  },
  {
   "cell_type": "code",
   "execution_count": null,
   "id": "f73f40c2",
   "metadata": {},
   "outputs": [],
   "source": [
    "# write your calculation of the ROC-AUC here"
   ]
  }
 ],
 "metadata": {
  "kernelspec": {
   "display_name": "Python 3 (ipykernel)",
   "language": "python",
   "name": "python3"
  },
  "language_info": {
   "codemirror_mode": {
    "name": "ipython",
    "version": 3
   },
   "file_extension": ".py",
   "mimetype": "text/x-python",
   "name": "python",
   "nbconvert_exporter": "python",
   "pygments_lexer": "ipython3",
   "version": "3.7.11"
  }
 },
 "nbformat": 4,
 "nbformat_minor": 5
}
